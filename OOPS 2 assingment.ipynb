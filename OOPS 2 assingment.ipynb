{
 "cells": [
  {
   "cell_type": "code",
   "execution_count": 1,
   "id": "31320a22-dd83-4865-8543-820eac3b0acb",
   "metadata": {},
   "outputs": [],
   "source": [
    "## CONSTRUCTOR"
   ]
  },
  {
   "cell_type": "code",
   "execution_count": null,
   "id": "97cd57d6-bfe2-4c65-a299-50ce1ebffee6",
   "metadata": {},
   "outputs": [],
   "source": []
  },
  {
   "cell_type": "code",
   "execution_count": 2,
   "id": "c6df4e4a-d183-44de-9723-edfb488015f0",
   "metadata": {},
   "outputs": [
    {
     "data": {
      "text/plain": [
       "'A constructor in Python is a special method that is called when an object of a class is created. It is defined using the __init__ method in the class, and it can be used to initialize the attributes of the object, such as setting default values or passing arguments. A constructor can also perform other tasks that are necessary for the object’s creation, such as opening files, connecting to databases, or validating inputs. A constructor can be either default or parameterized, depending on whether it accepts any arguments or not123.\\n\\nThe purpose of a constructor in Python is to provide a way to customize the object’s initialization and ensure that it is in a valid state. For example, if we have a class that represents a bank account, we can use a constructor to set the initial balance, the account number, and the owner’s name. We can also check that the balance is not negative, and raise an exception if it is. This way, we can prevent the creation of invalid objects that could cause errors later.\\n\\nThe usage of a constructor in Python is simple and straightforward. We just need to define the __init__ method in the class, and use the self parameter to refer to the current object. We can also use other parameters to pass arguments to the constructor, and assign them to the object’s attributes'"
      ]
     },
     "execution_count": 2,
     "metadata": {},
     "output_type": "execute_result"
    }
   ],
   "source": [
    "#1.What is a constructor in Python? Explain its purpose and usage.\n",
    "\n",
    "\"\"\"A constructor in Python is a special method that is called when an object of a class is created. It is defined using the __init__ method in the class, and it can be used to initialize the attributes of the object, such as setting default values or passing arguments. A constructor can also perform other tasks that are necessary for the object’s creation, such as opening files, connecting to databases, or validating inputs. A constructor can be either default or parameterized, depending on whether it accepts any arguments or not123.\n",
    "\n",
    "The purpose of a constructor in Python is to provide a way to customize the object’s initialization and ensure that it is in a valid state. For example, if we have a class that represents a bank account, we can use a constructor to set the initial balance, the account number, and the owner’s name. We can also check that the balance is not negative, and raise an exception if it is. This way, we can prevent the creation of invalid objects that could cause errors later.\n",
    "\n",
    "The usage of a constructor in Python is simple and straightforward. We just need to define the __init__ method in the class, and use the self parameter to refer to the current object. We can also use other parameters to pass arguments to the constructor, and assign them to the object’s attributes\"\"\"\n"
   ]
  },
  {
   "cell_type": "code",
   "execution_count": 5,
   "id": "3f1c8a2e-5946-434b-b790-28c468c3817d",
   "metadata": {},
   "outputs": [
    {
     "data": {
      "text/plain": [
       "'A parameterless constructor is a constructor that does not take any arguments and has a default behavior. A parameterized constructor is a constructor that takes one or more arguments and uses them to initialize the attributes of the object. For example, in Python:\\n\\nA parameterless constructor\\nclass Animal: def init(self): self.name = “Unknown” self.sound = “None”\\n\\nA parameterized constructor\\nclass Animal: def init(self, name, sound): self.name = name self.sound = sound\\n\\nThe difference between a parameterless constructor and a parameterized constructor is that the former creates an object with some default values, while the latter allows the user to specify the values of the attributes at the time of object creation. A parameterless constructor is useful when the user does not need to customize the object, while a parameterized constructor is useful when the user wants to create an object with specific characteristics.'"
      ]
     },
     "execution_count": 5,
     "metadata": {},
     "output_type": "execute_result"
    }
   ],
   "source": [
    "#2.2. Differentiate between a parameterless constructor and a parameterized constructor in Python.\n",
    "\n",
    "\"\"\"A parameterless constructor is a constructor that does not take any arguments and has a default behavior. A parameterized constructor is a constructor that takes one or more arguments and uses them to initialize the attributes of the object. For example, in Python:\n",
    "\n",
    "A parameterless constructor\n",
    "class Animal: def init(self): self.name = “Unknown” self.sound = “None”\n",
    "\n",
    "A parameterized constructor\n",
    "class Animal: def init(self, name, sound): self.name = name self.sound = sound\n",
    "\n",
    "The difference between a parameterless constructor and a parameterized constructor is that the former creates an object with some default values, while the latter allows the user to specify the values of the attributes at the time of object creation. A parameterless constructor is useful when the user does not need to customize the object, while a parameterized constructor is useful when the user wants to create an object with specific characteristics.\"\"\""
   ]
  },
  {
   "cell_type": "code",
   "execution_count": 6,
   "id": "8bc277ee-1f41-4bbe-b1d1-474e68ab3a46",
   "metadata": {},
   "outputs": [],
   "source": [
    "#3.How do you define a constructor in a Python class? Provide an example.\n",
    "\n",
    "\"\"\"A constructor in Python is a special method that is called when an object of a class is created. It is defined in the class using the init () method, and can be used to initialize the attributes of the object. For example, the following code defines a class called Person with a constructor that takes two parameters, name and age, and assigns them to the object’s attributes:\"\"\"\n",
    "\n",
    "class Person:\n",
    "    def __init__ (self, name, age):\n",
    "        self.name = name\n",
    "        self.age = age"
   ]
  },
  {
   "cell_type": "code",
   "execution_count": 7,
   "id": "951d2884-6bf0-49d7-a63f-4b98f78203c1",
   "metadata": {},
   "outputs": [],
   "source": [
    "#4.Explain the `__init__` method in Python and its role in constructors.\n",
    "\n",
    "\"\"\"The __init__ method in Python is a special method that is automatically called when an object of a class is created. It is also known as the constructor method, because it is used to initialize the attributes of the object with the values passed as arguments\"\"\"\n",
    "\n",
    "class Person:\n",
    "    def __init__(self, name, age):\n",
    "        # validate the arguments\n",
    "        if not isinstance(name, str):\n",
    "            raise TypeError(\"name must be a string\")\n",
    "        if not isinstance(age, int):\n",
    "            raise TypeError(\"age must be an integer\")\n",
    "        # assign values to attributes\n",
    "        self.name = name\n",
    "        self.age = age"
   ]
  },
  {
   "cell_type": "code",
   "execution_count": 8,
   "id": "e047e4c6-efb0-47dc-a886-25746531ea39",
   "metadata": {},
   "outputs": [],
   "source": [
    "#5.In a class named `Person`, create a constructor that initializes the `name` and `age` attributes. Provide an example of creating an object of this class.\n",
    "\n",
    "class Person:\n",
    "    def __init__(self, name, age):\n",
    "        self.name = name\n",
    "        self.age = age\n",
    "    "
   ]
  },
  {
   "cell_type": "code",
   "execution_count": 9,
   "id": "bb3a680d-a933-4b04-ba81-0ccb1d2f479c",
   "metadata": {},
   "outputs": [],
   "source": [
    "p = Person(\"Alice\", 25)"
   ]
  },
  {
   "cell_type": "code",
   "execution_count": 10,
   "id": "3b1aa8d5-9119-4b10-bca8-2227ba9f1db7",
   "metadata": {},
   "outputs": [
    {
     "name": "stdout",
     "output_type": "stream",
     "text": [
      "Alice\n",
      "25\n"
     ]
    }
   ],
   "source": [
    "print(p.name) # Alice\n",
    "print(p.age) # 25"
   ]
  },
  {
   "cell_type": "code",
   "execution_count": 11,
   "id": "dd860ff9-5b81-4223-8bcd-bde1ce2acfe6",
   "metadata": {},
   "outputs": [],
   "source": [
    "#6.How can you call a constructor explicitly in Python? Give an example.\n",
    "\n",
    "\"\"\" You cannot call a constructor explicitly in Python, because the constructor is a special method that is automatically invoked when an object is created. The constructor is defined using the init () method in the class, and it can take arguments to initialize the object’s attributes. For example, consider the following class:\"\"\"\n",
    "\n",
    "class Person:\n",
    "    def __init__ (self, name, age):\n",
    "        self.name = name\n",
    "        self.age = age\n"
   ]
  },
  {
   "cell_type": "code",
   "execution_count": 12,
   "id": "7175ddcd-eb7f-4496-9665-198f308fd212",
   "metadata": {},
   "outputs": [],
   "source": [
    "#7. What is the significance of the `self` parameter in Python constructors? Explain with an example.\n",
    "\n",
    "\"\"\"The self parameter in Python constructors is a reference to the current instance of the class that is being created. It is needed because it allows the constructor to access and set the attributes of the instance. For example, consider the following code:\"\"\"\n",
    "\n",
    "class Student:\n",
    "    def __init__(self, name, age):\n",
    "        self.name = name\n",
    "        self.age = age\n",
    "\n",
    "s1 = Student(\"Alice\", 20)\n",
    "s2 = Student(\"Bob\", 19)\n"
   ]
  },
  {
   "cell_type": "code",
   "execution_count": 13,
   "id": "8d698677-f3c3-4296-b943-42bfaa8cfdc9",
   "metadata": {},
   "outputs": [],
   "source": [
    "#8. Discuss the concept of default constructors in Python. When are they used?\n",
    "\n",
    "\"\"\"You have asked me to discuss the concept of default constructors in Python. A default constructor is a constructor that takes no arguments and is defined implicitly by Python if no other constructor is defined. It initializes all the instance variables of a class to their default values. The default constructor is called automatically when an object of the class is created. Default constructors are useful when you want to create an object with a predefined set of attributes, but you don’t want to specify the values of those attributes when the object is created.\n",
    "\n",
    "For example, suppose you have a class called Person that has three attributes: name, age, and gender. You can define a default constructor for this class as follows:\"\"\"\n",
    "\n",
    "class Person:\n",
    "    def __init__(self):\n",
    "        self.name = \"Unknown\"\n",
    "        self.age = 0\n",
    "        self.gender = \"Unknown\"\n",
    "\n"
   ]
  },
  {
   "cell_type": "code",
   "execution_count": 14,
   "id": "e4f06202-74fa-437b-a59b-94135238287d",
   "metadata": {},
   "outputs": [],
   "source": [
    "#9. Create a Python class called `Rectangle` with a constructor that initializes the `width` and `height` attributes. Provide a method to calculate the area of the rectangle.\n",
    "\n",
    "class Rectangle:\n",
    "    def __init__(self, width, height):\n",
    "        # The constructor takes two arguments: width and height\n",
    "        # and assigns them to the instance variables self.width and self.height\n",
    "        self.width = width\n",
    "        self.height = height\n",
    "\n",
    "    def area(self):\n",
    "        # The method area returns the product of self.width and self.height\n",
    "        return self.width * self.height\n",
    "\n"
   ]
  },
  {
   "cell_type": "code",
   "execution_count": 15,
   "id": "16981279-b53a-4a3d-9377-34895ebc44ac",
   "metadata": {},
   "outputs": [],
   "source": [
    "r1 = Rectangle(10, 5)\n"
   ]
  },
  {
   "cell_type": "code",
   "execution_count": 16,
   "id": "5ac7eb2b-a15d-47ef-9144-903675c7d5dc",
   "metadata": {},
   "outputs": [
    {
     "name": "stdout",
     "output_type": "stream",
     "text": [
      "10\n",
      "15\n"
     ]
    }
   ],
   "source": [
    "print(r1.width) # 10\n",
    "r1.width = 15\n",
    "print(r1.width) # 15\n"
   ]
  },
  {
   "cell_type": "code",
   "execution_count": 17,
   "id": "de0363d1-be46-4259-8020-b7e258e1cf34",
   "metadata": {},
   "outputs": [],
   "source": [
    "#10. How can you have multiple constructors in a Python class? Explain with an example.\n",
    "\n",
    "class Point:\n",
    "    def __init__(self, x, y):\n",
    "        # The default constructor takes two arguments: x and y\n",
    "        # and assigns them to the instance variables self.x and self.y\n",
    "        self.x = x\n",
    "        self.y = y\n",
    "\n",
    "    @classmethod\n",
    "    def from_tuple(cls, tup):\n",
    "        # The class method takes one argument: a tuple of two numbers\n",
    "        # and creates and returns a Point object with the x and y values from the tuple\n",
    "        return cls(tup[0], tup[1])\n"
   ]
  },
  {
   "cell_type": "code",
   "execution_count": 18,
   "id": "7d654d52-8769-414a-a93a-334e5a887eac",
   "metadata": {},
   "outputs": [
    {
     "data": {
      "text/plain": [
       "'Method overloading is a feature of object-oriented programming that allows a class to have multiple methods with the same name but different parameters. This way, the same method name can perform different actions depending on the arguments passed to it. Constructors are special methods that are used to initialize an object when it is created. Constructor overloading is a type of method overloading that allows a class to have multiple constructors with different parameters. This way, the same class can create different types of objects depending on the arguments passed to the constructor.\\n\\nIn Python, however, method overloading and constructor overloading are not supported by default. This means that you cannot have multiple methods or constructors with the same name and different parameters in a single class. Python will only use the latest defined method or constructor and ignore the previous ones. To achieve method overloading or constructor overloading in Python, you need to use some techniques such as:\\n\\nUsing optional keyword-parameters, which allow you to specify default values for some parameters and omit them when calling the method or constructor. For example, def __init__(self, name=None): defines a constructor that can take either one or zero arguments.\\nUsing type checking, which allows you to perform different actions based on the type of the parameter. For example, if isinstance(name, str): checks if the parameter name is a string or not.\\nUsing multiple dispatch decorator, which is a third-party library that allows you to define multiple methods or constructors with the same name and different parameters, and automatically dispatches the appropriate one based on the types of the arguments. For example, @dispatch(int, int) defines a method that takes two integers as arguments.'"
      ]
     },
     "execution_count": 18,
     "metadata": {},
     "output_type": "execute_result"
    }
   ],
   "source": [
    "#11. What is method overloading, and how is it related to constructors in Python?\n",
    "\n",
    "\"\"\"Method overloading is a feature of object-oriented programming that allows a class to have multiple methods with the same name but different parameters. This way, the same method name can perform different actions depending on the arguments passed to it. Constructors are special methods that are used to initialize an object when it is created. Constructor overloading is a type of method overloading that allows a class to have multiple constructors with different parameters. This way, the same class can create different types of objects depending on the arguments passed to the constructor.\n",
    "\n",
    "In Python, however, method overloading and constructor overloading are not supported by default. This means that you cannot have multiple methods or constructors with the same name and different parameters in a single class. Python will only use the latest defined method or constructor and ignore the previous ones. To achieve method overloading or constructor overloading in Python, you need to use some techniques such as:\n",
    "\n",
    "Using optional keyword-parameters, which allow you to specify default values for some parameters and omit them when calling the method or constructor. For example, def __init__(self, name=None): defines a constructor that can take either one or zero arguments.\n",
    "Using type checking, which allows you to perform different actions based on the type of the parameter. For example, if isinstance(name, str): checks if the parameter name is a string or not.\n",
    "Using multiple dispatch decorator, which is a third-party library that allows you to define multiple methods or constructors with the same name and different parameters, and automatically dispatches the appropriate one based on the types of the arguments. For example, @dispatch(int, int) defines a method that takes two integers as arguments.\"\"\""
   ]
  },
  {
   "cell_type": "code",
   "execution_count": 19,
   "id": "7f774678-1d9d-49c1-a3db-55688e4ce236",
   "metadata": {},
   "outputs": [
    {
     "name": "stdout",
     "output_type": "stream",
     "text": [
      "Rex makes woof sound.\n",
      "Rex is a German Shepherd.\n"
     ]
    }
   ],
   "source": [
    "# 12.Explain the use of the `super()` function in Python constructors. Provide an example.\n",
    "\n",
    "\"\"\"The super() function in Python is used to refer to the parent class or superclass of a subclass. It allows you to call methods defined in the superclass from the subclass, enabling you to extend and customize the functionality inherited from the parent class12. For example, if you have a class called Animal that defines a method called make_sound(), and a subclass called Dog that inherits from Animal, you can use super() to access the make_sound() method of the Animal class from the Dog class. Here is an example of how to use the super() function in Python constructors:\"\"\"\n",
    "# Define the parent class\n",
    "class Animal:\n",
    "    # Define the constructor\n",
    "    def __init__(self, name, sound):\n",
    "        # Initialize the attributes\n",
    "        self.name = name\n",
    "        self.sound = sound\n",
    "\n",
    "    # Define a method to make sound\n",
    "    def make_sound(self):\n",
    "        print(f\"{self.name} makes {self.sound} sound.\")\n",
    "\n",
    "# Define the subclass\n",
    "class Dog(Animal):\n",
    "    # Define the constructor\n",
    "    def __init__(self, name, sound, breed):\n",
    "        # Call the parent class constructor using super()\n",
    "        super().__init__(name, sound)\n",
    "        # Initialize the additional attribute\n",
    "        self.breed = breed\n",
    "\n",
    "    # Define a method to show breed\n",
    "    def show_breed(self):\n",
    "        print(f\"{self.name} is a {self.breed}.\")\n",
    "\n",
    "# Create an instance of the subclass\n",
    "dog = Dog(\"Rex\", \"woof\", \"German Shepherd\")\n",
    "\n",
    "# Call the methods inherited from the parent class\n",
    "dog.make_sound()\n",
    "dog.show_breed()\n",
    "\n"
   ]
  },
  {
   "cell_type": "code",
   "execution_count": 20,
   "id": "62f7c7a0-da14-4bb2-b964-6aa50d351b3b",
   "metadata": {},
   "outputs": [
    {
     "name": "stdout",
     "output_type": "stream",
     "text": [
      "Title: The Catcher in the Rye\n",
      "Author: J.D. Salinger\n",
      "Published year: 1951\n"
     ]
    }
   ],
   "source": [
    "#13. Create a class called `Book` with a constructor that initializes the `title`, `author`, and `published_year` attributes. Provide a method to display book details.\n",
    "\n",
    "# Define the Book class\n",
    "class Book:\n",
    "    # Initialize the attributes\n",
    "    def __init__(self, title, author, published_year):\n",
    "        self.title = title\n",
    "        self.author = author\n",
    "        self.published_year = published_year\n",
    "    \n",
    "    # Display book details\n",
    "    def display(self):\n",
    "        print(f\"Title: {self.title}\")\n",
    "        print(f\"Author: {self.author}\")\n",
    "        print(f\"Published year: {self.published_year}\")\n",
    "\n",
    "# Create an instance of the Book class\n",
    "book1 = Book(\"The Catcher in the Rye\", \"J.D. Salinger\", 1951)\n",
    "\n",
    "# Call the display method\n",
    "book1.display()\n",
    "\n"
   ]
  },
  {
   "cell_type": "code",
   "execution_count": 21,
   "id": "634f2cf7-a549-4649-809a-e20a0457d9f9",
   "metadata": {},
   "outputs": [
    {
     "data": {
      "text/plain": [
       "'The differences between constructors and regular methods in Python classes are as follows:\\n\\nConstructors are special methods that are automatically called when an object of a class is created. They are used to initialize the attributes of the object and perform any necessary setup. Regular methods are normal functions that are defined inside a class and can be called by the object or the class itself. They are used to provide behaviors and functionalities to the object or the class.\\nConstructors have a fixed name, which is __init__, and must accept at least one parameter, which is self, a reference to the object being created. Regular methods can have any valid name and can accept any number of parameters, including zero. They must also have self as the first parameter if they are instance methods, or cls if they are class methods.\\nConstructors do not return any value, as they are implicitly called by Python and their return value is ignored. Regular methods can return any value, or None by default, as they are explicitly called by the user and their return value can be used or stored.\\nConstructors can only be overridden by subclasses, meaning that a subclass can define its own constructor that will replace the constructor of the parent class. Regular methods can be overridden or overloaded by subclasses, meaning that a subclass can either define a new method with the same name that will replace the method of the parent class, or define a new method with the same name but different parameters that will coexist with the method of the parent class.'"
      ]
     },
     "execution_count": 21,
     "metadata": {},
     "output_type": "execute_result"
    }
   ],
   "source": [
    "#14. Discuss the differences between constructors and regular methods in Python classes.\n",
    "\n",
    "\"\"\"The differences between constructors and regular methods in Python classes are as follows:\n",
    "\n",
    "Constructors are special methods that are automatically called when an object of a class is created. They are used to initialize the attributes of the object and perform any necessary setup. Regular methods are normal functions that are defined inside a class and can be called by the object or the class itself. They are used to provide behaviors and functionalities to the object or the class.\n",
    "Constructors have a fixed name, which is __init__, and must accept at least one parameter, which is self, a reference to the object being created. Regular methods can have any valid name and can accept any number of parameters, including zero. They must also have self as the first parameter if they are instance methods, or cls if they are class methods.\n",
    "Constructors do not return any value, as they are implicitly called by Python and their return value is ignored. Regular methods can return any value, or None by default, as they are explicitly called by the user and their return value can be used or stored.\n",
    "Constructors can only be overridden by subclasses, meaning that a subclass can define its own constructor that will replace the constructor of the parent class. Regular methods can be overridden or overloaded by subclasses, meaning that a subclass can either define a new method with the same name that will replace the method of the parent class, or define a new method with the same name but different parameters that will coexist with the method of the parent class.\"\"\""
   ]
  },
  {
   "cell_type": "code",
   "execution_count": 22,
   "id": "eaadb423-581d-4300-af2e-f3ebd3847a96",
   "metadata": {},
   "outputs": [
    {
     "data": {
      "text/plain": [
       "'The self parameter in instance variable initialization within a constructor is a reference to the object that is being created by the constructor. It allows the constructor to access and modify the attributes and methods of the object. For example, if we have a class called Person with an attribute called name, we can use the self parameter to assign a value to the name attribute when we create an object of the class. Here is an example of how to use the self parameter in a constructor:\\n\\nPython3 class Person: def init(self, name): # constructor with self and name parameters self.name = name # assign the value of name to the name attribute of the object\\n\\np1 = Person(“Alice”) # create an object of the class with name “Alice” print(p1.name) # print the name attribute of the object\\n\\nOutput: Alice\\n\\nThe self parameter is also used to access and call the methods of the object. For example, if we have a method called greet that prints a greeting message using the name attribute, we can use the self parameter to call the method from the object. Here is an example of how to use the self parameter in a method:\\n\\nPython3 class Person: def init(self, name): # constructor with self and name parameters self.name = name # assign the value of name to the name attribute of the object'"
      ]
     },
     "execution_count": 22,
     "metadata": {},
     "output_type": "execute_result"
    }
   ],
   "source": [
    "#15. Explain the role of the `self` parameter in instance variable initialization within a constructor.\n",
    "\n",
    "\"\"\"The self parameter in instance variable initialization within a constructor is a reference to the object that is being created by the constructor. It allows the constructor to access and modify the attributes and methods of the object. For example, if we have a class called Person with an attribute called name, we can use the self parameter to assign a value to the name attribute when we create an object of the class. Here is an example of how to use the self parameter in a constructor:\n",
    "\n",
    "Python3 class Person: def init(self, name): # constructor with self and name parameters self.name = name # assign the value of name to the name attribute of the object\n",
    "\n",
    "p1 = Person(“Alice”) # create an object of the class with name “Alice” print(p1.name) # print the name attribute of the object\n",
    "\n",
    "Output: Alice\n",
    "\n",
    "The self parameter is also used to access and call the methods of the object. For example, if we have a method called greet that prints a greeting message using the name attribute, we can use the self parameter to call the method from the object. Here is an example of how to use the self parameter in a method:\n",
    "\n",
    "Python3 class Person: def init(self, name): # constructor with self and name parameters self.name = name # assign the value of name to the name attribute of the object\"\"\""
   ]
  },
  {
   "cell_type": "code",
   "execution_count": 23,
   "id": "b3dce63d-bd20-4199-8fd0-3f6d4db38896",
   "metadata": {},
   "outputs": [
    {
     "data": {
      "text/plain": [
       "'To prevent a class from having multiple instances by using constructors in Python, you can use the singleton pattern. This is a design pattern that ensures that a class has only one instance, and provides a global access point to that instance1.\\n\\n'"
      ]
     },
     "execution_count": 23,
     "metadata": {},
     "output_type": "execute_result"
    }
   ],
   "source": [
    "#16. How do you prevent a class from having multiple instances by using constructors in Python? Provide an example.\n",
    "\"\"\"To prevent a class from having multiple instances by using constructors in Python, you can use the singleton pattern. This is a design pattern that ensures that a class has only one instance, and provides a global access point to that instance1.\n",
    "\n",
    "\"\"\"\n"
   ]
  },
  {
   "cell_type": "code",
   "execution_count": 24,
   "id": "2014731d-ff24-4b2e-9b80-e26ee390167b",
   "metadata": {},
   "outputs": [],
   "source": [
    "class Singleton:\n",
    "    # A class attribute to store the instance\n",
    "    _instance = None\n",
    "\n",
    "    # Override the __new__ method\n",
    "    def __new__(cls, *args, **kwargs):\n",
    "        # Check if an instance exists\n",
    "        if not cls._instance:\n",
    "            # If not, create a new object and store it as the instance\n",
    "            cls._instance = super(Singleton, cls).__new__(cls, *args, **kwargs)\n",
    "        # Return the instance\n",
    "        return cls._instance\n"
   ]
  },
  {
   "cell_type": "code",
   "execution_count": 25,
   "id": "6bedfe1e-47b5-44c4-8dfb-886717b198a3",
   "metadata": {},
   "outputs": [
    {
     "name": "stdout",
     "output_type": "stream",
     "text": [
      "139890983799632\n",
      "139890983799632\n",
      "True\n"
     ]
    }
   ],
   "source": [
    "# Create two objects of the Singleton class\n",
    "obj1 = Singleton()\n",
    "obj2 = Singleton()\n",
    "\n",
    "# Print their ids\n",
    "print(id(obj1))\n",
    "print(id(obj2))\n",
    "\n",
    "# Compare them\n",
    "print(obj1 is obj2)\n"
   ]
  },
  {
   "cell_type": "code",
   "execution_count": 26,
   "id": "b01de139-1782-4ba8-8eee-99ee0d545c9c",
   "metadata": {},
   "outputs": [],
   "source": [
    "#17. Create a Python class called `Student` with a constructor that takes a list of subjects as a parameter and initializes the `subjects` attribute.\n",
    "\n",
    "\n",
    "class Student:\n",
    "    # constructor that takes a list of subjects as a parameter\n",
    "    def __init__(self, subjects):\n",
    "        # initialize the subjects attribute\n",
    "        self.subjects = subjects\n"
   ]
  },
  {
   "cell_type": "code",
   "execution_count": 27,
   "id": "2e60f6b3-0dff-4c90-82dc-ebad44969646",
   "metadata": {},
   "outputs": [
    {
     "data": {
      "text/plain": [
       "'The __del__ method in Python classes is a special method that is called when an object is about to be destroyed by the garbage collector. It is also known as the destructor method, and it can be used to perform some clean up actions before the object is deleted. For example, the __del__ method can be used to close a file or a database connection that was opened by the object.\\n\\nThe __del__ method is related to constructors, which are special methods that are called when an object is created. The most common constructor method in Python is the __init__ method, which is used to initialize the attributes of the object. For example, the __init__ method can be used to assign values to the instance variables or to open a file or a database connection for the object.\\n\\nThe __del__ method and the constructor methods are opposite to each other in terms of their functionality and timing. The constructor methods are called at the beginning of the object’s life cycle, while the __del__ method is called at the end of the object’s life cycle. The constructor methods are used to set up the object, while the __del__ method is used to tear down the object. The constructor methods are explicitly invoked by the user, while the __del__ method is implicitly invoked by the garbage collector.'"
      ]
     },
     "execution_count": 27,
     "metadata": {},
     "output_type": "execute_result"
    }
   ],
   "source": [
    "#18.What is the purpose of the `__del__` method in Python classes, and how does it relate to constructors?\n",
    "\n",
    "\"\"\"The __del__ method in Python classes is a special method that is called when an object is about to be destroyed by the garbage collector. It is also known as the destructor method, and it can be used to perform some clean up actions before the object is deleted. For example, the __del__ method can be used to close a file or a database connection that was opened by the object.\n",
    "\n",
    "The __del__ method is related to constructors, which are special methods that are called when an object is created. The most common constructor method in Python is the __init__ method, which is used to initialize the attributes of the object. For example, the __init__ method can be used to assign values to the instance variables or to open a file or a database connection for the object.\n",
    "\n",
    "The __del__ method and the constructor methods are opposite to each other in terms of their functionality and timing. The constructor methods are called at the beginning of the object’s life cycle, while the __del__ method is called at the end of the object’s life cycle. The constructor methods are used to set up the object, while the __del__ method is used to tear down the object. The constructor methods are explicitly invoked by the user, while the __del__ method is implicitly invoked by the garbage collector.\"\"\""
   ]
  },
  {
   "cell_type": "code",
   "execution_count": 28,
   "id": "422a12de-17e2-4a6e-b451-737b7566ca1a",
   "metadata": {},
   "outputs": [
    {
     "name": "stdout",
     "output_type": "stream",
     "text": [
      "Daffy makes quack\n",
      "Daffy flies with a wing span of 0.5 meters\n"
     ]
    }
   ],
   "source": [
    "#19. Explain the use of constructor chaining in Python. Provide a practical example.\n",
    "\n",
    "# Define a superclass Animal with a constructor that takes a name and a sound\n",
    "class Animal:\n",
    "    def __init__(self, name, sound):\n",
    "        self.name = name\n",
    "        self.sound = sound\n",
    "\n",
    "    def make_sound(self):\n",
    "        print(f\"{self.name} makes {self.sound}\")\n",
    "\n",
    "# Define another superclass Bird with a constructor that takes a name and a wing span\n",
    "class Bird:\n",
    "    def __init__(self, name, wing_span):\n",
    "        self.name = name\n",
    "        self.wing_span = wing_span\n",
    "\n",
    "    def fly(self):\n",
    "        print(f\"{self.name} flies with a wing span of {self.wing_span} meters\")\n",
    "\n",
    "# Define a subclass Duck that inherits from both Animal and Bird by using constructor chaining\n",
    "class Duck(Animal, Bird):\n",
    "    def __init__(self, name, sound, wing_span):\n",
    "        # Call the constructors of the superclasses in a chain\n",
    "        Animal.__init__(self, name, sound)\n",
    "        Bird.__init__(self, name, wing_span)\n",
    "\n",
    "# Create an instance of Duck and use its methods\n",
    "daffy = Duck(\"Daffy\", \"quack\", 0.5)\n",
    "daffy.make_sound()\n",
    "daffy.fly()\n"
   ]
  },
  {
   "cell_type": "code",
   "execution_count": 32,
   "id": "e8479ee4-13b6-4027-9a4f-2dd4974feba2",
   "metadata": {},
   "outputs": [],
   "source": [
    "#20. Create a Python class called `Car` with a default constructor that initializes the `make` and `model`attributes. Provide a method to display car information.\n",
    "\n",
    "class Car:\n",
    "    # default constructor\n",
    "    def __init__(self, make, model):\n",
    "        # initialize the make and model attributes\n",
    "        self.make = make\n",
    "        self.model = model\n",
    "\n",
    "    # method to display car information\n",
    "    def display_info(self):\n",
    "        print(f\"The car is a {self.make} {self.model}.\")\n",
    "\n"
   ]
  },
  {
   "cell_type": "code",
   "execution_count": 33,
   "id": "8f82b82d-9aaf-443e-8b3b-ced4bab494fe",
   "metadata": {},
   "outputs": [
    {
     "name": "stdout",
     "output_type": "stream",
     "text": [
      "The car is a Toyota Corolla.\n"
     ]
    }
   ],
   "source": [
    "# create a car object\n",
    "my_car = Car(\"Toyota\", \"Corolla\")\n",
    "\n",
    "# display car information\n",
    "my_car.display_info()\n"
   ]
  },
  {
   "cell_type": "code",
   "execution_count": 34,
   "id": "7d8d9486-8fae-46f4-aac0-849f9ec75006",
   "metadata": {},
   "outputs": [],
   "source": [
    "#INHERITANCE"
   ]
  },
  {
   "cell_type": "code",
   "execution_count": 1,
   "id": "d0370af2-9b52-49e2-ad0d-7a3102fe8a08",
   "metadata": {},
   "outputs": [
    {
     "data": {
      "text/plain": [
       "'Inheritance in Python is a mechanism that allows a class to inherit the attributes and methods from another class. It is a way of creating a hierarchy of classes that share some common features and behaviors, while also having their own specific ones. Inheritance is one of the core concepts in object-oriented programming (OOP), which is a paradigm that organizes data and logic into reusable and modular units called objects.\\n\\nThe significance of inheritance in OOP is that it enables code reuse and abstraction. Code reuse means that we can write a general class that defines the common properties and methods for a group of objects, and then create subclasses that inherit from it and add their own specific features. This way, we do not have to repeat the same code for each object, and we can also modify the behavior of the subclasses by overriding the inherited methods. Abstraction means that we can hide the implementation details of a class and only expose its interface, which defines how the class can be used by other classes. This way, we can simplify the complexity of the program and make it easier to understand and maintain.\\n\\nFor example, suppose we want to create a class that represents a car. We can define a parent class called Vehicle, which has attributes like color, model, and speed, and methods like start, stop, and accelerate. Then, we can create a child class called Car, which inherits from Vehicle and adds its own attributes like doors, seats, and trunk, and methods like honk, lock, and unlock. The Car class can use the attributes and methods of the Vehicle class, as well as its own specific ones. The Car class can also override the inherited methods if it wants to change their behavior. For instance, it can redefine the start method to check if the doors are locked before starting the engine. The Vehicle class provides an abstract interface for any type of vehicle, while the Car class provides a concrete implementation for a specific type of vehicle.'"
      ]
     },
     "execution_count": 1,
     "metadata": {},
     "output_type": "execute_result"
    }
   ],
   "source": [
    "#1.What is inheritance in Python? Explain its significance in object-oriented programming.\n",
    "\n",
    "\"\"\"Inheritance in Python is a mechanism that allows a class to inherit the attributes and methods from another class. It is a way of creating a hierarchy of classes that share some common features and behaviors, while also having their own specific ones. Inheritance is one of the core concepts in object-oriented programming (OOP), which is a paradigm that organizes data and logic into reusable and modular units called objects.\n",
    "\n",
    "The significance of inheritance in OOP is that it enables code reuse and abstraction. Code reuse means that we can write a general class that defines the common properties and methods for a group of objects, and then create subclasses that inherit from it and add their own specific features. This way, we do not have to repeat the same code for each object, and we can also modify the behavior of the subclasses by overriding the inherited methods. Abstraction means that we can hide the implementation details of a class and only expose its interface, which defines how the class can be used by other classes. This way, we can simplify the complexity of the program and make it easier to understand and maintain.\n",
    "\n",
    "For example, suppose we want to create a class that represents a car. We can define a parent class called Vehicle, which has attributes like color, model, and speed, and methods like start, stop, and accelerate. Then, we can create a child class called Car, which inherits from Vehicle and adds its own attributes like doors, seats, and trunk, and methods like honk, lock, and unlock. The Car class can use the attributes and methods of the Vehicle class, as well as its own specific ones. The Car class can also override the inherited methods if it wants to change their behavior. For instance, it can redefine the start method to check if the doors are locked before starting the engine. The Vehicle class provides an abstract interface for any type of vehicle, while the Car class provides a concrete implementation for a specific type of vehicle.\"\"\"\n"
   ]
  },
  {
   "cell_type": "code",
   "execution_count": 2,
   "id": "4b06abd1-6d48-4370-ac58-2ceaa27b2ac8",
   "metadata": {},
   "outputs": [
    {
     "name": "stdout",
     "output_type": "stream",
     "text": [
      "Rex barks.\n"
     ]
    }
   ],
   "source": [
    "#2. Differentiate between single inheritance and multiple inheritance in Python. Provide examples for each.\n",
    "\"\"\"Single inheritance and multiple inheritance are two types of inheritance in Python. Inheritance is a mechanism that allows a class to inherit the attributes and methods of another class.\n",
    "\n",
    "Single inheritance is when a class inherits from only one parent class. For example, in the code below, the class Dog inherits from the class Animal, and has access to its attributes and methods.\"\"\"\n",
    "\n",
    "class Animal:\n",
    "    def __init__(self, name):\n",
    "        self.name = name\n",
    "\n",
    "    def speak(self):\n",
    "        print(self.name, \"makes a sound.\")\n",
    "\n",
    "class Dog(Animal):\n",
    "    def __init__(self, name, breed):\n",
    "        super().__init__(name) # calling the parent class constructor\n",
    "        self.breed = breed\n",
    "\n",
    "    def speak(self):\n",
    "        print(self.name, \"barks.\")\n",
    "\n",
    "d = Dog(\"Rex\", \"German Shepherd\")\n",
    "d.speak() # Rex barks.\n",
    "\n"
   ]
  },
  {
   "cell_type": "code",
   "execution_count": 3,
   "id": "da6a0316-625e-4177-a66a-41225bcc9069",
   "metadata": {},
   "outputs": [
    {
     "name": "stdout",
     "output_type": "stream",
     "text": [
      "Driving Tesla in black color.\n",
      "Flying Jetson with 4 passengers.\n"
     ]
    }
   ],
   "source": [
    "\"\"\"Multiple inheritance is when a class inherits from more than one parent class. For example, in the code below, the class FlyingCar inherits from both the class Car and the class Plane, and has access to their attributes and methods.\"\"\"\n",
    "\n",
    "\n",
    "class Car:\n",
    "    def __init__(self, model, color):\n",
    "        self.model = model\n",
    "        self.color = color\n",
    "\n",
    "    def drive(self):\n",
    "        print(\"Driving\", self.model, \"in\", self.color, \"color.\")\n",
    "\n",
    "class Plane:\n",
    "    def __init__(self, name, capacity):\n",
    "        self.name = name\n",
    "        self.capacity = capacity\n",
    "\n",
    "    def fly(self):\n",
    "        print(\"Flying\", self.name, \"with\", self.capacity, \"passengers.\")\n",
    "\n",
    "class FlyingCar(Car, Plane):\n",
    "    def __init__(self, model, color, name, capacity):\n",
    "        Car.__init__(self, model, color) # calling the parent class constructors\n",
    "        Plane.__init__(self, name, capacity)\n",
    "\n",
    "    def drive_and_fly(self):\n",
    "        self.drive()\n",
    "        self.fly()\n",
    "\n",
    "fc = FlyingCar(\"Tesla\", \"black\", \"Jetson\", 4)\n",
    "fc.drive_and_fly()\n",
    "# Driving Tesla in black color.\n",
    "# Flying Jetson with 4 passengers.\n"
   ]
  },
  {
   "cell_type": "code",
   "execution_count": 4,
   "id": "ef67f5e3-b62b-4302-b8ab-0d97dbef00cd",
   "metadata": {},
   "outputs": [
    {
     "name": "stdout",
     "output_type": "stream",
     "text": [
      "The car is red, has a speed of 100 km/h, and is made by Toyota.\n"
     ]
    }
   ],
   "source": [
    "#3. Create a Python class called `Vehicle` with attributes `color` and `speed`. Then, create a child class called`Car` that inherits from `Vehicle` and adds a `brand` attribute. Provide an example of creating a `Car` object.\n",
    "\n",
    "\n",
    "# Define the parent class Vehicle\n",
    "class Vehicle:\n",
    "    # Initialize the attributes color and speed\n",
    "    def __init__(self, color, speed):\n",
    "        self.color = color\n",
    "        self.speed = speed\n",
    "\n",
    "    # Define a method to display the color and speed of the vehicle\n",
    "    def show_info(self):\n",
    "        print(f\"The vehicle is {self.color} and has a speed of {self.speed} km/h.\")\n",
    "\n",
    "# Define the child class Car that inherits from Vehicle\n",
    "class Car(Vehicle):\n",
    "    # Initialize the attribute brand and call the parent class constructor\n",
    "    def __init__(self, color, speed, brand):\n",
    "        super().__init__(color, speed)\n",
    "        self.brand = brand\n",
    "\n",
    "    # Override the show_info method to include the brand of the car\n",
    "    def show_info(self):\n",
    "        print(f\"The car is {self.color}, has a speed of {self.speed} km/h, and is made by {self.brand}.\")\n",
    "\n",
    "# Create a Car object with color red, speed 100, and brand Toyota\n",
    "car = Car(\"red\", 100, \"Toyota\")\n",
    "\n",
    "# Call the show_info method on the car object\n",
    "car.show_info()\n",
    "\n"
   ]
  },
  {
   "cell_type": "code",
   "execution_count": 5,
   "id": "a7607081-26e4-453e-813b-d4acdd731974",
   "metadata": {},
   "outputs": [
    {
     "name": "stdout",
     "output_type": "stream",
     "text": [
      "Animal makes a sound\n",
      "Dog barks\n",
      "Cat meows\n"
     ]
    }
   ],
   "source": [
    "#4. Explain the concept of method overriding in inheritance. Provide a practical example.\n",
    "\"\"\"Method overriding in inheritance is a feature of object-oriented programming that allows a subclass to redefine a method inherited from a superclass. This means that the subclass can provide a different implementation of the method that suits its specific needs, while still maintaining the same name and signature of the method.\"\"\"\n",
    "\n",
    "\n",
    "# Define a superclass called Animal\n",
    "class Animal:\n",
    "    # Define a method called make_sound\n",
    "    def make_sound(self):\n",
    "        print(\"Animal makes a sound\")\n",
    "\n",
    "# Define a subclass called Dog that inherits from Animal\n",
    "class Dog(Animal):\n",
    "    # Override the make_sound method inherited from Animal\n",
    "    def make_sound(self):\n",
    "        print(\"Dog barks\")\n",
    "\n",
    "# Define a subclass called Cat that inherits from Animal\n",
    "class Cat(Animal):\n",
    "    # Override the make_sound method inherited from Animal\n",
    "    def make_sound(self):\n",
    "        print(\"Cat meows\")\n",
    "\n",
    "# Create an instance of Animal\n",
    "animal = Animal()\n",
    "# Call the make_sound method\n",
    "animal.make_sound() # Output: Animal makes a sound\n",
    "\n",
    "# Create an instance of Dog\n",
    "dog = Dog()\n",
    "# Call the make_sound method\n",
    "dog.make_sound() # Output: Dog barks\n",
    "\n",
    "# Create an instance of Cat\n",
    "cat = Cat()\n",
    "# Call the make_sound method\n",
    "cat.make_sound() # Output: Cat meows\n",
    "\n"
   ]
  },
  {
   "cell_type": "code",
   "execution_count": 6,
   "id": "165da8cf-72f7-401f-aabd-bed65b7bb2be",
   "metadata": {},
   "outputs": [
    {
     "name": "stdout",
     "output_type": "stream",
     "text": [
      "This is Rex, a German Shepherd\n",
      "Rex says woof\n",
      "Rex says woof\n",
      "Rex says woof\n"
     ]
    }
   ],
   "source": [
    "#5. How can you access the methods and attributes of a parent class from a child class in Python? Give an example.\n",
    "\n",
    "\n",
    "\"\"\"You can access the methods and attributes of a parent class from a child class in Python by using one of the following ways:\n",
    "\n",
    "You can use the name of the parent class followed by a dot (.) and the method or attribute name. For example, if you have a parent class called Animal and a child class called Dog, you can access the parent’s method speak by writing Animal.speak(self) inside the child class.\n",
    "You can use the super() function, which returns a proxy object that allows you to refer to the parent class. This is useful when you have multiple inheritance, as it avoids the problem of naming conflicts. For example, you can write super().speak() inside the child class to call the parent’s method speak.\n",
    "You can use the built-in function getattr, which takes an object and a string as arguments and returns the value of the named attribute or method. For example, you can write getattr(self, ‘speak’)() inside the child class to call the parent’s method speak.\"\"\"\n",
    "\n",
    "# Define a parent class\n",
    "class Animal:\n",
    "    def __init__(self, name, sound):\n",
    "        self.name = name\n",
    "        self.sound = sound\n",
    "\n",
    "    def speak(self):\n",
    "        print(f\"{self.name} says {self.sound}\")\n",
    "\n",
    "# Define a child class\n",
    "class Dog(Animal):\n",
    "    def __init__(self, name, sound, breed):\n",
    "        # Call the parent's constructor\n",
    "        super().__init__(name, sound)\n",
    "        # Add a new attribute\n",
    "        self.breed = breed\n",
    "\n",
    "    def info(self):\n",
    "        # Access the parent's attribute\n",
    "        print(f\"This is {self.name}, a {self.breed}\")\n",
    "        # Access the parent's method using the parent's name\n",
    "        Animal.speak(self)\n",
    "        # Access the parent's method using the super() function\n",
    "        super().speak()\n",
    "        # Access the parent's method using the getattr function\n",
    "        getattr(self, 'speak')()\n",
    "\n",
    "# Create an instance of the child class\n",
    "dog = Dog(\"Rex\", \"woof\", \"German Shepherd\")\n",
    "# Call the child's method\n",
    "dog.info()\n",
    "\n"
   ]
  },
  {
   "cell_type": "code",
   "execution_count": 7,
   "id": "d713d9ca-44af-4ce7-9dbb-53f94bd60cf5",
   "metadata": {},
   "outputs": [
    {
     "name": "stdout",
     "output_type": "stream",
     "text": [
      "Rex makes woof\n",
      "Rex is a German Shepherd\n"
     ]
    }
   ],
   "source": [
    "#6. Discuss the use of the `super()` function in Python inheritance. When and why is it used? Provide an example.\n",
    "\"\"\"The super() function in Python is used to refer to the parent class or superclass of a subclass. It allows the subclass to call methods defined in the superclass, enabling it to extend and customize the functionality inherited from the parent class. The super() function can also be used to access the attributes of the parent class.\n",
    "\n",
    "The super() function is useful when we want to avoid hard-coding the name of the parent class in the subclass, which can make the code more maintainable and adaptable to changes. It is also helpful when we want to use multiple inheritance, where a subclass can inherit from more than one parent class.\"\"\"\n",
    "\n",
    "# Define a parent class Animal\n",
    "class Animal:\n",
    "    def __init__(self, name, sound):\n",
    "        self.name = name\n",
    "        self.sound = sound\n",
    "\n",
    "    def make_sound(self):\n",
    "        print(f\"{self.name} makes {self.sound}\")\n",
    "\n",
    "# Define a subclass Dog that inherits from Animal\n",
    "class Dog(Animal):\n",
    "    def __init__(self, name, sound, breed):\n",
    "        # Call the __init__ method of the parent class using super()\n",
    "        super().__init__(name, sound)\n",
    "        self.breed = breed\n",
    "\n",
    "    def show_breed(self):\n",
    "        print(f\"{self.name} is a {self.breed}\")\n",
    "\n",
    "# Create an instance of Dog\n",
    "dog = Dog(\"Rex\", \"woof\", \"German Shepherd\")\n",
    "\n",
    "# Call the methods inherited from Animal\n",
    "dog.make_sound()\n",
    "dog.show_breed()\n",
    "\n",
    "\n"
   ]
  },
  {
   "cell_type": "code",
   "execution_count": 8,
   "id": "455c968b-4b82-4074-b0a4-0bec5c598160",
   "metadata": {},
   "outputs": [
    {
     "name": "stdout",
     "output_type": "stream",
     "text": [
      "Fido says: Woof!\n",
      "Fluffy says: Meow!\n"
     ]
    }
   ],
   "source": [
    "#7. Create a Python class called `Animal` with a method `speak()`. Then, create child classes `Dog` and `Cat` that inherit from `Animal` and override the `speak()` method. Provide an example of using these classes.\n",
    "# Define the parent class Animal\n",
    "class Animal:\n",
    "    # Initialize the animal with a name\n",
    "    def __init__(self, name):\n",
    "        self.name = name\n",
    "    \n",
    "    # Define the speak method for the animal\n",
    "    def speak(self):\n",
    "        print(f\"{self.name} says: ...\")\n",
    "\n",
    "# Define the child class Dog that inherits from Animal\n",
    "class Dog(Animal):\n",
    "    # Override the speak method for the dog\n",
    "    def speak(self):\n",
    "        print(f\"{self.name} says: Woof!\")\n",
    "\n",
    "# Define the child class Cat that inherits from Animal\n",
    "class Cat(Animal):\n",
    "    # Override the speak method for the cat\n",
    "    def speak(self):\n",
    "        print(f\"{self.name} says: Meow!\")\n",
    "\n",
    "# Create an instance of Dog with the name Fido\n",
    "fido = Dog(\"Fido\")\n",
    "# Call the speak method for Fido\n",
    "fido.speak()\n",
    "\n",
    "# Create an instance of Cat with the name Fluffy\n",
    "fluffy = Cat(\"Fluffy\")\n",
    "# Call the speak method for Fluffy\n",
    "fluffy.speak()\n",
    "\n",
    "\n"
   ]
  },
  {
   "cell_type": "code",
   "execution_count": 9,
   "id": "fb54ab6e-a41b-4aaf-994a-694e1b588e24",
   "metadata": {},
   "outputs": [
    {
     "name": "stdout",
     "output_type": "stream",
     "text": [
      "True\n",
      "True\n",
      "True\n"
     ]
    }
   ],
   "source": [
    "#8. Explain the role of the `isinstance()` function in Python and how it relates to inheritance.\n",
    "\"\"\"The isinstance() function in Python is a built-in function that checks if an object is an instance or a subclass of a given class or type. It takes two arguments: the object to be checked and the class or type or a tuple of classes or types. It returns True if the object belongs to the specified class or type or any of the classes or types in the tuple, otherwise it returns False. For example:\"\"\"\n",
    "# check if x is an integer\n",
    "x = 10\n",
    "print(isinstance(x, int)) # True\n",
    "\n",
    "# check if y is a string\n",
    "y = \"Hello\"\n",
    "print(isinstance(y, str)) # False\n",
    "\n",
    "# check if z is a list or a tuple\n",
    "z = [1, 2, 3]\n",
    "print(isinstance(z, (list, tuple))) # True\n",
    "\n"
   ]
  },
  {
   "cell_type": "code",
   "execution_count": 10,
   "id": "58576857-fc9f-4a1b-b797-1d7f60ca9c23",
   "metadata": {},
   "outputs": [],
   "source": [
    "#9. What is the purpose of the `issubclass()` function in Python? Provide an example.\n",
    "\n",
    "\"\"\"The issubclass() function returns True if the specified object is a subclass of the specified object, otherwise False.\"\"\"\n",
    "class myAge:\n",
    "  age = 36\n",
    "\n",
    "class myObj(myAge):\n",
    "  name = \"John\"\n",
    "  age = myAge\n",
    "\n",
    "x = issubclass(myObj, myAge)"
   ]
  },
  {
   "cell_type": "code",
   "execution_count": 11,
   "id": "821aa05e-3575-432c-9d1e-66bd16e7e83d",
   "metadata": {},
   "outputs": [],
   "source": [
    "#10. Discuss the concept of constructor inheritance in Python. How are constructors inherited in child classes?\n",
    "\n",
    "\"\"\"Constructor inheritance is the concept of inheriting the constructor of a parent class in a child class. A constructor is a special method that is used to initialize an object of a class. In Python, the constructor is defined by the __init__ method.\n",
    "\n",
    "In Python, constructors are inherited in child classes by default, unless the child class defines its own constructor. If the child class defines its own constructor, it can still call the parent class constructor by using the super() function or the parent class name.\"\"\"\n",
    "\n",
    "# Define a parent class\n",
    "class Animal:\n",
    "  def __init__(self, name, sound):\n",
    "    self.name = name\n",
    "    self.sound = sound\n",
    "\n",
    "  def make_sound(self):\n",
    "    print(self.name + \" says \" + self.sound)\n",
    "\n",
    "# Define a child class that inherits the constructor of the parent class\n",
    "class Dog(Animal):\n",
    "  pass\n",
    "\n",
    "# Define another child class that defines its own constructor and calls the parent class constructor\n",
    "class Cat(Animal):\n",
    "  def __init__(self, name, sound, color):\n",
    "    super().__init__(name, sound) # or Animal.__init__(self, name, sound)\n",
    "    self.color = color\n",
    "\n",
    "  def show_color(self):\n",
    "    print(self.name + \" is \" + self.color)\n",
    "\n"
   ]
  },
  {
   "cell_type": "code",
   "execution_count": 12,
   "id": "05818a3f-f495-457a-adf4-6596cd68a7a0",
   "metadata": {},
   "outputs": [
    {
     "name": "stdout",
     "output_type": "stream",
     "text": [
      "The area of the circle is 78.53981633974483\n",
      "The area of the rectangle is 200\n"
     ]
    }
   ],
   "source": [
    "#11. Create a Python class called `Shape` with a method `area()` that calculates the area of a shape. Then, create child classes `Circle` and `Rectangle` that inherit from `Shape` and implement the `area()` methodaccordingly. Provide an example.\n",
    "\n",
    "import math\n",
    "\n",
    "# Define a parent class Shape with a method area()\n",
    "class Shape:\n",
    "    def area(self):\n",
    "        pass\n",
    "\n",
    "# Define a child class Circle that inherits from Shape and overrides the area() method\n",
    "class Circle(Shape):\n",
    "    def __init__(self, radius):\n",
    "        self.radius = radius\n",
    "    \n",
    "    def area(self):\n",
    "        return math.pi * self.radius ** 2\n",
    "\n",
    "# Define a child class Rectangle that inherits from Shape and overrides the area() method\n",
    "class Rectangle(Shape):\n",
    "    def __init__(self, length, width):\n",
    "        self.length = length\n",
    "        self.width = width\n",
    "    \n",
    "    def area(self):\n",
    "        return self.length * self.width\n",
    "\n",
    "# Provide an example of using the classes\n",
    "circle = Circle(5) # Create a circle object with radius 5\n",
    "print(\"The area of the circle is\", circle.area()) # Print the area of the circle\n",
    "\n",
    "rectangle = Rectangle(10, 20) # Create a rectangle object with length 10 and width 20\n",
    "print(\"The area of the rectangle is\", rectangle.area()) # Print the area of the rectangle\n",
    "\n"
   ]
  },
  {
   "cell_type": "code",
   "execution_count": 13,
   "id": "9187339a-d33e-4c10-871f-731f701497b2",
   "metadata": {},
   "outputs": [],
   "source": [
    "#12. Explain the use of abstract base classes (ABCs) in Python and how they relate to inheritance. Provide anexample using the `abc` module.\n",
    "\"\"\"Abstract base classes (ABCs) are a way of defining a common interface for a set of subclasses that share some functionality, but may have different implementations. ABCs are useful for enforcing a contract between the abstract class and its subclasses, as well as providing a way to check if an object conforms to a certain specification.\n",
    "\n",
    "ABCs are related to inheritance because they are classes that can be inherited from, but not instantiated. They act as base classes for other classes that implement the abstract methods defined in the ABC. By inheriting from an ABC, a subclass indicates that it follows the interface and behavior expected by the ABC.\n",
    "\n",
    "The abc module in Python provides tools for creating and working with ABCs. The abc.ABC class is a helper class that has abc.ABCMeta as its metaclass. By inheriting from abc.ABC, a class becomes an ABC and can use the @abc.abstractmethod decorator to mark its abstract methods. The abc.ABCMeta metaclass implements the __subclasshook__ method, which allows subclasses to be registered as virtual subclasses of the ABC without explicitly inheriting from it. The abc.abstractmethod decorator raises a TypeError if an abstract method is not overridden by a subclass.\n",
    "\n",
    "Here is an example of using the abc module to create an ABC called Shape that has two abstract methods: area and perimeter. The Shape class also has a concrete method called describe that prints some information about the shape. Two subclasses of Shape are defined: Circle and Rectangle, which override the abstract methods and provide their own implementations. A third class called Square is registered as a virtual subclass of Shape using the @Shape.register decor\"\"\"\n",
    "\n",
    "\n",
    "import abc\n",
    "import math\n",
    "\n",
    "class Shape(abc.ABC):\n",
    "    \"\"\"An abstract base class for shapes.\"\"\"\n",
    "\n",
    "    @abc.abstractmethod\n",
    "    def area(self):\n",
    "        \"\"\"Return the area of the shape.\"\"\"\n",
    "        pass\n",
    "\n",
    "    @abc.abstractmethod\n",
    "    def perimeter(self):\n",
    "        \"\"\"Return the perimeter of the shape.\"\"\"\n",
    "        pass\n",
    "\n",
    "    def describe(self):\n",
    "        \"\"\"Print some information about the shape.\"\"\"\n",
    "        print(f\"This is a {self.__class__.__name__} with area {self.area()} and perimeter {self.perimeter()}.\")\n",
    "\n",
    "class Circle(Shape):\n",
    "    \"\"\"A subclass of Shape that represents a circle.\"\"\"\n",
    "\n",
    "    def __init__(self, radius):\n",
    "        self.radius = radius\n",
    "\n",
    "    def area(self):\n",
    "        return math.pi * self.radius ** 2\n",
    "\n",
    "    def perimeter(self):\n",
    "        return 2 * math.pi * self.radius\n",
    "\n",
    "class Rectangle(Shape):\n",
    "    \"\"\"A subclass of Shape that represents a rectangle.\"\"\"\n",
    "\n",
    "    def __init__(self, length, width):\n",
    "        self.length = length\n",
    "        self.width = width\n",
    "\n",
    "    def area(self):\n",
    "        return self.length * self.width\n",
    "\n",
    "    def perimeter(self):\n",
    "        return 2 * (self.length + self.width)\n",
    "\n",
    "@Shape.register\n",
    "class Square:\n",
    "    \"\"\"A virtual subclass of Shape that represents a square.\"\"\"\n",
    "\n",
    "    def __init__(self, side):\n",
    "        self.side = side\n",
    "\n",
    "    def area(self):\n",
    "        return self.side ** 2\n",
    "\n",
    "    def perimeter(self):\n",
    "        return 4 * self.side\n",
    "\n"
   ]
  },
  {
   "cell_type": "code",
   "execution_count": 14,
   "id": "67c97983-864d-4635-ac7d-6ccc1e3598c0",
   "metadata": {},
   "outputs": [
    {
     "data": {
      "text/plain": [
       "'To prevent a child class from modifying certain attributes or methods inherited from a parent class in Python, you can prefix the attribute name with double underscores to make it a private attribute, which the subclass cannot access. Another way to make inherited methods unaccessible is to use descriptors, such as the property built-in. A possible fix is to define the attribute in the parent class, then redefine it in the child class to inherit the value from the parent class.'"
      ]
     },
     "execution_count": 14,
     "metadata": {},
     "output_type": "execute_result"
    }
   ],
   "source": [
    "# 13. How can you prevent a child class from modifying certain attributes or methods inherited from a parent class in Python?\n",
    "\n",
    "\n",
    "\"\"\"To prevent a child class from modifying certain attributes or methods inherited from a parent class in Python, you can prefix the attribute name with double underscores to make it a private attribute, which the subclass cannot access. Another way to make inherited methods unaccessible is to use descriptors, such as the property built-in. A possible fix is to define the attribute in the parent class, then redefine it in the child class to inherit the value from the parent class.\"\"\""
   ]
  },
  {
   "cell_type": "code",
   "execution_count": 15,
   "id": "b9e89b42-cf01-40bf-9365-b16488d38b00",
   "metadata": {},
   "outputs": [
    {
     "name": "stdout",
     "output_type": "stream",
     "text": [
      "Name: Alice\n",
      "Salary: 50000\n",
      "Department: Sales\n"
     ]
    }
   ],
   "source": [
    "#14. Create a Python class called `Employee` with attributes `name` and `salary`. Then, create a child class `Manager` that inherits from `Employee` and adds an attribute `department`. Provide an example.\n",
    "\n",
    "\n",
    "# Define the parent class Employee\n",
    "class Employee:\n",
    "    # Initialize the attributes name and salary\n",
    "    def __init__(self, name, salary):\n",
    "        self.name = name\n",
    "        self.salary = salary\n",
    "\n",
    "    # Define a method to display the employee details\n",
    "    def display(self):\n",
    "        print(f\"Name: {self.name}\")\n",
    "        print(f\"Salary: {self.salary}\")\n",
    "\n",
    "# Define the child class Manager that inherits from Employee\n",
    "class Manager(Employee):\n",
    "    # Initialize the attribute department in addition to name and salary\n",
    "    def __init__(self, name, salary, department):\n",
    "        # Call the parent class constructor with name and salary\n",
    "        super().__init__(name, salary)\n",
    "        self.department = department\n",
    "\n",
    "    # Override the display method to include the department\n",
    "    def display(self):\n",
    "        # Call the parent class display method\n",
    "        super().display()\n",
    "        print(f\"Department: {self.department}\")\n",
    "\n",
    "# Create an example of a Manager object\n",
    "m = Manager(\"Alice\", 50000, \"Sales\")\n",
    "\n",
    "# Display the manager details\n",
    "m.display()\n",
    "\n"
   ]
  },
  {
   "cell_type": "code",
   "execution_count": 16,
   "id": "6c4e5cc3-f791-41da-8709-5fbd29cefe83",
   "metadata": {},
   "outputs": [
    {
     "data": {
      "text/plain": [
       "'Method overloading in Python inheritance is the ability to define multiple methods with the same name but different parameters in a class hierarchy. However, Python does not support method overloading by default. If we define more than one method with the same name in a class, Python will only keep the latest definition and overwrite the previous ones. This means that we cannot access the overloaded methods based on the number or type of arguments. For example, if we have a class Fruit with a method info that takes one argument, and a subclass Citrus that inherits from Fruit and defines another method info that takes two arguments, we cannot call the Fruit’s info method from an instance of Citrus with one argument. Python will raise a TypeError saying that info takes two arguments but one was given1.\\n\\nMethod overriding in Python inheritance is the ability to redefine a method in a subclass that has the same name and signature as a method in the base class. This allows the subclass to provide a more specific or different implementation of the method. Unlike method overloading, Python supports method overriding by default. If we define a method with the same name and signature in a subclass, Python will use the subclass’s method instead of the base class’s method when we call it from an instance of the subclass. For example, if we have a class Animal with a method sound that prints “I make a sound”, and a subclass Dog that inherits from Animal and defines another method sound that prints “I bark”, we can call the Dog’s sound method from an instance of Dog and it will print “I bark” instead of \"I make a sound\"2.\\n\\nTo summarize, method overloading and method overriding are two different concepts in Python inheritance. Method overloading is not supported by Python, while method overriding is supported by Python. Method overloading allows us to define multiple methods with the same name but different parameters in a class hierarchy, while method overriding allows us to redefine a method with the same name and signature in a subclass.'"
      ]
     },
     "execution_count": 16,
     "metadata": {},
     "output_type": "execute_result"
    }
   ],
   "source": [
    "#15. Discuss the concept of method overloading in Python inheritance. How does it differ from method overriding?\n",
    "\n",
    "\"\"\"Method overloading in Python inheritance is the ability to define multiple methods with the same name but different parameters in a class hierarchy. However, Python does not support method overloading by default. If we define more than one method with the same name in a class, Python will only keep the latest definition and overwrite the previous ones. This means that we cannot access the overloaded methods based on the number or type of arguments. For example, if we have a class Fruit with a method info that takes one argument, and a subclass Citrus that inherits from Fruit and defines another method info that takes two arguments, we cannot call the Fruit’s info method from an instance of Citrus with one argument. Python will raise a TypeError saying that info takes two arguments but one was given1.\n",
    "\n",
    "Method overriding in Python inheritance is the ability to redefine a method in a subclass that has the same name and signature as a method in the base class. This allows the subclass to provide a more specific or different implementation of the method. Unlike method overloading, Python supports method overriding by default. If we define a method with the same name and signature in a subclass, Python will use the subclass’s method instead of the base class’s method when we call it from an instance of the subclass. For example, if we have a class Animal with a method sound that prints “I make a sound”, and a subclass Dog that inherits from Animal and defines another method sound that prints “I bark”, we can call the Dog’s sound method from an instance of Dog and it will print “I bark” instead of \"I make a sound\"2.\n",
    "\n",
    "To summarize, method overloading and method overriding are two different concepts in Python inheritance. Method overloading is not supported by Python, while method overriding is supported by Python. Method overloading allows us to define multiple methods with the same name but different parameters in a class hierarchy, while method overriding allows us to redefine a method with the same name and signature in a subclass.\"\"\""
   ]
  },
  {
   "cell_type": "code",
   "execution_count": 17,
   "id": "932d91c5-f971-407b-9a06-6d8e4e80ddc5",
   "metadata": {},
   "outputs": [
    {
     "data": {
      "text/plain": [
       "'The purpose of the __init__() method in Python inheritance is to initialize the attributes of a class instance when it is created. The __init__() method is also known as the constructor of a class. It is a special method that has two underscores at the beginning and end of its name1.\\n\\nIn inheritance, a child class can inherit the attributes and methods of a parent class by specifying the parent class name in the parentheses after the child class name. For example, class Child(Parent): means that the Child class inherits from the Parent class1.\\n\\nHowever, if the child class defines its own __init__() method, it will override the parent class’s __init__() method and the child class will not inherit the attributes of the parent class. To avoid this, the child class can call the parent class’s __init__() method inside its own __init__() method using the syntax Parent.__init__(self, arguments) or super().__init__(arguments). This way, the child class can inherit the attributes of the parent class and also add its own attributes'"
      ]
     },
     "execution_count": 17,
     "metadata": {},
     "output_type": "execute_result"
    }
   ],
   "source": [
    "#16. Explain the purpose of the `__init__()` method in Python inheritance and how it is utilized in child classes.\n",
    "\n",
    "\n",
    "\"\"\"The purpose of the __init__() method in Python inheritance is to initialize the attributes of a class instance when it is created. The __init__() method is also known as the constructor of a class. It is a special method that has two underscores at the beginning and end of its name1.\n",
    "\n",
    "In inheritance, a child class can inherit the attributes and methods of a parent class by specifying the parent class name in the parentheses after the child class name. For example, class Child(Parent): means that the Child class inherits from the Parent class1.\n",
    "\n",
    "However, if the child class defines its own __init__() method, it will override the parent class’s __init__() method and the child class will not inherit the attributes of the parent class. To avoid this, the child class can call the parent class’s __init__() method inside its own __init__() method using the syntax Parent.__init__(self, arguments) or super().__init__(arguments). This way, the child class can inherit the attributes of the parent class and also add its own attributes\"\"\""
   ]
  },
  {
   "cell_type": "code",
   "execution_count": 18,
   "id": "156d63c4-5c57-4d6e-8fee-383102f95c9d",
   "metadata": {},
   "outputs": [
    {
     "name": "stdout",
     "output_type": "stream",
     "text": [
      "Eddie is flying high with a wingspan of 2.5 meters.\n",
      "Sally is flying fast with a speed of 25 km/h.\n"
     ]
    }
   ],
   "source": [
    "#17. Create a Python class called `Bird` with a method `fly()`. Then, create child classes `Eagle` and `Sparrow` that inherit from `Bird` and implement the `fly()` method differently. Provide an example of using theseclasses.\n",
    "\n",
    "\n",
    "# Define the parent class Bird\n",
    "class Bird:\n",
    "    # Define the constructor\n",
    "    def __init__(self, name, color):\n",
    "        self.name = name\n",
    "        self.color = color\n",
    "    \n",
    "    # Define the fly() method\n",
    "    def fly(self):\n",
    "        print(f\"{self.name} is flying.\")\n",
    "\n",
    "# Define the child class Eagle that inherits from Bird\n",
    "class Eagle(Bird):\n",
    "    # Define the constructor\n",
    "    def __init__(self, name, color, wingspan):\n",
    "        # Call the parent constructor\n",
    "        super().__init__(name, color)\n",
    "        self.wingspan = wingspan\n",
    "    \n",
    "    # Override the fly() method\n",
    "    def fly(self):\n",
    "        print(f\"{self.name} is flying high with a wingspan of {self.wingspan} meters.\")\n",
    "\n",
    "# Define the child class Sparrow that inherits from Bird\n",
    "class Sparrow(Bird):\n",
    "    # Define the constructor\n",
    "    def __init__(self, name, color, speed):\n",
    "        # Call the parent constructor\n",
    "        super().__init__(name, color)\n",
    "        self.speed = speed\n",
    "    \n",
    "    # Override the fly() method\n",
    "    def fly(self):\n",
    "        print(f\"{self.name} is flying fast with a speed of {self.speed} km/h.\")\n",
    "\n",
    "# Create an instance of Eagle\n",
    "eagle = Eagle(\"Eddie\", \"brown\", 2.5)\n",
    "\n",
    "# Create an instance of Sparrow\n",
    "sparrow = Sparrow(\"Sally\", \"white\", 25)\n",
    "\n",
    "# Call the fly() method on both instances\n",
    "eagle.fly()\n",
    "sparrow.fly()\n",
    "\n"
   ]
  },
  {
   "cell_type": "code",
   "execution_count": 19,
   "id": "84c97fa4-209c-401f-b797-fc7124a1b173",
   "metadata": {},
   "outputs": [
    {
     "data": {
      "text/plain": [
       "'The “diamond problem” in multiple inheritance is a situation where a subclass inherits from two or more superclasses that have a common ancestor. This can create ambiguity and confusion when the subclass tries to access or override a method or attribute that is defined in multiple superclasses. For example, consider the following class hierarchy:\\n\\n       A\\n      /      B   C\\n      \\\\ /\\n       D\\n\\nClass D inherits from both B and C, which inherit from A. If A, B, and C all define a method called m, then which version of m should D inherit? Should it be A’s, B’s, or C’s?\\n\\nPython addresses this problem by using a method resolution order (MRO) algorithm that determines the order in which the superclasses are searched for a given method or attribute. The MRO follows two rules:\\n\\nDepth-first search: The subclass will look for the method or attribute in the nearest superclass first, then in its superclasses, until it reaches the top of the hierarchy.\\nLeft-to-right search: The subclass will look for the method or attribute in the leftmost superclass first, then in the rightmost superclass, if the leftmost superclass does not have it.\\nUsing these rules, Python will resolve the diamond problem by giving preference to the class that is inherited first. In the example above, the MRO of D is [D, B, C, A]. This means that D will inherit the method m from B, since B is the leftmost and nearest superclass that defines m. If B does not define m, then D will inherit it from C, and so on.'"
      ]
     },
     "execution_count": 19,
     "metadata": {},
     "output_type": "execute_result"
    }
   ],
   "source": [
    "#18. What is the \"diamond problem\" in multiple inheritance, and how does Python address it?\n",
    "\"\"\"The “diamond problem” in multiple inheritance is a situation where a subclass inherits from two or more superclasses that have a common ancestor. This can create ambiguity and confusion when the subclass tries to access or override a method or attribute that is defined in multiple superclasses. For example, consider the following class hierarchy:\n",
    "\n",
    "       A\n",
    "      / \\\n",
    "     B   C\n",
    "      \\ /\n",
    "       D\n",
    "\n",
    "Class D inherits from both B and C, which inherit from A. If A, B, and C all define a method called m, then which version of m should D inherit? Should it be A’s, B’s, or C’s?\n",
    "\n",
    "Python addresses this problem by using a method resolution order (MRO) algorithm that determines the order in which the superclasses are searched for a given method or attribute. The MRO follows two rules:\n",
    "\n",
    "Depth-first search: The subclass will look for the method or attribute in the nearest superclass first, then in its superclasses, until it reaches the top of the hierarchy.\n",
    "Left-to-right search: The subclass will look for the method or attribute in the leftmost superclass first, then in the rightmost superclass, if the leftmost superclass does not have it.\n",
    "Using these rules, Python will resolve the diamond problem by giving preference to the class that is inherited first. In the example above, the MRO of D is [D, B, C, A]. This means that D will inherit the method m from B, since B is the leftmost and nearest superclass that defines m. If B does not define m, then D will inherit it from C, and so on.\"\"\"\n",
    "\n"
   ]
  },
  {
   "cell_type": "code",
   "execution_count": 20,
   "id": "a2bf8fc9-0c3a-4e0f-8538-5558e3dcfcb9",
   "metadata": {},
   "outputs": [
    {
     "data": {
      "text/plain": [
       "'The is-a relationship means that a subclass (or derived class) is a specific type of a superclass (or base class). For example, a dog is a type of animal, so we can define a Dog class that inherits from an Animal class. This allows the Dog class to reuse the properties and methods of the Animal class, and also add its own specific features. In Python, we can use the syntax class Dog(Animal): to indicate that the Dog class inherits from the Animal class. The is-a relationship is also called inheritance or specialization1.\\n\\nThe has-a relationship means that a class (or composite class) contains an object of another class (or component class) as an attribute. For example, a car has an engine, so we can define a Car class that has an attribute of type Engine. This allows the Car class to use the functionality of the Engine class, and also define its own behavior. In Python, we can use the syntax self.engine = Engine() to create an object of the Engine class and assign it to the attribute engine of the Car class. The has-a relationship is also called composition or aggregation2.\\n\\nHere are some examples of is-a and has-a relationships in Python:\\n\\nExample of is-a relationship\\nclass Animal: def init(self, name): self.name = name\\n\\ndef make_sound(self):\\n    print(f\"{self.name} is making a sound.\")\\n\\nclass Dog(Animal): def init(self, name, breed): super().init(name) # calling the constructor of the superclass self.breed = breed\\n\\ndef make_sound(self):\\n    print(f\"{self.name} is barking.\") # overriding the method of the superclass\\n\\nCreating objects of Animal and Dog classes\\nanimal = Animal(“Leo”) dog = Dog(“Max”, “Labrador”)\\n\\nCalling the methods of the objects\\nanimal.make_sound() # Leo is making a sound. dog.make_sound() # Max is barking.\\n\\nExample of has-a relationship\\nclass Engine: def init(self, power): self.power = power\\n\\ndef start(self):\\n    print(f\"The engine with {self.power} horsepower is starting.\")\\n\\nclass Car: def init(self, model, color, engine_power): self.model = model self.color = color self.engine = Engine(engine_power) # creating an object of the Engine class\\n\\ndef drive(self):\\n    self.engine.start() # calling the method of the Engine object\\n    print(f\"The {self.color} {self.model} is driving.\")'"
      ]
     },
     "execution_count": 20,
     "metadata": {},
     "output_type": "execute_result"
    }
   ],
   "source": [
    "#19. Discuss the concept of \"is-a\" and \"has-a\" relationships in inheritance, and provide examples of each.\n",
    "\"\"\"The is-a relationship means that a subclass (or derived class) is a specific type of a superclass (or base class). For example, a dog is a type of animal, so we can define a Dog class that inherits from an Animal class. This allows the Dog class to reuse the properties and methods of the Animal class, and also add its own specific features. In Python, we can use the syntax class Dog(Animal): to indicate that the Dog class inherits from the Animal class. The is-a relationship is also called inheritance or specialization1.\n",
    "\n",
    "The has-a relationship means that a class (or composite class) contains an object of another class (or component class) as an attribute. For example, a car has an engine, so we can define a Car class that has an attribute of type Engine. This allows the Car class to use the functionality of the Engine class, and also define its own behavior. In Python, we can use the syntax self.engine = Engine() to create an object of the Engine class and assign it to the attribute engine of the Car class. The has-a relationship is also called composition or aggregation2.\n",
    "\n",
    "Here are some examples of is-a and has-a relationships in Python:\n",
    "\n",
    "Example of is-a relationship\n",
    "class Animal: def init(self, name): self.name = name\n",
    "\n",
    "def make_sound(self):\n",
    "    print(f\"{self.name} is making a sound.\")\n",
    "\n",
    "class Dog(Animal): def init(self, name, breed): super().init(name) # calling the constructor of the superclass self.breed = breed\n",
    "\n",
    "def make_sound(self):\n",
    "    print(f\"{self.name} is barking.\") # overriding the method of the superclass\n",
    "\n",
    "Creating objects of Animal and Dog classes\n",
    "animal = Animal(“Leo”) dog = Dog(“Max”, “Labrador”)\n",
    "\n",
    "Calling the methods of the objects\n",
    "animal.make_sound() # Leo is making a sound. dog.make_sound() # Max is barking.\n",
    "\n",
    "Example of has-a relationship\n",
    "class Engine: def init(self, power): self.power = power\n",
    "\n",
    "def start(self):\n",
    "    print(f\"The engine with {self.power} horsepower is starting.\")\n",
    "\n",
    "class Car: def init(self, model, color, engine_power): self.model = model self.color = color self.engine = Engine(engine_power) # creating an object of the Engine class\n",
    "\n",
    "def drive(self):\n",
    "    self.engine.start() # calling the method of the Engine object\n",
    "    print(f\"The {self.color} {self.model} is driving.\")\"\"\"\n"
   ]
  },
  {
   "cell_type": "code",
   "execution_count": 21,
   "id": "253d707b-0efe-454f-bafd-db34b1b60830",
   "metadata": {},
   "outputs": [],
   "source": [
    "##20. Create a Python class hierarchy for a university system. Start with a base class `Person` and create child classes `Student` and `Professor`, each with their own attributes and methods. Provide an example of usingthese classes in a university context.\n",
    "\n",
    "\n",
    "\n",
    "\n",
    "# Base class for a person\n",
    "class Person:\n",
    "    # Constructor with name and age attributes\n",
    "    def __init__(self, name, age):\n",
    "        self.name = name\n",
    "        self.age = age\n",
    "\n",
    "    # Method to introduce oneself\n",
    "    def introduce(self):\n",
    "        print(f\"Hello, I am {self.name} and I am {self.age} years old.\")\n",
    "\n",
    "# Child class for a student\n",
    "class Student(Person):\n",
    "    # Constructor with name, age, major and GPA attributes\n",
    "    def __init__(self, name, age, major, GPA):\n",
    "        # Call the parent class constructor\n",
    "        super().__init__(name, age)\n",
    "        self.major = major\n",
    "        self.GPA = GPA\n",
    "\n",
    "    # Method to introduce oneself as a student\n",
    "    def introduce(self):\n",
    "        # Call the parent class method\n",
    "        super().introduce()\n",
    "        print(f\"I am a student majoring in {self.major} and my GPA is {self.GPA}.\")\n",
    "\n",
    "    # Method to enroll in a course\n",
    "    def enroll(self, course):\n",
    "        print(f\"I have enrolled in {course}.\")\n",
    "\n",
    "# Child class for a professor\n",
    "class Professor(Person):\n",
    "    # Constructor with name, age, department and salary attributes\n",
    "    def __init__(self, name, age, department, salary):\n",
    "        # Call the parent class constructor\n",
    "        super().__init__(name, age)\n",
    "        self.department = department\n",
    "        self.salary = salary\n",
    "\n",
    "    # Method to introduce oneself as a professor\n",
    "    def introduce(self):\n",
    "        # Call the parent class method\n",
    "        super().introduce()\n",
    "        print(f\"I am a professor in the {self.department} department and my salary is {self.salary}.\")\n",
    "\n",
    "    # Method to teach a course\n",
    "    def teach(self, course):\n",
    "        print(f\"I am teaching {course}.\")\n"
   ]
  },
  {
   "cell_type": "code",
   "execution_count": 22,
   "id": "07189ddf-4583-42a5-8b51-bb40ff9347fa",
   "metadata": {},
   "outputs": [],
   "source": [
    "#Encapsulation:"
   ]
  },
  {
   "cell_type": "code",
   "execution_count": 2,
   "id": "d6cf801a-63a2-4981-9097-28485e4bb0d9",
   "metadata": {},
   "outputs": [
    {
     "data": {
      "text/plain": [
       "'Encapsulation is one of the fundamental concepts in object-oriented programming (OOP). It describes the idea of wrapping data and the methods that work on data within one unit. This puts restrictions on accessing variables and methods directly and can prevent the accidental modification of data1\\n\\nIn Python, encapsulation can be achieved by using private variables and methods. Private variables are those that start with two underscores (__), such as __name or __age. Private methods are also defined with two underscores, such as __init__ or __str__. These variables and methods can only be accessed within the class definition, and not by the objects of the class or by any subclass2\\n\\nThe role of encapsulation in OOP is to ensure that an object’s state is always valid by controlling access to its attributes. It also helps to hide the implementation details of a class from the outside world, and only expose the relevant functionality. This makes the code more readable, maintainable, and secure3'"
      ]
     },
     "execution_count": 2,
     "metadata": {},
     "output_type": "execute_result"
    }
   ],
   "source": [
    "##1. Explain the concept of encapsulation in Python. What is its role in object-oriented programming?\n",
    "\n",
    "\"\"\"Encapsulation is one of the fundamental concepts in object-oriented programming (OOP). It describes the idea of wrapping data and the methods that work on data within one unit. This puts restrictions on accessing variables and methods directly and can prevent the accidental modification of data1\n",
    "\n",
    "In Python, encapsulation can be achieved by using private variables and methods. Private variables are those that start with two underscores (__), such as __name or __age. Private methods are also defined with two underscores, such as __init__ or __str__. These variables and methods can only be accessed within the class definition, and not by the objects of the class or by any subclass2\n",
    "\n",
    "The role of encapsulation in OOP is to ensure that an object’s state is always valid by controlling access to its attributes. It also helps to hide the implementation details of a class from the outside world, and only expose the relevant functionality. This makes the code more readable, maintainable, and secure3\"\"\"\n",
    "\n",
    "\n",
    "\n",
    "\n",
    "\n"
   ]
  },
  {
   "cell_type": "code",
   "execution_count": 3,
   "id": "a775c99c-41bc-4f92-9717-60573cca6d62",
   "metadata": {},
   "outputs": [
    {
     "name": "stdout",
     "output_type": "stream",
     "text": [
      "Name:  Jessa\n",
      "Salary:  8000\n",
      "Project:  NLP\n",
      "Modified salary:  9000\n"
     ]
    }
   ],
   "source": [
    "#2. Describe the key principles of encapsulation, including access control and data hiding.\n",
    "\n",
    "\"\"\"Encapsulation is one of the fundamental concepts in object-oriented programming (OOP) that helps in creating reusable and modular code by hiding the implementation details of a class from its users12. Encapsulation in Python describes the idea of wrapping data and methods within a single unit, such as a class12.\n",
    "\n",
    "Access control is the mechanism of restricting access to the attributes and methods of a class from outside of the class. Access control can be achieved by using access modifiers, such as public, private, and protected, to control the visibility of class members123.\n",
    "\n",
    "Data hiding is the technique of hiding the internal representation of an object from the outside world. Data hiding can prevent accidental or unauthorized modification of data by creating private data members and methods within a class124. Data hiding also supports abstraction, which is the process of exposing only the essential features of an object to the users and hiding the unnecessary details12.\"\"\"\n",
    "\n",
    "# Python code to illustrate how single\n",
    "# underscore works\n",
    "class Employee:\n",
    "    # constructor\n",
    "    def __init__(self, name, salary, project):\n",
    "        # public data member\n",
    "        self.name = name\n",
    "        # protected data member\n",
    "        self._salary = salary\n",
    "        # private data member\n",
    "        self.__project = project\n",
    "\n",
    "    # public method\n",
    "    def show(self):\n",
    "        # accessing public data member\n",
    "        print(\"Name: \", self.name)\n",
    "        # accessing protected data member\n",
    "        print(\"Salary: \", self._salary)\n",
    "        # accessing private data member\n",
    "        print(\"Project: \", self.__project)\n",
    "\n",
    "    # private method\n",
    "    def __work(self):\n",
    "        print(self.name, \"is working on\", self.__project)\n",
    "\n",
    "# creating object of a class\n",
    "emp = Employee(\"Jessa\", 8000, \"NLP\")\n",
    "\n",
    "# calling public method of the class\n",
    "emp.show()\n",
    "\n",
    "# accessing protected data member\n",
    "emp._salary = 9000\n",
    "print(\"Modified salary: \", emp._salary)\n",
    "\n",
    "# accessing private data member\n",
    "# this will raise an AttributeError\n",
    "# print(emp.__project)\n",
    "\n",
    "# accessing private method\n",
    "# this will also raise an AttributeError\n",
    "# emp.__work()\n",
    "\n"
   ]
  },
  {
   "cell_type": "code",
   "execution_count": 4,
   "id": "f3d764c4-9e8e-4760-ae73-d8f08ad5c8a7",
   "metadata": {},
   "outputs": [
    {
     "name": "stdout",
     "output_type": "stream",
     "text": [
      "Alice\n",
      "18\n",
      "Name: Alice\n",
      "Age: 18\n",
      "Grade: A\n"
     ]
    }
   ],
   "source": [
    "#3How can you achieve encapsulation in Python classes? Provide an example.\n",
    "\"\"\"Encapsulation is one of the fundamental concepts in object-oriented programming (OOP). It describes the idea of wrapping data and the methods that work on data within one unit. This puts restrictions on accessing variables and methods directly and can prevent the accidental modification of data12.\n",
    "\n",
    "In Python, we don’t have direct access modifiers like public, private, and protected. We can achieve encapsulation by using single underscore and double underscores. A single underscore _ before a member name indicates that it is a protected member. A double underscore __ before a member name indicates that it is a private member. Protected members can be accessed from within the class and its subclasses, but not from outside the class. Private members can only be accessed from within the class, but not from its subclasses or outside the class3\"\"\"\n",
    "\n",
    "class Student:\n",
    "    # constructor\n",
    "    def __init__(self, name, age, grade):\n",
    "        # public member\n",
    "        self.name = name\n",
    "        # protected member\n",
    "        self._age = age\n",
    "        # private member\n",
    "        self.__grade = grade\n",
    "\n",
    "    # public method\n",
    "    def show(self):\n",
    "        print(\"Name:\", self.name)\n",
    "        print(\"Age:\", self._age)\n",
    "        print(\"Grade:\", self.__grade)\n",
    "\n",
    "    # private method\n",
    "    def __update_grade(self, new_grade):\n",
    "        self.__grade = new_grade\n",
    "\n",
    "# creating an object of the class\n",
    "stu = Student(\"Alice\", 18, \"A\")\n",
    "\n",
    "# accessing public member\n",
    "print(stu.name) # Alice\n",
    "\n",
    "# accessing protected member\n",
    "print(stu._age) # 18\n",
    "\n",
    "# accessing private member\n",
    "# print(stu.__grade) # AttributeError: 'Student' object has no attribute '__grade'\n",
    "\n",
    "# accessing public method\n",
    "stu.show()\n",
    "# Name: Alice\n",
    "# Age: 18\n",
    "# Grade: A\n",
    "\n",
    "# accessing private method\n",
    "# stu.__update_grade(\"B\") # AttributeError: 'Student' object has no attribute '__update_grade'\n",
    "\n"
   ]
  },
  {
   "cell_type": "code",
   "execution_count": 5,
   "id": "2a430898-3316-49ac-b053-1093b273b647",
   "metadata": {},
   "outputs": [
    {
     "data": {
      "text/plain": [
       "'Public, private, and protected access modifiers are used to control the access to the attributes and methods of a class in Python. They are based on a naming convention that uses underscores as prefixes to indicate the level of accessibility. Here is a summary of the differences between them:\\n\\nPublic access modifiers are the default ones. They allow any part of the program to access the class members without any restriction. Public members do not have any underscore prefix in their names. For example, name and displayAge are public members of the class Geek1.\\nProtected access modifiers are used to indicate that the class members are only accessible within the class and its subclasses. Protected members have a single underscore prefix in their names. For example, _name and _displayRollAndBranch are protected members of the class Student1.\\nPrivate access modifiers are the most secure ones. They prevent the class members from being accessed outside the class. Private members have a double underscore prefix in their names. For example, __password and __login are private members of the class User'"
      ]
     },
     "execution_count": 5,
     "metadata": {},
     "output_type": "execute_result"
    }
   ],
   "source": [
    "#4. Discuss the difference between public, private, and protected access modifiers in Python.\n",
    "\n",
    "\"\"\"Public, private, and protected access modifiers are used to control the access to the attributes and methods of a class in Python. They are based on a naming convention that uses underscores as prefixes to indicate the level of accessibility. Here is a summary of the differences between them:\n",
    "\n",
    "Public access modifiers are the default ones. They allow any part of the program to access the class members without any restriction. Public members do not have any underscore prefix in their names. For example, name and displayAge are public members of the class Geek1.\n",
    "Protected access modifiers are used to indicate that the class members are only accessible within the class and its subclasses. Protected members have a single underscore prefix in their names. For example, _name and _displayRollAndBranch are protected members of the class Student1.\n",
    "Private access modifiers are the most secure ones. They prevent the class members from being accessed outside the class. Private members have a double underscore prefix in their names. For example, __password and __login are private members of the class User\"\"\"\n"
   ]
  },
  {
   "cell_type": "code",
   "execution_count": 1,
   "id": "1fcf3818-e5b2-4212-b353-e85107cd5dac",
   "metadata": {},
   "outputs": [],
   "source": [
    "#5. Create a Python class called `Person` with a private attribute `__name`. Provide methods to get and set the name attribute.\n",
    "class Person:\n",
    "    # Initialize the private attribute __name\n",
    "    def __init__(self, name):\n",
    "        self.__name = name\n",
    "\n",
    "    # Get the value of the private attribute __name\n",
    "    def get_name(self):\n",
    "        return self.__name\n",
    "\n",
    "    # Set the value of the private attribute __name\n",
    "    def set_name(self, name):\n",
    "        self.__name = name\n",
    "\n"
   ]
  },
  {
   "cell_type": "code",
   "execution_count": 3,
   "id": "eed61068-58ec-4499-bd80-fce53079530a",
   "metadata": {},
   "outputs": [
    {
     "data": {
      "text/plain": [
       "'Getter and setter methods are functions that allow you to access and modify the private attributes of a class in Python. Private attributes are those that start with a double underscore (__) and are not directly accessible from outside the class. Encapsulation is the principle of hiding the internal details of a class from its users, and providing a well-defined interface for interacting with the class. Getter and setter methods help achieve encapsulation by controlling how the private attributes are accessed and modified.\\n\\nFor example, suppose you have a class called Student that has a private attribute called __name. You can define a getter method called get_name() that returns the value of __name, and a setter method called set_name() that validates and assigns a new value to __name'"
      ]
     },
     "execution_count": 3,
     "metadata": {},
     "output_type": "execute_result"
    }
   ],
   "source": [
    "#6. Explain the purpose of getter and setter methods in encapsulation. Provide examples.\n",
    "\n",
    "\n",
    "\n",
    "\"\"\"Getter and setter methods are functions that allow you to access and modify the private attributes of a class in Python. Private attributes are those that start with a double underscore (__) and are not directly accessible from outside the class. Encapsulation is the principle of hiding the internal details of a class from its users, and providing a well-defined interface for interacting with the class. Getter and setter methods help achieve encapsulation by controlling how the private attributes are accessed and modified.\n",
    "\n",
    "For example, suppose you have a class called Student that has a private attribute called __name. You can define a getter method called get_name() that returns the value of __name, and a setter method called set_name() that validates and assigns a new value to __name\"\"\""
   ]
  },
  {
   "cell_type": "code",
   "execution_count": null,
   "id": "ed6fc660-9192-46e0-b369-51c65baa820f",
   "metadata": {},
   "outputs": [],
   "source": [
    "class Student:\n",
    "    def __init__(self, name):\n",
    "        self.__name = name # private attribute\n",
    "\n",
    "    def get_name(self): # getter method\n",
    "        return self.__name\n",
    "\n",
    "    def set_name(self, name): # setter method\n",
    "        if isinstance(name, str) and len(name) > 0: # validate the input\n",
    "            self.__name = name\n",
    "        else:\n",
    "            print(\"Invalid name\")\n",
    "\n",
    "# create an instance of Student\n",
    "s = Student(\"Alice\")\n",
    "\n",
    "# access the private attribute using the getter method\n",
    "print(s.get_name()) # Alice\n",
    "\n",
    "# modify the private attribute using the setter method\n",
    "s.set_name(\"Bob\")\n",
    "print(s.get_name()) # Bob\n",
    "\n",
    "# try to access the private attribute directly\n",
    "print(s.__name) # AttributeError: 'Student' object has no attribute '__name'\n"
   ]
  },
  {
   "cell_type": "code",
   "execution_count": 4,
   "id": "54c4c935-eb33-403f-b6b3-83ff3a39f942",
   "metadata": {},
   "outputs": [
    {
     "data": {
      "text/plain": [
       "'Name mangling in Python is a process that changes the name of an identifier with two leading underscores and one trailing underscore, such as __name, to _classname__name, where classname is the name of the current class1. This is done to avoid name clashes with names defined by subclasses or other classes2.\\n\\nEncapsulation is the principle of hiding the internal details of a class from the outside world. Name mangling can help achieve encapsulation by making some attributes or methods more difficult to access or modify from outside the class. However, name mangling is not a strict way of enforcing privacy, as it can be bypassed by using the mangled name directly3. Therefore, name mangling should be used sparingly and only when necessary, as it can make the code less readable and maintainable. A common convention is to use a single leading underscore, such as _name, to indicate that an attribute or method is intended to be private or protected, and respect this convention when using the class'"
      ]
     },
     "execution_count": 4,
     "metadata": {},
     "output_type": "execute_result"
    }
   ],
   "source": [
    "#7. What is name mangling in Python, and how does it affect encapsulation?\n",
    "\n",
    "\"\"\"Name mangling in Python is a process that changes the name of an identifier with two leading underscores and one trailing underscore, such as __name, to _classname__name, where classname is the name of the current class1. This is done to avoid name clashes with names defined by subclasses or other classes2.\n",
    "\n",
    "Encapsulation is the principle of hiding the internal details of a class from the outside world. Name mangling can help achieve encapsulation by making some attributes or methods more difficult to access or modify from outside the class. However, name mangling is not a strict way of enforcing privacy, as it can be bypassed by using the mangled name directly3. Therefore, name mangling should be used sparingly and only when necessary, as it can make the code less readable and maintainable. A common convention is to use a single leading underscore, such as _name, to indicate that an attribute or method is intended to be private or protected, and respect this convention when using the class\"\"\""
   ]
  },
  {
   "cell_type": "code",
   "execution_count": 5,
   "id": "ce501aba-8689-4ff6-b6f5-087c00702bb9",
   "metadata": {},
   "outputs": [],
   "source": [
    "#8. Create a Python class called `BankAccount` with private attributes for the account balance (`__balance`)\n",
    "\n",
    "\n",
    "# Define the BankAccount class\n",
    "class BankAccount:\n",
    "\n",
    "    # Initialize the class with a private attribute for the balance\n",
    "    def __init__(self, balance=0):\n",
    "        self.__balance = balance # Use double underscores to make the attribute private\n",
    "\n",
    "    # Define a method to deposit money into the account\n",
    "    def deposit(self, amount):\n",
    "        self.__balance += amount # Add the amount to the balance\n",
    "        print(f\"Deposited {amount} into the account.\")\n",
    "\n",
    "    # Define a method to withdraw money from the account\n",
    "    def withdraw(self, amount):\n",
    "        if self.__balance >= amount: # Check if the balance is sufficient\n",
    "            self.__balance -= amount # Subtract the amount from the balance\n",
    "            print(f\"Withdrew {amount} from the account.\")\n",
    "        else: # If the balance is insufficient, print a message\n",
    "            print(\"Insufficient balance.\")\n",
    "\n",
    "    # Define a method to display the current balance of the account\n",
    "    def display(self):\n",
    "        print(f\"The current balance is {self.__balance}.\")\n"
   ]
  },
  {
   "cell_type": "code",
   "execution_count": 6,
   "id": "b94410dc-2b76-49a9-bc08-35296a49465c",
   "metadata": {},
   "outputs": [
    {
     "data": {
      "text/plain": [
       "'Encapsulation is a key principle of object-oriented programming (OOP) that helps to achieve data hiding and abstraction. It is the practice of hiding the internal workings of an object from the outside world while providing a public interface for interacting with the object. Encapsulation provides several advantages in terms of code maintainability and security, such as:\\n\\nImproved maintainability: Encapsulation makes it easier to maintain code by separating the implementation details of an object from its public interface. This means that if the implementation of an object changes, the public interface can remain the same. This is important because it allows other parts of the code that rely on the public interface to continue functioning without needing to be updated12.\\nImproved security: Encapsulation also provides improved security by preventing unauthorized access to an object’s internal state. By making the fields of an object private, we ensure that only the object itself can modify its internal state. This is important because it prevents other parts of the code from accidentally or maliciously modifying an object’s state23.\\nImproved flexibility: Encapsulation also provides improved flexibility by allowing the object to control how its data and methods are accessed and modified. The object can provide different levels of access to its data and methods, such as read-only, write-only, or read-write. This also helps in debugging the code if needed24.\\nImproved reusability: Encapsulation also improves reusability by allowing the object to be used in different contexts without exposing its internal details. The object can be reused as a component in other classes or systems, as long as its public interface is compatible'"
      ]
     },
     "execution_count": 6,
     "metadata": {},
     "output_type": "execute_result"
    }
   ],
   "source": [
    "#9. Discuss the advantages of encapsulation in terms of code maintainability and security.\n",
    "\n",
    "\n",
    "\"\"\"Encapsulation is a key principle of object-oriented programming (OOP) that helps to achieve data hiding and abstraction. It is the practice of hiding the internal workings of an object from the outside world while providing a public interface for interacting with the object. Encapsulation provides several advantages in terms of code maintainability and security, such as:\n",
    "\n",
    "Improved maintainability: Encapsulation makes it easier to maintain code by separating the implementation details of an object from its public interface. This means that if the implementation of an object changes, the public interface can remain the same. This is important because it allows other parts of the code that rely on the public interface to continue functioning without needing to be updated12.\n",
    "Improved security: Encapsulation also provides improved security by preventing unauthorized access to an object’s internal state. By making the fields of an object private, we ensure that only the object itself can modify its internal state. This is important because it prevents other parts of the code from accidentally or maliciously modifying an object’s state23.\n",
    "Improved flexibility: Encapsulation also provides improved flexibility by allowing the object to control how its data and methods are accessed and modified. The object can provide different levels of access to its data and methods, such as read-only, write-only, or read-write. This also helps in debugging the code if needed24.\n",
    "Improved reusability: Encapsulation also improves reusability by allowing the object to be used in different contexts without exposing its internal details. The object can be reused as a component in other classes or systems, as long as its public interface is compatible\"\"\""
   ]
  },
  {
   "cell_type": "code",
   "execution_count": 7,
   "id": "310e2056-b886-444d-b289-f87e1b55bb12",
   "metadata": {},
   "outputs": [
    {
     "name": "stdout",
     "output_type": "stream",
     "text": [
      "Name: Alice\n",
      "Age: 25\n",
      "Name: Bob\n",
      "Age: 20\n",
      "Grade: A\n",
      "Age: 20\n"
     ]
    }
   ],
   "source": [
    "#10. How can you access private attributes in Python? Provide an example demonstrating the use of name mangling.\n",
    "\n",
    "\"\"\"Private attributes in Python are those that have a double underscore prefix before their name, such as __private_attribute. They are not directly accessible from outside the class, but they can be accessed using name mangling. Name mangling is a technique that modifies the attribute name with a class-specific prefix, such as _ClassName__private_attribute. This way, you can access the private attribute from within the class or from a subclass1.\"\"\"\n",
    "\n",
    "class Person:\n",
    "    def __init__(self, name, age):\n",
    "        self.name = name\n",
    "        self.__age = age # private attribute\n",
    "\n",
    "    def display(self):\n",
    "        print(f\"Name: {self.name}\")\n",
    "        print(f\"Age: {self.__age}\") # access private attribute from within the class\n",
    "\n",
    "class Student(Person):\n",
    "    def __init__(self, name, age, grade):\n",
    "        super().__init__(name, age)\n",
    "        self.grade = grade\n",
    "\n",
    "    def display(self):\n",
    "        super().display()\n",
    "        print(f\"Grade: {self.grade}\")\n",
    "        print(f\"Age: {self._Person__age}\") # access private attribute from a subclass using name mangling\n",
    "\n",
    "p = Person(\"Alice\", 25)\n",
    "p.display()\n",
    "# Name: Alice\n",
    "# Age: 25\n",
    "\n",
    "s = Student(\"Bob\", 20, \"A\")\n",
    "s.display()\n",
    "# Name: Bob\n",
    "# Age: 20\n",
    "# Grade: A\n",
    "# Age: 20\n"
   ]
  },
  {
   "cell_type": "code",
   "execution_count": 12,
   "id": "f49e8ca0-464b-42f4-b5e8-61ec6307e7dc",
   "metadata": {},
   "outputs": [],
   "source": [
    "#11. Create a Python class hierarchy for a school system, including classes for students, teachers, and courses, and implement encapsulation principles to protect sensitive information.\n",
    "\n",
    "\n",
    "# Define a base class for all school members\n",
    "class SchoolMember:\n",
    "    # Initialize the common attributes\n",
    "    def __init__(self, name, age):\n",
    "        self._name = name # Use underscore to indicate a private attribute\n",
    "        self._age = age\n",
    "\n",
    "    # Define a method to get the name\n",
    "    def get_name(self):\n",
    "        return self._name\n",
    "\n",
    "    # Define a method to get the age\n",
    "    def get_age(self):\n",
    "        return self._age\n",
    "\n",
    "    # Define a method to introduce the school member\n",
    "    def introduce(self):\n",
    "        print(f\"My name is {self._name} and I am {self._age} years old.\")\n",
    "\n",
    "# Define a subclass for students\n",
    "class Student(SchoolMember):\n",
    "    # Initialize the student-specific attributes\n",
    "    def __init__(self, name, age, grade, courses):\n",
    "        # Call the base class constructor\n",
    "        super().__init__(name, age)\n",
    "        self._grade = grade # The grade level of the student\n",
    "        self._courses = courses # A list of courses the student is enrolled in\n",
    "\n",
    "    # Define a method to get the grade\n",
    "    def get_grade(self):\n",
    "        return self._grade\n",
    "\n",
    "    # Define a method to get the courses\n",
    "    def get_courses(self):\n",
    "        return self._courses\n",
    "\n",
    "    # Define a method to introduce the student\n",
    "    def introduce(self):\n",
    "        # Call the base class method\n",
    "        super().introduce()\n",
    "        print(f\"I am a student in grade {self._grade}.\")\n",
    "        print(f\"I am taking {len(self._courses)} courses: {', '.join(self._courses)}.\")\n",
    "\n",
    "# Define a subclass for teachers\n",
    "class Teacher(SchoolMember):\n",
    "    # Initialize the teacher-specific attributes\n",
    "    def __init__(self, name, age"
   ]
  },
  {
   "cell_type": "code",
   "execution_count": 9,
   "id": "adf87fe3-a21e-4f07-abf4-477dc6e4dd2d",
   "metadata": {},
   "outputs": [
    {
     "name": "stdout",
     "output_type": "stream",
     "text": [
      "10\n",
      "20\n"
     ]
    }
   ],
   "source": [
    "#12. Explain the concept of property decorators in Python and how they relate to encapsulation.\n",
    "\n",
    "\"\"\"A property decorator in Python is a built-in decorator that allows you to define properties in a class. A property is an attribute that has getter, setter, and deleter methods that control its access and modification. A property decorator simplifies the syntax of defining and using properties by using the @property annotation above the getter method, and the @<property_name>.setter and @<property_name>.deleter annotations above the setter and deleter methods, respectively.\n",
    "\n",
    "A property decorator can help you achieve encapsulation, which is one of the principles of object-oriented programming. Encapsulation means hiding the internal details of an object and only exposing a public interface for interacting with it. By using a property decorator, you can prevent direct access to the underlying attribute and enforce some logic or validation in the getter and setter methods. For example, you can check if the new value of the attribute is valid, or perform some calculations based on the attribute value. This way, you can protect the integrity and consistency of the object’s state.\"\"\"\n",
    "\n",
    "# Define a class with a property\n",
    "class Circle:\n",
    "    def __init__(self, radius):\n",
    "        self._radius = radius # The underlying attribute\n",
    "\n",
    "    @property\n",
    "    def radius(self): # The getter method\n",
    "        return self._radius\n",
    "\n",
    "    @radius.setter\n",
    "    def radius(self, value): # The setter method\n",
    "        if value <= 0: # Validate the new value\n",
    "            raise ValueError(\"Radius must be positive\")\n",
    "        self._radius = value\n",
    "\n",
    "    @radius.deleter\n",
    "    def radius(self): # The deleter method\n",
    "        del self._radius\n",
    "\n",
    "# Create an instance of the class\n",
    "c = Circle(10)\n",
    "print(c.radius) # Access the property\n",
    "c.radius = 20 # Modify the property\n",
    "print(c.radius)\n",
    "del c.radius # Delete the property\n",
    "\n"
   ]
  },
  {
   "cell_type": "code",
   "execution_count": 14,
   "id": "52308d88-a35f-4027-bb17-03e1d56538da",
   "metadata": {},
   "outputs": [
    {
     "data": {
      "text/plain": [
       "'Data hiding is the process of protecting the members of a class from illegal or unauthorized access. Encapsulation is the process of wrapping up data and functions into a single unit, hiding the complexity of the system. Data hiding is important in encapsulation because it ensures that the internal state of an object is not modified by external sources, and only the public interface of the class is accessible. This provides abstraction, security, and maintainability for the class.'"
      ]
     },
     "execution_count": 14,
     "metadata": {},
     "output_type": "execute_result"
    }
   ],
   "source": [
    "#13\n",
    "\n",
    "\"\"\"Data hiding is the process of protecting the members of a class from illegal or unauthorized access. Encapsulation is the process of wrapping up data and functions into a single unit, hiding the complexity of the system. Data hiding is important in encapsulation because it ensures that the internal state of an object is not modified by external sources, and only the public interface of the class is accessible. This provides abstraction, security, and maintainability for the class.\"\"\"\n",
    "\n",
    "\n",
    "# A class with a private attribute and a private method\n",
    "class Employee:\n",
    "    __salary = 10000 # A private attribute\n",
    "\n",
    "    def __display(self): # A private method\n",
    "        print(\"The salary is\", self.__salary)\n",
    "\n",
    "# Creating an object of the class\n",
    "emp = Employee()\n",
    "\n",
    "# Trying to access the private attribute\n",
    "print(emp.__salary) # This will raise an AttributeError\n",
    "\n",
    "# Trying to access the private method\n",
    "emp.__display() # This will also raise an AttributeError\n",
    "\n"
   ]
  },
  {
   "cell_type": "code",
   "execution_count": 15,
   "id": "6358c8f7-49db-4e32-a63e-bf43a3d12b96",
   "metadata": {},
   "outputs": [],
   "source": [
    "#14. Create a Python class called `Employee` with private attributes for salary (`__salary`) and employee ID\n",
    "\n",
    "class Employee:\n",
    "    # initialize the attributes\n",
    "    def __init__(self, name, salary, id):\n",
    "        self.name = name # public attribute\n",
    "        self.__salary = salary # private attribute\n",
    "        self.__id = id # private attribute\n",
    "    \n",
    "    # return the salary attribute\n",
    "    def get_salary(self):\n",
    "        return self.__salary\n",
    "    \n",
    "    # return the id attribute\n",
    "    def get_id(self):\n",
    "        return self.__id\n",
    "    \n",
    "    # return the object's state as a string\n",
    "    def __str__(self):\n",
    "        return f\"Name: {self.name}\\nSalary: {self.__salary}\\nID: {self.__id}\"\n"
   ]
  },
  {
   "cell_type": "code",
   "execution_count": 16,
   "id": "38bac256-5b5a-4a7c-8737-192004680ed9",
   "metadata": {},
   "outputs": [],
   "source": [
    "# 15. Discuss the use of accessors and mutators in encapsulation. How do they help maintain control over attribute access?\n",
    "\n",
    "\"\"\"Accessors and mutators are methods that allow controlled access and modification of the internal attributes of an object. They are also known as getters and setters in Python. Encapsulation is the concept of wrapping data and methods within one unit, and hiding the implementation details from the outside world. By using accessors and mutators, we can enforce encapsulation and data integrity, and prevent accidental or unauthorized changes to the object’s state.\"\"\"\n",
    "\n",
    "\n",
    "\n",
    "class Student:\n",
    "    def __init__(self, name):\n",
    "        self.__name = name # private attribute\n",
    "\n",
    "    def get_name(self): # accessor method\n",
    "        return self.__name\n",
    "\n",
    "    def set_name(self, name): # mutator method\n",
    "        if isinstance(name, str): # check if name is a string\n",
    "            self.__name = name\n",
    "        else:\n",
    "            print(\"Invalid name\")\n"
   ]
  },
  {
   "cell_type": "code",
   "execution_count": 17,
   "id": "75b2e2fa-e369-4521-9db5-c7d3b4d7723f",
   "metadata": {},
   "outputs": [
    {
     "data": {
      "text/plain": [
       "'Encapsulation is a concept that allows us to bundle data and methods within a single unit, such as a class. It also enables us to restrict access to variables and methods from outside of the class, and prevent accidental data modification. However, encapsulation also has some potential drawbacks or disadvantages, such as:\\n\\nEncapsulation can make the code more complex and less readable, especially if there are many private variables and methods that are hidden from the outside world. It can also make debugging and testing more difficult, as it is harder to access the internal state of an object.\\nEncapsulation can reduce the flexibility and reusability of the code, as it limits the ways that the data and methods can be used by other classes or modules. For example, if a class has a private method that performs some useful functionality, it cannot be inherited or overridden by a subclass, or called by another class.\\nEncapsulation can also introduce some performance overhead, as it requires extra steps to access or modify the data and methods of an object. For example, if a class has a private variable that is accessed through a getter or setter method, it adds an additional function call that may slow down the execution.'"
      ]
     },
     "execution_count": 17,
     "metadata": {},
     "output_type": "execute_result"
    }
   ],
   "source": [
    "#16. What are the potential drawbacks or disadvantages of using encapsulation in Python?\n",
    "\"\"\"Encapsulation is a concept that allows us to bundle data and methods within a single unit, such as a class. It also enables us to restrict access to variables and methods from outside of the class, and prevent accidental data modification. However, encapsulation also has some potential drawbacks or disadvantages, such as:\n",
    "\n",
    "Encapsulation can make the code more complex and less readable, especially if there are many private variables and methods that are hidden from the outside world. It can also make debugging and testing more difficult, as it is harder to access the internal state of an object.\n",
    "Encapsulation can reduce the flexibility and reusability of the code, as it limits the ways that the data and methods can be used by other classes or modules. For example, if a class has a private method that performs some useful functionality, it cannot be inherited or overridden by a subclass, or called by another class.\n",
    "Encapsulation can also introduce some performance overhead, as it requires extra steps to access or modify the data and methods of an object. For example, if a class has a private variable that is accessed through a getter or setter method, it adds an additional function call that may slow down the execution.\"\"\"\n",
    "\n"
   ]
  },
  {
   "cell_type": "code",
   "execution_count": 18,
   "id": "2fcf349c-f71b-41c2-9efc-c00ce875d5d8",
   "metadata": {},
   "outputs": [
    {
     "name": "stdout",
     "output_type": "stream",
     "text": [
      "Title: The Catcher in the Rye\n",
      "Author: J.D. Salinger\n",
      "Available: True\n",
      "Title: Nineteen Eighty-Four\n",
      "Author: George Orwell\n",
      "Available: False\n",
      "Title: The Hitchhiker's Guide to the Galaxy\n",
      "Author: Douglas Adams\n",
      "Available: True\n"
     ]
    }
   ],
   "source": [
    "# 17. Create a Python class for a library system that encapsulates book information, including titles, authors, and availability status.\n",
    "\n",
    "# Define a class for books\n",
    "class Book:\n",
    "    # Initialize the book attributes\n",
    "    def __init__(self, title, author, available):\n",
    "        self.title = title # The title of the book\n",
    "        self.author = author # The author of the book\n",
    "        self.available = available # The availability status of the book\n",
    "\n",
    "    # Define a method to display the book information\n",
    "    def display(self):\n",
    "        print(f\"Title: {self.title}\")\n",
    "        print(f\"Author: {self.author}\")\n",
    "        print(f\"Available: {self.available}\")\n",
    "\n",
    "# Create some book objects\n",
    "book1 = Book(\"The Catcher in the Rye\", \"J.D. Salinger\", True)\n",
    "book2 = Book(\"Nineteen Eighty-Four\", \"George Orwell\", False)\n",
    "book3 = Book(\"The Hitchhiker's Guide to the Galaxy\", \"Douglas Adams\", True)\n",
    "\n",
    "# Display the book information\n",
    "book1.display()\n",
    "book2.display()\n",
    "book3.display()\n",
    "\n"
   ]
  },
  {
   "cell_type": "code",
   "execution_count": 19,
   "id": "d1b0c71a-ccd8-4419-937c-3572046f1c25",
   "metadata": {},
   "outputs": [
    {
     "data": {
      "text/plain": [
       "'Encapsulation enhances code reusability and modularity in Python programs by:\\n\\nHiding the implementation details of a class from the outside world. This allows the programmer to change the internal representation of the class without affecting the existing code that uses the class. For example, if a class has a method that calculates the area of a circle, the user of the class only needs to know the name and parameters of the method, not how the method is implemented. The programmer can later change the implementation of the method, such as using a different formula or library, without breaking the existing code.\\nProtecting the data integrity of a class by enforcing invariants. Invariants are the conditions that must always be true for the class to function properly. For example, if a class represents a bank account, an invariant could be that the balance cannot be negative. By using encapsulation, the programmer can ensure that the balance is only modified by the methods of the class, and that any invalid operation is rejected or handled appropriately. This prevents the user of the class from directly manipulating the balance and violating the invariant.\\nPromoting code reuse by allowing the creation of subclasses that inherit the data and methods of a base class. Subclasses can extend or override the behavior of the base class, without repeating the common code. For example, if a class represents a shape, a subclass could represent a circle that inherits the attributes and methods of the shape class, and adds its own attributes and methods, such as radius and area. This reduces code duplication and makes the code more maintainable.'"
      ]
     },
     "execution_count": 19,
     "metadata": {},
     "output_type": "execute_result"
    }
   ],
   "source": [
    "#18. Explain how encapsulation enhances code reusability and modularity in Python programs.\n",
    "\n",
    "\n",
    "\"\"\"Encapsulation enhances code reusability and modularity in Python programs by:\n",
    "\n",
    "Hiding the implementation details of a class from the outside world. This allows the programmer to change the internal representation of the class without affecting the existing code that uses the class. For example, if a class has a method that calculates the area of a circle, the user of the class only needs to know the name and parameters of the method, not how the method is implemented. The programmer can later change the implementation of the method, such as using a different formula or library, without breaking the existing code.\n",
    "Protecting the data integrity of a class by enforcing invariants. Invariants are the conditions that must always be true for the class to function properly. For example, if a class represents a bank account, an invariant could be that the balance cannot be negative. By using encapsulation, the programmer can ensure that the balance is only modified by the methods of the class, and that any invalid operation is rejected or handled appropriately. This prevents the user of the class from directly manipulating the balance and violating the invariant.\n",
    "Promoting code reuse by allowing the creation of subclasses that inherit the data and methods of a base class. Subclasses can extend or override the behavior of the base class, without repeating the common code. For example, if a class represents a shape, a subclass could represent a circle that inherits the attributes and methods of the shape class, and adds its own attributes and methods, such as radius and area. This reduces code duplication and makes the code more maintainable.\"\"\""
   ]
  },
  {
   "cell_type": "code",
   "execution_count": 20,
   "id": "35c7752b-808c-4398-8945-0c7df45d9d35",
   "metadata": {},
   "outputs": [
    {
     "data": {
      "text/plain": [
       "'Encapsulation is a way to restrict the direct access to some components of an object, so users cannot access state values for all of the variables of a particular object1. Encapsulation can be used to hide both data members and data functions or methods associated with an instantiated class or object2.\\n\\nInformation hiding is the principle of hiding the internal implementation details of a class from external code3. Only the public interface of the class is accessible, providing abstraction and simplifying the usage of the class while allowing the internal implementation to be modified without impacting external code4.\\n\\nInformation hiding is essential in software development because it:\\n\\nImproves readability, maintainability, and security by grouping data and methods together2.\\nHelps to control the modification of data members and enforce data integrity2.\\nReduces the complexity and dependencies of the system3.\\nEnhances the reusability and modularity of the code3.\\nFacilitates the design of robust and flexible software4.'"
      ]
     },
     "execution_count": 20,
     "metadata": {},
     "output_type": "execute_result"
    }
   ],
   "source": [
    "# 19. Describe the concept of information hiding in encapsulation. Why is it essential in software development?\n",
    "\"\"\"Encapsulation is a way to restrict the direct access to some components of an object, so users cannot access state values for all of the variables of a particular object1. Encapsulation can be used to hide both data members and data functions or methods associated with an instantiated class or object2.\n",
    "\n",
    "Information hiding is the principle of hiding the internal implementation details of a class from external code3. Only the public interface of the class is accessible, providing abstraction and simplifying the usage of the class while allowing the internal implementation to be modified without impacting external code4.\n",
    "\n",
    "Information hiding is essential in software development because it:\n",
    "\n",
    "Improves readability, maintainability, and security by grouping data and methods together2.\n",
    "Helps to control the modification of data members and enforce data integrity2.\n",
    "Reduces the complexity and dependencies of the system3.\n",
    "Enhances the reusability and modularity of the code3.\n",
    "Facilitates the design of robust and flexible software4.\"\"\"\n",
    "\n",
    "\n"
   ]
  },
  {
   "cell_type": "code",
   "execution_count": 24,
   "id": "217b5936-eeff-4489-a526-721bb4349a31",
   "metadata": {},
   "outputs": [],
   "source": [
    "#20. Create a Python class called `Customer` with private attributes for customer details like name, address, and contact information. Implement encapsulation to ensure data integrity and security.\n",
    "# Define the Customer class\n",
    "class Customer:\n",
    "\n",
    "    # Initialize the class with private attributes\n",
    "    def __init__(self, name, address, contact):\n",
    "        self.__name = name # Use double underscore to make the attribute private\n",
    "        self.__address = address\n",
    "        self.__contact = contact\n",
    "\n",
    "    # Define getters and setters for each attribute\n",
    "    # Use the @property decorator to make the getter method behave like an attribute\n",
    "    @property\n",
    "    def name(self):\n",
    "        return self.__name\n",
    "\n",
    "    # Use the setter method to validate and assign the new value to the private attribute\n",
    "    @name.setter\n",
    "    def name(self, new_name):\n",
    "        # Check if the new name is a string\n",
    "        if isinstance(new_name, str):\n",
    "            self.__name = new_name\n",
    "        else:\n",
    "            print(\"Invalid name\")\n",
    "\n",
    "    # Repeat the same process for the other attributes\n",
    "    @property\n",
    "    def address(self):\n",
    "        return self.__address\n",
    "\n",
    "    @address.setter\n",
    "    def address(self, new_address):\n",
    "        if isinstance(new_address, str):\n",
    "            self.__address = new_address\n",
    "        else:\n",
    "            print(\"Invalid address\")\n",
    "\n",
    "    @property\n",
    "    def contact\n"
   ]
  },
  {
   "cell_type": "code",
   "execution_count": null,
   "id": "e9b6f496-56f1-4758-9504-6f8dbbe8f09d",
   "metadata": {},
   "outputs": [],
   "source": [
    "##Polymorphism:"
   ]
  },
  {
   "cell_type": "code",
   "execution_count": 1,
   "id": "cc2496e9-ecdb-4cf3-9e1d-248d2dc623d0",
   "metadata": {},
   "outputs": [
    {
     "data": {
      "text/plain": [
       "'Polymorphism in Python means that the same function name or operator can be used for different types of objects or classes. For example, the len() function can return the length of a string, a list, or a dictionary. Polymorphism is related to object-oriented programming because it allows us to write code that is more generic and flexible, and can work with different kinds of objects without knowing their exact type in advance.\\n\\nThere are different ways to achieve polymorphism in Python, such as:\\n\\nFunction polymorphism: using built-in or user-defined functions that can accept different types of arguments or return different types of values.\\nClass polymorphism: using class methods or operators that can be executed on different classes or objects that share the same name. This can be done by using inheritance, where child classes inherit methods from the parent class and can override them, or by using duck typing, where an object’s behavior is determined by its methods and attributes rather than its class name.\\nPolymorphic functions: using functions that can change their behavior based on the type or number of arguments they receive. This can be done by using function overloading, where multiple functions with the same name but different signatures are defined, or by using function annotations, where type hints are used to specify the expected types of arguments and return values.'"
      ]
     },
     "execution_count": 1,
     "metadata": {},
     "output_type": "execute_result"
    }
   ],
   "source": [
    "##1. What is polymorphism in Python? Explain how it is related to object-oriented programming.\n",
    "\n",
    "\n",
    "\"\"\"Polymorphism in Python means that the same function name or operator can be used for different types of objects or classes. For example, the len() function can return the length of a string, a list, or a dictionary. Polymorphism is related to object-oriented programming because it allows us to write code that is more generic and flexible, and can work with different kinds of objects without knowing their exact type in advance.\n",
    "\n",
    "There are different ways to achieve polymorphism in Python, such as:\n",
    "\n",
    "Function polymorphism: using built-in or user-defined functions that can accept different types of arguments or return different types of values.\n",
    "Class polymorphism: using class methods or operators that can be executed on different classes or objects that share the same name. This can be done by using inheritance, where child classes inherit methods from the parent class and can override them, or by using duck typing, where an object’s behavior is determined by its methods and attributes rather than its class name.\n",
    "Polymorphic functions: using functions that can change their behavior based on the type or number of arguments they receive. This can be done by using function overloading, where multiple functions with the same name but different signatures are defined, or by using function annotations, where type hints are used to specify the expected types of arguments and return values.\"\"\""
   ]
  },
  {
   "cell_type": "code",
   "execution_count": 2,
   "id": "9bedd500-d65c-4191-b24b-ddd622af04b9",
   "metadata": {},
   "outputs": [
    {
     "name": "stdout",
     "output_type": "stream",
     "text": [
      "Animal makes a sound\n",
      "Dog barks\n",
      "Cat meows\n"
     ]
    }
   ],
   "source": [
    "#2. Describe the difference between compile-time polymorphism and runtime polymorphism in Python.\n",
    "\n",
    "\"\"\"Polymorphism is an object-oriented programming concept that refers to the ability of a function or an object to take different forms depending on the context. In Python, there are two types of polymorphism: compile-time polymorphism and runtime polymorphism.\n",
    "\n",
    "Compile-time polymorphism is when the compiler determines which function to call based on the number and types of arguments at compile time. This is also known as static binding or method overloading. However, Python does not support compile-time polymorphism, because it is a dynamically typed language that does not check the types of variables until runtime12.\n",
    "\n",
    "Runtime polymorphism is when the compiler determines which function to call based on the type of object that invokes the function at runtime. This is also known as dynamic binding or method overriding. Python supports runtime polymorphism through inheritance and polymorphic classes. For example, a subclass can override a method of its superclass and provide a different implementation. When an object of the subclass calls the method, the overridden version will be executed\"\"\"\n",
    "\n",
    "\n",
    "# A parent class\n",
    "class Animal:\n",
    "    def sound(self):\n",
    "        print(\"Animal makes a sound\")\n",
    "\n",
    "# A child class that inherits from Animal\n",
    "class Dog(Animal):\n",
    "    def sound(self):\n",
    "        print(\"Dog barks\")\n",
    "\n",
    "# A child class that inherits from Animal\n",
    "class Cat(Animal):\n",
    "    def sound(self):\n",
    "        print(\"Cat meows\")\n",
    "\n",
    "# A function that takes an object of Animal type and calls its sound method\n",
    "def make_sound(animal):\n",
    "    animal.sound()\n",
    "\n",
    "# Creating objects of different classes\n",
    "a = Animal()\n",
    "d = Dog()\n",
    "c = Cat()\n",
    "\n",
    "# Calling the function with different objects\n",
    "make_sound(a) # Animal makes a sound\n",
    "make_sound(d) # Dog barks\n",
    "make_sound(c) # Cat meows\n",
    "\n"
   ]
  },
  {
   "cell_type": "code",
   "execution_count": 3,
   "id": "b7f1736d-02c0-44af-93ed-049d37a2e991",
   "metadata": {},
   "outputs": [
    {
     "name": "stdout",
     "output_type": "stream",
     "text": [
      "I am a Circle with an area of 78.53981633974483\n",
      "I am a Square with an area of 100\n",
      "I am a Triangle with an area of 6.0\n"
     ]
    }
   ],
   "source": [
    "#3. Create a Python class hierarchy for shapes (e.g., circle, square, triangle) and demonstrate polymorphism through a common method, such as `calculate_area()`.\n",
    "\n",
    "\n",
    "# Define a base class for shapes\n",
    "class Shape:\n",
    "    # Initialize the shape with a name\n",
    "    def __init__(self, name):\n",
    "        self.name = name\n",
    "\n",
    "    # Define a common method to calculate the area\n",
    "    def calculate_area(self):\n",
    "        # Raise an exception if the method is not implemented in the subclass\n",
    "        raise NotImplementedError(\"Subclass must implement this method\")\n",
    "\n",
    "    # Define a common method to display the shape information\n",
    "    def display(self):\n",
    "        # Print the name and the area of the shape\n",
    "        print(f\"I am a {self.name} with an area of {self.calculate_area()}\")\n",
    "\n",
    "# Define a subclass for circle\n",
    "class Circle(Shape):\n",
    "    # Initialize the circle with a name and a radius\n",
    "    def __init__(self, name, radius):\n",
    "        # Call the superclass constructor\n",
    "        super().__init__(name)\n",
    "        # Set the radius attribute\n",
    "        self.radius = radius\n",
    "\n",
    "    # Override the calculate_area method for circle\n",
    "    def calculate_area(self):\n",
    "        # Import the math module\n",
    "        import math\n",
    "        # Return the area of the circle using the formula pi * r^2\n",
    "        return math.pi * self.radius ** 2\n",
    "\n",
    "# Define a subclass for square\n",
    "class Square(Shape):\n",
    "    # Initialize the square with a name and a side\n",
    "    def __init__(self, name, side):\n",
    "        # Call the superclass constructor\n",
    "        super().__init__(name)\n",
    "        # Set the side attribute\n",
    "        self.side = side\n",
    "\n",
    "    # Override the calculate_area method for square\n",
    "    def calculate_area(self):\n",
    "        # Return the area of the square using the formula s^2\n",
    "        return self.side ** 2\n",
    "\n",
    "# Define a subclass for triangle\n",
    "class Triangle(Shape):\n",
    "    # Initialize the triangle with a name and three sides\n",
    "    def __init__(self, name, a, b, c):\n",
    "        # Call the superclass constructor\n",
    "        super().__init__(name)\n",
    "        # Set the side attributes\n",
    "        self.a = a\n",
    "        self.b = b\n",
    "        self.c = c\n",
    "\n",
    "    # Override the calculate_area method for triangle\n",
    "    def calculate_area(self):\n",
    "        # Use the Heron's formula to calculate the area of the triangle\n",
    "        # Calculate the semi-perimeter\n",
    "        s = (self.a + self.b + self.c) / 2\n",
    "        # Return the area using the formula sqrt(s * (s - a) * (s - b) * (s - c))\n",
    "        return (s * (s - self.a) * (s - self.b) * (s - self.c)) ** 0.5\n",
    "\n",
    "# Create some instances of the subclasses\n",
    "circle = Circle(\"Circle\", 5)\n",
    "square = Square(\"Square\", 10)\n",
    "triangle = Triangle(\"Triangle\", 3, 4, 5)\n",
    "\n",
    "# Display the information of each shape\n",
    "circle.display()\n",
    "square.display()\n",
    "triangle.display()\n",
    "\n"
   ]
  },
  {
   "cell_type": "code",
   "execution_count": 4,
   "id": "edd8f75b-64b4-439b-bc27-a2d6aec2653f",
   "metadata": {},
   "outputs": [
    {
     "name": "stdout",
     "output_type": "stream",
     "text": [
      "Animal makes a sound\n",
      "Dog barks\n"
     ]
    }
   ],
   "source": [
    "#4. Explain the concept of method overriding in polymorphism. Provide an example.\n",
    "\n",
    "\n",
    "\"\"\"Method overriding is a feature of object-oriented programming that allows a subclass to provide a different implementation of a method that is already defined by its superclass or by one of its superclasses. The overridden method in the subclass should have the same name, signature, and return type as the method in the superclass1.\n",
    "\n",
    "Polymorphism means the ability to take different forms. In Python, polymorphism allows us to use the same method name for different types or classes. Method overriding is one way to achieve polymorphism in Python2.\"\"\"\n",
    "\n",
    "\n",
    "# Define a superclass\n",
    "class Animal:\n",
    "    def sound(self):\n",
    "        print(\"Animal makes a sound\")\n",
    "\n",
    "# Define a subclass that inherits from Animal\n",
    "class Dog(Animal):\n",
    "    # Override the sound method\n",
    "    def sound(self):\n",
    "        print(\"Dog barks\")\n",
    "\n",
    "# Create an instance of Animal\n",
    "a = Animal()\n",
    "a.sound() # prints \"Animal makes a sound\"\n",
    "\n",
    "# Create an instance of Dog\n",
    "d = Dog()\n",
    "d.sound() # prints \"Dog barks\"\n"
   ]
  },
  {
   "cell_type": "code",
   "execution_count": 5,
   "id": "1207c351-c0e7-4e94-9155-c8b03c2e98c3",
   "metadata": {},
   "outputs": [
    {
     "name": "stdout",
     "output_type": "stream",
     "text": [
      "New Delhi is the capital of India.\n",
      "Hindi is the most widely spoken language of India.\n",
      "India is a developing country.\n",
      "Washington, D.C. is the capital of USA.\n",
      "English is the primary language of USA.\n",
      "USA is a developed country.\n"
     ]
    }
   ],
   "source": [
    "#5. How is polymorphism different from method overloading in Python? Provide examples for both.\n",
    "\n",
    "\"\"\"Polymorphism is the ability of an object to take on different forms depending on the context. Method overloading is a specific type of polymorphism, where a function can have multiple definitions with different parameters. Python does not support method overloading by default, but there are ways to achieve it using decorators or default arguments. Here are some examples of polymorphism and method overloading in Python:\"\"\"\n",
    "\n",
    "\n",
    "class India():\n",
    "    def capital(self):\n",
    "        print(\"New Delhi is the capital of India.\")\n",
    "    def language(self):\n",
    "        print(\"Hindi is the most widely spoken language of India.\")\n",
    "    def type(self):\n",
    "        print(\"India is a developing country.\")\n",
    "\n",
    "class USA():\n",
    "    def capital(self):\n",
    "        print(\"Washington, D.C. is the capital of USA.\")\n",
    "    def language(self):\n",
    "        print(\"English is the primary language of USA.\")\n",
    "    def type(self):\n",
    "        print(\"USA is a developed country.\")\n",
    "\n",
    "obj_ind = India()\n",
    "obj_usa = USA()\n",
    "for country in (obj_ind, obj_usa):\n",
    "    country.capital()\n",
    "    country.language()\n",
    "    country.type()\n",
    "\n"
   ]
  },
  {
   "cell_type": "code",
   "execution_count": 6,
   "id": "d1dba032-88e2-42e7-b64d-37bdcf349e96",
   "metadata": {},
   "outputs": [
    {
     "name": "stdout",
     "output_type": "stream",
     "text": [
      "Rex barks.\n",
      "Luna meows.\n",
      "Kiwi chirps.\n"
     ]
    }
   ],
   "source": [
    "#6. Create a Python class called `Animal` with a method `speak()`. Then, create child classes like `Dog`, `Cat`, and `Bird`, each with their own `speak()` method. Demonstrate polymorphism by calling the `speak()` method on objects of different subclasses.\n",
    "\n",
    "\n",
    "\n",
    "# Define a parent class Animal with a method speak()\n",
    "class Animal:\n",
    "    def __init__(self, name):\n",
    "        self.name = name\n",
    "\n",
    "    def speak(self):\n",
    "        print(f\"{self.name} makes a sound.\")\n",
    "\n",
    "# Define child classes Dog, Cat, and Bird, each with their own speak() method\n",
    "class Dog(Animal):\n",
    "    def speak(self):\n",
    "        print(f\"{self.name} barks.\")\n",
    "\n",
    "class Cat(Animal):\n",
    "    def speak(self):\n",
    "        print(f\"{self.name} meows.\")\n",
    "\n",
    "class Bird(Animal):\n",
    "    def speak(self):\n",
    "        print(f\"{self.name} chirps.\")\n",
    "\n",
    "# Create objects of different subclasses and store them in a list\n",
    "animals = [Dog(\"Rex\"), Cat(\"Luna\"), Bird(\"Kiwi\")]\n",
    "\n",
    "# Loop through the list and call the speak() method on each object\n",
    "for animal in animals:\n",
    "    animal.speak()\n"
   ]
  },
  {
   "cell_type": "code",
   "execution_count": 7,
   "id": "495d0510-054e-4a0d-abed-06eca6e98bcb",
   "metadata": {},
   "outputs": [
    {
     "name": "stdout",
     "output_type": "stream",
     "text": [
      "Woof\n",
      "Meow\n"
     ]
    }
   ],
   "source": [
    "#7. Discuss the use of abstract methods and classes in achieving polymorphism in Python. Provide an example using the `abc` module.\n",
    "\n",
    "\n",
    "\"\"\"Polymorphism is the ability of an object to take different forms depending on the context. In Python, polymorphism can be achieved by using abstract methods and classes. An abstract method is a method that is declared but does not have an implementation. An abstract class is a class that contains one or more abstract methods and cannot be instantiated. Abstract classes are used to define a common interface for subclasses that inherit from them. The abc module provides the functionality to create abstract base classes (ABCs) in Python.\"\"\"\n",
    "\n",
    "\n",
    "# Import the abc module\n",
    "from abc import ABC, abstractmethod\n",
    "\n",
    "# Define an abstract class Animal\n",
    "class Animal(ABC):\n",
    "\n",
    "    # Define an abstract method sound\n",
    "    @abstractmethod\n",
    "    def sound(self):\n",
    "        pass\n",
    "\n",
    "# Define a subclass Dog that inherits from Animal\n",
    "class Dog(Animal):\n",
    "\n",
    "    # Override the sound method\n",
    "    def sound(self):\n",
    "        print(\"Woof\")\n",
    "\n",
    "# Define a subclass Cat that inherits from Animal\n",
    "class Cat(Animal):\n",
    "\n",
    "    # Override the sound method\n",
    "    def sound(self):\n",
    "        print(\"Meow\")\n",
    "\n",
    "# Create an instance of Dog\n",
    "dog = Dog()\n",
    "\n",
    "# Create an instance of Cat\n",
    "cat = Cat()\n",
    "\n",
    "# Call the sound method on both instances\n",
    "dog.sound()\n",
    "cat.sound()\n"
   ]
  },
  {
   "cell_type": "code",
   "execution_count": 8,
   "id": "35574d45-8561-4d64-916e-c8aee752ba11",
   "metadata": {},
   "outputs": [
    {
     "name": "stdout",
     "output_type": "stream",
     "text": [
      "Car can travel at 120 km/h and carry 5 passengers. It has 4 wheels.\n",
      "Bicycle can travel at 20 km/h and carry 1 passengers. It has 2 wheels.\n",
      "Boat can travel at 30 km/h and carry 10 passengers. It uses motor for propulsion.\n",
      "Sailboat can travel at 15 km/h and carry 4 passengers. It uses sail for propulsion.\n",
      "Plane can travel at 800 km/h and carry 200 passengers. It has a wingspan of 50 meters.\n",
      "Helicopter can travel at 250 km/h and carry 6 passengers. It has a wingspan of 15 meters.\n"
     ]
    }
   ],
   "source": [
    "##8. Create a Python class hierarchy for a vehicle system (e.g., car, bicycle, boat) and implement\n",
    "\n",
    "# Define a base class for vehicles\n",
    "class Vehicle:\n",
    "    def __init__(self, name, speed, capacity):\n",
    "        self.name = name # The name of the vehicle\n",
    "        self.speed = speed # The maximum speed of the vehicle in km/h\n",
    "        self.capacity = capacity # The number of passengers the vehicle can carry\n",
    "\n",
    "    def __str__(self):\n",
    "        return f\"{self.name} can travel at {self.speed} km/h and carry {self.capacity} passengers.\"\n",
    "\n",
    "# Define a subclass for land vehicles\n",
    "class LandVehicle(Vehicle):\n",
    "    def __init__(self, name, speed, capacity, wheels):\n",
    "        super().__init__(name, speed, capacity) # Call the parent class constructor\n",
    "        self.wheels = wheels # The number of wheels the vehicle has\n",
    "\n",
    "    def __str__(self):\n",
    "        return super().__str__() + f\" It has {self.wheels} wheels.\"\n",
    "\n",
    "# Define a subclass for water vehicles\n",
    "class WaterVehicle(Vehicle):\n",
    "    def __init__(self, name, speed, capacity, propulsion):\n",
    "        super().__init__(name, speed, capacity) # Call the parent class constructor\n",
    "        self.propulsion = propulsion # The type of propulsion the vehicle uses (e.g., sail, motor, paddle)\n",
    "\n",
    "    def __str__(self):\n",
    "        return super().__str__() + f\" It uses {self.propulsion} for propulsion.\"\n",
    "\n",
    "# Define a subclass for air vehicles\n",
    "class AirVehicle(Vehicle):\n",
    "    def __init__(self, name, speed, capacity, wingspan):\n",
    "        super().__init__(name, speed, capacity) # Call the parent class constructor\n",
    "        self.wingspan = wingspan # The wingspan of the vehicle in meters\n",
    "\n",
    "    def __str__(self):\n",
    "        return super().__str__() + f\" It has a wingspan of {self.wingspan} meters.\"\n",
    "\n",
    "# Create some instances of different vehicles\n",
    "car = LandVehicle(\"Car\", 120, 5, 4)\n",
    "bicycle = LandVehicle(\"Bicycle\", 20, 1, 2)\n",
    "boat = WaterVehicle(\"Boat\", 30, 10, \"motor\")\n",
    "sailboat = WaterVehicle(\"Sailboat\", 15, 4, \"sail\")\n",
    "plane = AirVehicle(\"Plane\", 800, 200, 50)\n",
    "helicopter = AirVehicle(\"Helicopter\", 250, 6, 15)\n",
    "\n",
    "# Print the information of each vehicle\n",
    "print(car)\n",
    "print(bicycle)\n",
    "print(boat)\n",
    "print(sailboat)\n",
    "print(plane)\n",
    "print(helicopter)"
   ]
  },
  {
   "cell_type": "code",
   "execution_count": 9,
   "id": "866e9d21-e2c3-4a8e-bfce-bb71c924ca50",
   "metadata": {},
   "outputs": [],
   "source": [
    "##9. Explain the significance of the `isinstance()` and `issubclass()` functions in Python polymorphism.\n",
    "\n",
    "\"\"\"The isinstance() and issubclass() functions are built-in functions in Python that can be used to check the type relationships between objects and classes. They can help us implement polymorphism by allowing us to perform different actions based on the type of an object or a class.\n",
    "\n",
    "The isinstance(object, classinfo) function returns True if the object is an instance of the classinfo or any of its subclasses, and False otherwise. The classinfo can be a single class, a type, or a tuple of classes and types. For example, isinstance(3, int) returns True, because 3 is an instance of the int class. Similarly, isinstance(\"hello\", (str, list)) returns True, because \"hello\" is an instance of the str class, which is one of the elements in the tuple (str, list).\n",
    "\n",
    "The issubclass(class, classinfo) function returns True if the class is a subclass of the classinfo or any of its subclasses, and False otherwise. The classinfo can be a single class, a type, or a tuple of classes and types. For example, issubclass(bool, int) returns True, because bool is a subclass of the int class. Similarly, issubclass(str, object) returns True, because str is a subclass of the object class, which is the base class of all classes in Python.\n",
    "\n",
    "The significance of the isinstance() and issubclass() functions in Python polymorphism is that they can be used to check the type compatibility of objects and classes, and perform different actions accordingly. For example, we can write a function that accepts any iterable object as an argument, and prints its elements in reverse order. We can use the isinstance() function to check if the object is a list, a tuple, a string, or any other iterable type, and use the appropriate method to reverse it. We can also use the issubclass() function to check if the object is a subclass of a custom class that defines its own __reversed__() method, and use that method to reverse it. Here is a possible implementation of such a function:\"\"\"\n",
    "\n",
    "def print_reversed(iterable):\n",
    "    # check if the iterable is a list or a tuple\n",
    "    if isinstance(iterable, (list, tuple)):\n",
    "        # use the reversed() function to get a reverse iterator\n",
    "        reverse_iter = reversed(iterable)\n",
    "    # check if the iterable is a string\n",
    "    elif isinstance(iterable, str):\n",
    "        # use slicing to reverse the string\n",
    "        reverse_iter = iterable[::-1]\n",
    "    # check if the iterable is a subclass of a custom class that defines __reversed__()\n",
    "    elif issubclass(type(iterable), CustomClass):\n",
    "        # use the __reversed__() method to get a reverse iterator\n",
    "        reverse_iter = iterable.__reversed__()\n",
    "    # otherwise, raise a TypeError\n",
    "    else:\n",
    "        raise TypeError(\"iterable must be a list, a tuple, a string, or a subclass of CustomClass\")\n",
    "\n",
    "    # loop through the reverse iterator and print each element\n",
    "    for element in reverse_iter:\n",
    "        print(element)\n",
    "\n"
   ]
  },
  {
   "cell_type": "code",
   "execution_count": 10,
   "id": "561a5406-2262-42f0-88cc-58a3f7bd6d20",
   "metadata": {},
   "outputs": [],
   "source": [
    "#10. What is the role of the `@abstractmethod` decorator in achieving polymorphism in Python? Provide an example.\n",
    "\"\"\"The @abstractmethod decorator is used to indicate that a method is abstract, meaning that it must be overridden by a subclass that inherits from the abstract class. This ensures that the subclass implements the method according to the contract defined by the abstract class, and thus supports polymorphism. For example:\"\"\"\n",
    "from abc import ABC, abstractmethod\n",
    "\n",
    "class Shape(ABC):\n",
    "    # An abstract class for shapes\n",
    "\n",
    "    @abstractmethod\n",
    "    def area(self):\n",
    "        # An abstract method to calculate the area of the shape\n",
    "        pass\n",
    "\n",
    "class Circle(Shape):\n",
    "    # A subclass of Shape that represents a circle\n",
    "\n",
    "    def __init__(self, radius):\n",
    "        # Initialize the circle with a given radius\n",
    "        self.radius = radius\n",
    "\n",
    "    def area(self):\n",
    "        # Override the abstract method to calculate the area of the circle\n",
    "        return 3.14 * self.radius ** 2\n",
    "\n"
   ]
  },
  {
   "cell_type": "code",
   "execution_count": 11,
   "id": "66786a7a-2eae-4470-9ed2-b741222eea2b",
   "metadata": {},
   "outputs": [],
   "source": [
    "##11. Create a Python class called `Shape` with a polymorphic method `area()` that calculates the area of different shapes (e.g., circle, rectangle, triangle).\n",
    "\n",
    "\n",
    "# Define an abstract class Shape\n",
    "class Shape:\n",
    "    # Define a constructor that takes the name of the shape\n",
    "    def __init__(self, name):\n",
    "        self.name = name\n",
    "    \n",
    "    # Define an abstract method area that raises NotImplementedError\n",
    "    def area(self):\n",
    "        raise NotImplementedError(\"Subclass must implement this method\")\n",
    "\n",
    "# Define a subclass Circle that inherits from Shape\n",
    "class Circle(Shape):\n",
    "    # Define a constructor that takes the name and the radius of the circle\n",
    "    def __init__(self, name, radius):\n",
    "        # Call the superclass constructor with the name\n",
    "        super().__init__(name)\n",
    "        # Assign the radius as an attribute\n",
    "        self.radius = radius\n",
    "    \n",
    "    # Define the area method for the circle\n",
    "    def area(self):\n",
    "        # Return the area of the circle using the formula pi * r^2\n",
    "        return 3.14 * self.radius ** 2\n",
    "\n",
    "# Define a subclass Rectangle that inherits from Shape\n",
    "class Rectangle(Shape):\n",
    "    # Define a constructor that takes the name, the length, and the width of the rectangle\n",
    "    def __init__(self, name, length, width):\n",
    "        # Call the superclass constructor with the name\n",
    "        super().__init__(name)\n",
    "        # Assign the length and the width as attributes\n",
    "        self.length = length\n",
    "        self.width = width\n",
    "    \n",
    "    # Define the area method for the rectangle\n",
    "    def area(self):\n",
    "        # Return the area of the rectangle using the formula length * width\n",
    "        return self.length * self.width\n",
    "\n",
    "# Define a subclass Triangle that inherits from Shape\n",
    "class Triangle(Shape):\n",
    "    # Define a constructor that takes the name, the base, and the height of the triangle\n",
    "    def __init__(self, name, base, height):\n",
    "        # Call the superclass constructor with the name\n",
    "        super().__init__(name)\n",
    "        # Assign the base and the height as attributes\n",
    "        self.base = base\n",
    "        self.height = height\n",
    "    \n",
    "    # Define the area method for the triangle\n",
    "    def area(self):\n",
    "        # Return the area of the triangle using the formula 0.5 * base * height\n",
    "        return 0.5 * self.base * self.height\n"
   ]
  },
  {
   "cell_type": "code",
   "execution_count": 13,
   "id": "0a03b4c0-36d7-4014-81e6-ae682ff41f46",
   "metadata": {},
   "outputs": [
    {
     "data": {
      "text/plain": [
       "'Polymorphism allows you to reuse the code written for the base class, reducing redundancy and promoting cleaner, more concise code. Flexibility and Extensibility: With polymorphism, you can add new derived classes without modifying existing code. This makes your codebase more flexible and easily extensible.'"
      ]
     },
     "execution_count": 13,
     "metadata": {},
     "output_type": "execute_result"
    }
   ],
   "source": [
    "##12. Discuss the benefits of polymorphism in terms of code reusability and flexibility in Python programs.\n",
    "\"\"\"Polymorphism allows you to reuse the code written for the base class, reducing redundancy and promoting cleaner, more concise code. Flexibility and Extensibility: With polymorphism, you can add new derived classes without modifying existing code. This makes your codebase more flexible and easily extensible.\"\"\"\n",
    "\n"
   ]
  },
  {
   "cell_type": "code",
   "execution_count": 14,
   "id": "b111cf5b-8270-42f1-8c63-217e5987f7e9",
   "metadata": {},
   "outputs": [
    {
     "name": "stdout",
     "output_type": "stream",
     "text": [
      "Leo makes a sound.\n",
      "Max barks.\n"
     ]
    }
   ],
   "source": [
    "#13. Explain the use of the `super()` function in Python polymorphism. How does it help call methods of parent classes?\n",
    "\n",
    "\"\"\"The super() function in Python is used to refer to the parent class or superclass of a subclass. It allows you to call methods defined in the superclass from the subclass, enabling you to extend and customize the functionality inherited from the parent class1.\n",
    "\n",
    "Polymorphism means the same function name (but different signatures) being used for different types2. The super() function helps achieve polymorphism by allowing you to override methods in the subclass that have the same name as the methods in the superclass. This way, you can modify the behavior of the inherited methods without changing the original implementation in the parent class2.\"\"\"\n",
    "\n",
    "\n",
    "# Define a parent class\n",
    "class Animal:\n",
    "    def __init__(self, name):\n",
    "        self.name = name\n",
    "\n",
    "    def speak(self):\n",
    "        print(f\"{self.name} makes a sound.\")\n",
    "\n",
    "# Define a child class that inherits from Animal\n",
    "class Dog(Animal):\n",
    "    def __init__(self, name, breed):\n",
    "        # Call the parent class's __init__ method to initialize the name attribute\n",
    "        super().__init__(name)\n",
    "        self.breed = breed\n",
    "\n",
    "    def speak(self):\n",
    "        # Override the parent class's speak method to customize the behavior\n",
    "        print(f\"{self.name} barks.\")\n",
    "\n",
    "# Create an instance of Animal\n",
    "a = Animal(\"Leo\")\n",
    "a.speak() # Leo makes a sound.\n",
    "\n",
    "# Create an instance of Dog\n",
    "d = Dog(\"Max\", \"Labrador\")\n",
    "d.speak() # Max barks.\n",
    "\n"
   ]
  },
  {
   "cell_type": "code",
   "execution_count": 15,
   "id": "3397ab19-73a7-4840-9e83-267fb9807e00",
   "metadata": {},
   "outputs": [],
   "source": [
    "##14. Create a Python class hierarchy for a banking system with various account types (e.g., savings, checking,\n",
    "\n",
    "# Define a base class for accounts\n",
    "class Account:\n",
    "    # Initialize the account with an id, a balance, and an interest rate\n",
    "    def __init__(self, id, balance, interest):\n",
    "        self.id = id\n",
    "        self.balance = balance\n",
    "        self.interest = interest\n",
    "    \n",
    "    # Deposit an amount to the account and return the new balance\n",
    "    def deposit(self, amount):\n",
    "        self.balance += amount\n",
    "        return self.balance\n",
    "    \n",
    "    # Withdraw an amount from the account and return the new balance\n",
    "    def withdraw(self, amount):\n",
    "        if amount <= self.balance:\n",
    "            self.balance -= amount\n",
    "            return self.balance\n",
    "        else:\n",
    "            print(\"Insufficient funds\")\n",
    "            return None\n",
    "    \n",
    "    # Return the current balance of the account\n",
    "    def get_balance(self):\n",
    "        return self.balance\n",
    "    \n",
    "    # Return the interest earned on the account\n",
    "    def get_interest(self):\n",
    "        return self.balance * self.interest\n",
    "\n",
    "# Define a subclass for savings accounts\n",
    "class SavingsAccount(Account):\n",
    "    # Initialize the savings account with an id, a balance, and a fixed interest rate of 0.01\n",
    "    def __init__(self, id, balance):\n",
    "        super().__init__(id, balance, 0.01)\n",
    "    \n",
    "    # Override the withdraw method to charge a fee of 1 for each withdrawal\n",
    "    def withdraw(self, amount):\n",
    "        return super().withdraw(amount + 1)\n",
    "\n",
    "# Define a subclass for checking accounts\n",
    "class CheckingAccount(Account):\n",
    "    # Initialize the checking account with an id, a balance, and a fixed interest rate of 0\n",
    "    def __init__(self, id, balance):\n",
    "        super().__init__(id, balance, 0)\n",
    "    \n",
    "    # Override the withdraw method to allow overdraft up to -100\n",
    "    def withdraw(self, amount):\n",
    "        if self.balance - amount >= -100:\n",
    "            self.balance -= amount\n",
    "            return self.balance\n",
    "        else:\n",
    "            print(\"Overdraft limit exceeded\")\n",
    "            return None\n",
    "\n"
   ]
  },
  {
   "cell_type": "code",
   "execution_count": 16,
   "id": "3319dfa4-dc02-451e-97e8-b21d1390f4e6",
   "metadata": {},
   "outputs": [
    {
     "name": "stdout",
     "output_type": "stream",
     "text": [
      "(6, 8)\n",
      "(4, 6)\n"
     ]
    }
   ],
   "source": [
    "##15. Describe the concept of operator overloading in Python and how it relates to polymorphism. Provide examples using operators like `+` and `*`.\n",
    "\"\"\"Operator overloading in Python is a form of polymorphism that allows the same operator to have different meanings or behaviors depending on the types of operands it is used with. For example, the + operator can perform arithmetic addition on numbers, string concatenation on strings, and list merging on lists. Similarly, the * operator can perform arithmetic multiplication on numbers, string repetition on strings, and list repetition on lists.\n",
    "\n",
    "To overload an operator in Python, we need to define a special method or magic method in our class that corresponds to that operator. For example, to overload the + operator, we need to define the __add__ method in our class, which takes another object as an argument and returns the result of adding the two objects. Likewise, to overload the * operator, we need to define the __mul__ method in our class, which takes another object as an argument and returns the result of multiplying the two objects.\n",
    "\n",
    "Here is an example of a class that overloads the + and * operators to implement vector addition and scalar multiplication:\"\"\"\n",
    "\n",
    "class Vector:\n",
    "    def __init__(self, x, y):\n",
    "        self.x = x\n",
    "        self.y = y\n",
    "\n",
    "    def __add__(self, other):\n",
    "        # vector addition\n",
    "        return Vector(self.x + other.x, self.y + other.y)\n",
    "\n",
    "    def __mul__(self, other):\n",
    "        # scalar multiplication\n",
    "        return Vector(self.x * other, self.y * other)\n",
    "\n",
    "    def __str__(self):\n",
    "        return f\"({self.x}, {self.y})\"\n",
    "\n",
    "# create two vectors\n",
    "v1 = Vector(2, 3)\n",
    "v2 = Vector(4, 5)\n",
    "\n",
    "# use overloaded operators\n",
    "v3 = v1 + v2 # vector addition\n",
    "v4 = v1 * 2 # scalar multiplication\n",
    "\n",
    "# print results\n",
    "print(v3) # (6, 8)\n",
    "print(v4) # (4, 6)\n",
    "\n",
    "\n",
    "\n"
   ]
  },
  {
   "cell_type": "code",
   "execution_count": 17,
   "id": "92246afe-9dfd-435e-b72e-ad53a9cd0f3a",
   "metadata": {},
   "outputs": [
    {
     "data": {
      "text/plain": [
       "'Dynamic polymorphism is the ability of an object to behave differently depending on its type or class at runtime. It is achieved in Python by using methods that have the same name but different implementations in different classes. For example, the show method in the Bird class can be overridden by the show method in the sparrow and ostrich subclasses, which inherit from the Bird class. This way, the same method name can be used for different types of birds, and the appropriate method will be executed depending on the object’s class. You can see an example of dynamic polymorphism with inheritance '"
      ]
     },
     "execution_count": 17,
     "metadata": {},
     "output_type": "execute_result"
    }
   ],
   "source": [
    "##16. What is dynamic polymorphism, and how is it achieved in Python?\n",
    "\"\"\"Dynamic polymorphism is the ability of an object to behave differently depending on its type or class at runtime. It is achieved in Python by using methods that have the same name but different implementations in different classes. For example, the show method in the Bird class can be overridden by the show method in the sparrow and ostrich subclasses, which inherit from the Bird class. This way, the same method name can be used for different types of birds, and the appropriate method will be executed depending on the object’s class. You can see an example of dynamic polymorphism with inheritance \"\"\"\n",
    "\n",
    "\n"
   ]
  },
  {
   "cell_type": "code",
   "execution_count": 18,
   "id": "1124f73b-1471-48f7-8453-f4710096c185",
   "metadata": {},
   "outputs": [],
   "source": [
    "##17. Create a Python class hierarchy for employees in a company (e.g., manager, developer, designer) and\n",
    "\n",
    "# Define a base class for all employees\n",
    "class Employee:\n",
    "    # Initialize the common attributes for all employees\n",
    "    def __init__(self, name, id, salary):\n",
    "        self.name = name\n",
    "        self.id = id\n",
    "        self.salary = salary\n",
    "\n",
    "    # Define a method to display the employee details\n",
    "    def show_details(self):\n",
    "        print(f\"Name: {self.name}\")\n",
    "        print(f\"ID: {self.id}\")\n",
    "        print(f\"Salary: {self.salary}\")\n",
    "\n",
    "# Define a subclass for managers\n",
    "class Manager(Employee):\n",
    "    # Initialize the additional attribute for managers\n",
    "    def __init__(self, name, id, salary, department):\n",
    "        # Call the base class constructor\n",
    "        super().__init__(name, id, salary)\n",
    "        self.department = department\n",
    "\n",
    "    # Override the show_details method to include the department\n",
    "    def show_details(self):\n",
    "        # Call the base class method\n",
    "        super().show_details()\n",
    "        print(f\"Department: {self.department}\")\n",
    "\n",
    "# Define a subclass for developers\n",
    "class Developer(Employee):\n",
    "    # Initialize the additional attribute for developers\n",
    "    def __init__(self, name, id, salary, language):\n",
    "        # Call the base class constructor\n",
    "        super().__init__(name, id, salary)\n",
    "        self.language = language\n",
    "\n",
    "    # Override the show_details method to include the language\n",
    "    def show_details(self):\n",
    "        # Call the base class method\n",
    "        super().show_details()\n",
    "        print(f\"Language: {self.language}\")\n",
    "\n",
    "# Define a subclass for designers\n",
    "class Designer(Employee):\n",
    "    # Initialize the additional attribute for designers\n",
    "    def __init__(self, name, id, salary, tool):\n",
    "        # Call the base class constructor\n",
    "        super().__init__(name, id, salary)\n",
    "        self.tool = tool\n",
    "\n",
    "    # Override the show_details method to include the tool\n",
    "    def show_details(self):\n",
    "        # Call the base class method\n",
    "        super().show_details()\n",
    "        print(f\"Tool: {self.tool}\")\n"
   ]
  },
  {
   "cell_type": "code",
   "execution_count": 19,
   "id": "9b2ba272-3cf1-473c-aa29-c8544fbe5567",
   "metadata": {},
   "outputs": [
    {
     "name": "stdout",
     "output_type": "stream",
     "text": [
      "4\n",
      "8\n"
     ]
    }
   ],
   "source": [
    "##18. Discuss the concept of function pointers and how they can be used to achieve polymorphism in Python.\n",
    "\n",
    "\"\"\"Function pointers are variables that store the reference to a function. They can be used to invoke the function without using its name. Function pointers can be used to achieve polymorphism in Python by allowing different functions to be passed as arguments to another function, depending on the context.\"\"\"\n",
    "\n",
    "# Define two functions that take one argument\n",
    "def square(x):\n",
    "    return x**2\n",
    "\n",
    "def cube(x):\n",
    "    return x**3\n",
    "\n",
    "# Define a function that takes a function pointer and an argument\n",
    "def apply(func, x):\n",
    "    return func(x)\n",
    "\n",
    "# Pass different function pointers to the apply function\n",
    "print(apply(square, 2)) # prints 4\n",
    "print(apply(cube, 2)) # prints 8\n",
    "\n",
    "\n"
   ]
  },
  {
   "cell_type": "code",
   "execution_count": 20,
   "id": "0dadea55-2c45-44b1-9b2d-7a63cd4df0b1",
   "metadata": {},
   "outputs": [
    {
     "data": {
      "text/plain": [
       "'Polymorphism is the ability of an object to take on many forms. In Python, polymorphism can be achieved by using inheritance and abstract classes, or by using duck typing and interfaces.\\n\\nInheritance and abstract classes are related concepts that allow us to define a common interface for a group of related classes. An abstract class is a class that cannot be instantiated, but it can be used as a base for other classes. It allows us to create a set of methods that must be implemented by its subclasses. An abstract method is a method that has a declaration but does not have an implementation. A class that contains one or more abstract methods is called an abstract class. We can use the abc module in Python to define abstract classes and methods. For example, we can define an abstract class called Animal with an abstract method called move:\\n\\nPython\\nAI-generated code. Review and use carefully. More info on FAQ.\\n\\nfrom abc import ABC, abstractmethod\\n\\nclass Animal(ABC):\\n    @abstractmethod\\n    def move(self):\\n        pass\\nThen, we can define subclasses of Animal that override the move method and provide their own implementation:\\n\\nPython\\nAI-generated code. Review and use carefully. More info on FAQ.\\n\\nclass Human(Animal):\\n    def move(self):\\n        print(\"I can walk and run.\")\\n\\nclass Snake(Animal):\\n    def move(self):\\n        print(\"I can slither.\")\\n\\nclass Dog(Animal):\\n    def move(self):\\n        print(\"I can bark.\")\\n\\nclass Lion(Animal):\\n    def move(self):\\n        print(\"I can roar.\")\\nNow, we can create instances of these subclasses and call the move method on them. This is an example of polymorphism, as the same method name can have different behaviors depending on the object type.'"
      ]
     },
     "execution_count": 20,
     "metadata": {},
     "output_type": "execute_result"
    }
   ],
   "source": [
    "##19. Explain the role of interfaces and abstract classes in polymorphism, drawing comparisons between them.\n",
    "\n",
    "\"\"\"Polymorphism is the ability of an object to take on many forms. In Python, polymorphism can be achieved by using inheritance and abstract classes, or by using duck typing and interfaces.\n",
    "\n",
    "Inheritance and abstract classes are related concepts that allow us to define a common interface for a group of related classes. An abstract class is a class that cannot be instantiated, but it can be used as a base for other classes. It allows us to create a set of methods that must be implemented by its subclasses. An abstract method is a method that has a declaration but does not have an implementation. A class that contains one or more abstract methods is called an abstract class. We can use the abc module in Python to define abstract classes and methods. For example, we can define an abstract class called Animal with an abstract method called move:\n",
    "\n",
    "Python\n",
    "AI-generated code. Review and use carefully. More info on FAQ.\n",
    "\n",
    "from abc import ABC, abstractmethod\n",
    "\n",
    "class Animal(ABC):\n",
    "    @abstractmethod\n",
    "    def move(self):\n",
    "        pass\n",
    "Then, we can define subclasses of Animal that override the move method and provide their own implementation:\n",
    "\n",
    "Python\n",
    "AI-generated code. Review and use carefully. More info on FAQ.\n",
    "\n",
    "class Human(Animal):\n",
    "    def move(self):\n",
    "        print(\"I can walk and run.\")\n",
    "\n",
    "class Snake(Animal):\n",
    "    def move(self):\n",
    "        print(\"I can slither.\")\n",
    "\n",
    "class Dog(Animal):\n",
    "    def move(self):\n",
    "        print(\"I can bark.\")\n",
    "\n",
    "class Lion(Animal):\n",
    "    def move(self):\n",
    "        print(\"I can roar.\")\n",
    "Now, we can create instances of these subclasses and call the move method on them. This is an example of polymorphism, as the same method name can have different behaviors depending on the object type.\"\"\"\n"
   ]
  },
  {
   "cell_type": "code",
   "execution_count": 21,
   "id": "78785d41-051b-43bb-9761-94c6eac8988c",
   "metadata": {},
   "outputs": [
    {
     "name": "stdout",
     "output_type": "stream",
     "text": [
      "Leo is a lion with golden fur\n",
      "Leo says roar\n",
      "\n",
      "Sly is a cobra with black scales\n",
      "Sly says hiss\n",
      "\n",
      "Ellie is a elephant with gray fur\n",
      "Ellie says trumpet\n",
      "\n",
      "Croc is a crocodile with green scales\n",
      "Croc says growl\n",
      "\n"
     ]
    }
   ],
   "source": [
    "##20. Create a Python class for a zoo simulation, demonstrating polymorphism with different animal types (e.g.,\n",
    "\n",
    "# Define a base class Animal with common attributes and methods for all animals\n",
    "class Animal:\n",
    "    def __init__(self, name, species, sound):\n",
    "        self.name = name # Each animal has a name\n",
    "        self.species = species # Each animal belongs to a species\n",
    "        self.sound = sound # Each animal makes a sound\n",
    "\n",
    "    def __str__(self):\n",
    "        return f\"{self.name} is a {self.species}\"\n",
    "\n",
    "    def make_sound(self):\n",
    "        return f\"{self.name} says {self.sound}\"\n",
    "\n",
    "# Define a subclass Mammal that inherits from Animal and has additional attributes and methods\n",
    "class Mammal(Animal):\n",
    "    def __init__(self, name, species, sound, fur_color):\n",
    "        super().__init__(name, species, sound) # Call the parent class constructor\n",
    "        self.fur_color = fur_color # Each mammal has a fur color\n",
    "\n",
    "    def __str__(self):\n",
    "        return super().__str__() + f\" with {self.fur_color} fur\"\n",
    "\n",
    "    def warm_blooded(self):\n",
    "        return True # All mammals are warm-blooded\n",
    "\n",
    "# Define a subclass Reptile that inherits from Animal and has additional attributes and methods\n",
    "class Reptile(Animal):\n",
    "    def __init__(self, name, species, sound, scale_color):\n",
    "        super().__init__(name, species, sound) # Call the parent class constructor\n",
    "        self.scale_color = scale_color # Each reptile has a scale color\n",
    "\n",
    "    def __str__(self):\n",
    "        return super().__str__() + f\" with {self.scale_color} scales\"\n",
    "\n",
    "    def cold_blooded(self):\n",
    "        return True # All reptiles are cold-blooded\n",
    "\n",
    "# Create some instances of different animal types\n",
    "lion = Mammal(\"Leo\", \"lion\", \"roar\", \"golden\")\n",
    "snake = Reptile(\"Sly\", \"cobra\", \"hiss\", \"black\")\n",
    "elephant = Mammal(\"Ellie\", \"elephant\", \"trumpet\", \"gray\")\n",
    "crocodile = Reptile(\"Croc\", \"crocodile\", \"growl\", \"green\")\n",
    "\n",
    "# Store the animals in a list\n",
    "zoo = [lion, snake, elephant, crocodile]\n",
    "\n",
    "# Loop through the list and print the details and sounds of each animal\n",
    "for animal in zoo:\n",
    "    print(animal) # This will call the __str__ method of each subclass\n",
    "    print(animal.make_sound()) # This will call the make_sound method of the base class\n",
    "    print()\n",
    "\n"
   ]
  },
  {
   "cell_type": "code",
   "execution_count": 23,
   "id": "93c61893-9a09-45e3-a147-705ba2389a89",
   "metadata": {},
   "outputs": [],
   "source": [
    "##Abstraction:"
   ]
  },
  {
   "cell_type": "code",
   "execution_count": 1,
   "id": "4d19b698-d877-4a28-b723-57759401c26b",
   "metadata": {},
   "outputs": [
    {
     "name": "stdout",
     "output_type": "stream",
     "text": [
      "Woof\n"
     ]
    }
   ],
   "source": [
    "#1. What is abstraction in Python, and how does it relate to object-oriented programming?\n",
    "\n",
    "\"\"\"Abstraction in Python is a concept that allows us to hide the implementation details of a class or a function and only expose the essential features to the user. It is one of the four main principles of object-oriented programming (OOP), along with encapsulation, inheritance, and polymorphism1.\n",
    "\n",
    "Abstraction helps us to create simpler and more understandable code by focusing on the behavior and functionality of an object, rather than the internal details. For example, when we use a list object in Python, we do not need to know how it is implemented internally, we only need to know how to use its methods and attributes.\n",
    "\n",
    "To achieve abstraction in Python, we can use abstract classes and methods. An abstract class is a class that contains one or more abstract methods, which are methods that are declared but not implemented. An abstract class cannot be instantiated, it can only be inherited by a subclass that provides the implementation of the abstract methods2. To create an abstract class in Python, we need to import the abc module and use the @abstractmethod decorator3\"\"\"\n",
    "from abc import ABC, abstractmethod\n",
    "\n",
    "class Animal(ABC): # abstract class\n",
    "    @abstractmethod\n",
    "    def make_sound(self): # abstract method\n",
    "        pass\n",
    "\n",
    "class Dog(Animal): # subclass\n",
    "    def make_sound(self): # implementation of abstract method\n",
    "        print(\"Woof\")\n",
    "\n",
    "d = Dog() # create an object of subclass\n",
    "d.make_sound() # call the method\n"
   ]
  },
  {
   "cell_type": "code",
   "execution_count": 2,
   "id": "4b10db30-9266-4113-972e-09611e754c82",
   "metadata": {},
   "outputs": [
    {
     "data": {
      "text/plain": [
       "'Abstraction is the process of simplifying an entity by omitting unimportant details and exposing an interface. Abstraction has many benefits for code organization and complexity reduction, such as:\\n\\nCentralization: Abstraction allows us to group related functionalities into a single unit, such as a class, a module, or a function. This makes the code easier to maintain and reuse, as we can change the implementation details without affecting the interface.\\nSimplicity: Abstraction helps us to hide the complexity of the underlying system and focus on the essential features. This reduces the cognitive load on the developers and makes the code more readable and understandable.\\nBetter testing: Abstraction enables us to test the code at different levels of granularity, from unit tests to integration tests. By isolating the dependencies and interactions between components, we can ensure the correctness and reliability of the code.'"
      ]
     },
     "execution_count": 2,
     "metadata": {},
     "output_type": "execute_result"
    }
   ],
   "source": [
    "#2. Describe the benefits of abstraction in terms of code organization and complexity reduction.\n",
    "\n",
    "\"\"\"Abstraction is the process of simplifying an entity by omitting unimportant details and exposing an interface. Abstraction has many benefits for code organization and complexity reduction, such as:\n",
    "\n",
    "Centralization: Abstraction allows us to group related functionalities into a single unit, such as a class, a module, or a function. This makes the code easier to maintain and reuse, as we can change the implementation details without affecting the interface.\n",
    "Simplicity: Abstraction helps us to hide the complexity of the underlying system and focus on the essential features. This reduces the cognitive load on the developers and makes the code more readable and understandable.\n",
    "Better testing: Abstraction enables us to test the code at different levels of granularity, from unit tests to integration tests. By isolating the dependencies and interactions between components, we can ensure the correctness and reliability of the code.\"\"\""
   ]
  },
  {
   "cell_type": "code",
   "execution_count": 3,
   "id": "90e9ef64-aa0b-4b47-a888-d5fe307fa111",
   "metadata": {},
   "outputs": [
    {
     "name": "stdout",
     "output_type": "stream",
     "text": [
      "The area of the circle is 78.54.\n",
      "The area of the rectangle is 70.\n"
     ]
    }
   ],
   "source": [
    "#3. Create a Python class called `Shape` with an abstract method `calculate_area()`. Then, create child classes (e.g., `Circle`, `Rectangle`) that implement the `calculate_area()` method. Provide an example of using these classes.\n",
    "\n",
    "\n",
    "\n",
    "# Import the abc module to use abstract base classes\n",
    "import abc\n",
    "\n",
    "# Define an abstract base class called Shape\n",
    "class Shape(abc.ABC):\n",
    "\n",
    "    # Define an abstract method called calculate_area\n",
    "    @abc.abstractmethod\n",
    "    def calculate_area(self):\n",
    "        pass\n",
    "\n",
    "# Define a subclass called Circle that inherits from Shape\n",
    "class Circle(Shape):\n",
    "\n",
    "    # Initialize the Circle object with a radius attribute\n",
    "    def __init__(self, radius):\n",
    "        self.radius = radius\n",
    "\n",
    "    # Override the calculate_area method to return the area of the circle\n",
    "    def calculate_area(self):\n",
    "        # Use the math module to access the value of pi\n",
    "        import math\n",
    "        return math.pi * self.radius**2\n",
    "\n",
    "# Define a subclass called Rectangle that inherits from Shape\n",
    "class Rectangle(Shape):\n",
    "\n",
    "    # Initialize the Rectangle object with length and width attributes\n",
    "    def __init__(self, length, width):\n",
    "        self.length = length\n",
    "        self.width = width\n",
    "\n",
    "    # Override the calculate_area method to return the area of the rectangle\n",
    "    def calculate_area(self):\n",
    "        return self.length * self.width\n",
    "\n",
    "# Example usage\n",
    "# Create a Circle object with radius 5 and calculate its area\n",
    "circle = Circle(5)\n",
    "circle_area = circle.calculate_area()\n",
    "print(f\"The area of the circle is {circle_area:.2f}.\")\n",
    "\n",
    "# Create a Rectangle object with length 10 and width 7 and calculate its area\n",
    "rectangle = Rectangle(10, 7)\n",
    "rectangle_area = rectangle.calculate_area()\n",
    "print(f\"The area of the rectangle is {rectangle_area}.\")\n"
   ]
  },
  {
   "cell_type": "code",
   "execution_count": 4,
   "id": "8e50b549-dc7c-4643-ab22-5839a192f9aa",
   "metadata": {},
   "outputs": [],
   "source": [
    "#4. Explain the concept of abstract classes in Python and how they are defined using the `abc` module. Provide an example.\n",
    "\n",
    "\n",
    "\n",
    "\"\"\"An abstract class is a class that cannot be instantiated and is meant to be used as a base class for other classes1. In Python, the abc module provides the infrastructure for defining abstract base classes (ABCs)2. To create an abstract base class, we need to inherit from the ABC class and use the @abstractmethod decorator to declare abstract methods3\"\"\"\n",
    "\n",
    "from abc import ABC, abstractmethod\n",
    "\n",
    "class Shape(ABC):\n",
    "    # abstract method\n",
    "    @abstractmethod\n",
    "    def area(self):\n",
    "        pass\n",
    "\n",
    "    # abstract method\n",
    "    @abstractmethod\n",
    "    def perimeter(self):\n",
    "        pass\n",
    "\n",
    "# concrete class\n",
    "class Circle(Shape):\n",
    "    def __init__(self, radius):\n",
    "        self.radius = radius\n",
    "\n",
    "    # overriding abstract method\n",
    "    def area(self):\n",
    "        return 3.14 * self.radius ** 2\n",
    "\n",
    "    # overriding abstract method\n",
    "    def perimeter(self):\n",
    "        return 2 * 3.14 * self.radius\n"
   ]
  },
  {
   "cell_type": "code",
   "execution_count": 5,
   "id": "1dd24437-d618-4f4b-8364-b48cb5872a2c",
   "metadata": {},
   "outputs": [],
   "source": [
    "#5. How do abstract classes differ from regular classes in Python? Discuss their use cases.\n",
    "\"\"\"Abstract classes are classes that cannot be instantiated, but can be used as blueprints for other classes. They may contain abstract methods, which are methods that have no implementation and must be overridden by subclasses. Abstract classes are useful for defining common interfaces and behaviors for different implementations of a component. For example, you can define an abstract class for a shape, and then create subclasses for different kinds of shapes, such as circles, squares, triangles, etc. Each subclass would have to implement the abstract methods of the shape class, such as calculating the area, perimeter, etc.\n",
    "\n",
    "To define an abstract class in Python, you need to use the abc module, which provides the infrastructure for creating abstract base classes. You can use the @abstractmethod decorator to mark a method as abstract, and the ABC class to mark a class as abstract. For example, the following code defines an abstract class for a shape, and two subclasses for a circle and a square:\"\"\"\n",
    "\n",
    "from abc import ABC, abstractmethod\n",
    "import math\n",
    "\n",
    "class Shape(ABC):\n",
    "    @abstractmethod\n",
    "    def area(self):\n",
    "        pass\n",
    "\n",
    "    @abstractmethod\n",
    "    def perimeter(self):\n",
    "        pass\n",
    "\n",
    "class Circle(Shape):\n",
    "    def __init__(self, radius):\n",
    "        self.radius = radius\n",
    "\n",
    "    def area(self):\n",
    "        return math.pi * self.radius ** 2\n",
    "\n",
    "    def perimeter(self):\n",
    "        return 2 * math.pi * self.radius\n",
    "\n",
    "class Square(Shape):\n",
    "    def __init__(self, side):\n",
    "        self.side = side\n",
    "\n",
    "    def area(self):\n",
    "        return self.side ** 2\n",
    "\n",
    "    def perimeter(self):\n",
    "        return 4 * self.side\n",
    "\n",
    "\n"
   ]
  },
  {
   "cell_type": "code",
   "execution_count": 6,
   "id": "d26f65f2-3b28-460b-9f7e-3fd0ba4cf6af",
   "metadata": {},
   "outputs": [
    {
     "name": "stdout",
     "output_type": "stream",
     "text": [
      "$1000 has been deposited to your account.\n",
      "$500 has been withdrawn from your account.\n",
      "Your current balance is $500.\n"
     ]
    }
   ],
   "source": [
    "#6. Create a Python class for a bank account and demonstrate abstraction by hiding the account balance and providing methods to deposit and withdraw funds.\n",
    "\n",
    "\n",
    "# Define the BankAccount class\n",
    "class BankAccount:\n",
    "    # Initialize the object with an account number and a balance\n",
    "    def __init__(self, account_number):\n",
    "        self.account_number = account_number\n",
    "        self.__balance = 0 # Use double underscore to hide the balance attribute\n",
    "\n",
    "    # Define a method to deposit money\n",
    "    def deposit(self, amount):\n",
    "        self.__balance += amount # Update the balance\n",
    "        print(f\"${amount} has been deposited to your account.\")\n",
    "\n",
    "    # Define a method to withdraw money\n",
    "    def withdraw(self, amount):\n",
    "        if amount > self.__balance: # Check if there is enough balance\n",
    "            print(\"Insufficient funds.\")\n",
    "        else:\n",
    "            self.__balance -= amount # Update the balance\n",
    "            print(f\"${amount} has been withdrawn from your account.\")\n",
    "\n",
    "    # Define a method to check the balance\n",
    "    def get_balance(self):\n",
    "        return self.__balance # Return the balance\n",
    "\n",
    "# Create an object of the BankAccount class\n",
    "my_account = BankAccount(123456789)\n",
    "\n",
    "# Deposit some money\n",
    "my_account.deposit(1000)\n",
    "\n",
    "# Withdraw some money\n",
    "my_account.withdraw(500)\n",
    "\n",
    "# Check the balance\n",
    "print(f\"Your current balance is ${my_account.get_balance()}.\")\n"
   ]
  },
  {
   "cell_type": "code",
   "execution_count": 9,
   "id": "7d9e5223-982c-4927-bf6d-c46aa8d6b65c",
   "metadata": {},
   "outputs": [
    {
     "data": {
      "text/plain": [
       "'An interface class in Python is a subclass of zope.interface.Interface that defines a set of method signatures that the implementing class is expected to provide1. Interface classes are used to achieve abstraction by defining a high-level contract that all classes must adhere to. Abstraction is the process of hiding the implementation details and exposing only the essential features of an object or a s\\nystem'"
      ]
     },
     "execution_count": 9,
     "metadata": {},
     "output_type": "execute_result"
    }
   ],
   "source": [
    "#7. Discuss the concept of interface classes in Python and their role in achieving abstraction.\n",
    "\n",
    "\"\"\"An interface class in Python is a subclass of zope.interface.Interface that defines a set of method signatures that the implementing class is expected to provide1. Interface classes are used to achieve abstraction by defining a high-level contract that all classes must adhere to. Abstraction is the process of hiding the implementation details and exposing only the essential features of an object or a s\n",
    "ystem\"\"\""
   ]
  },
  {
   "cell_type": "code",
   "execution_count": 10,
   "id": "d91158d0-789c-4060-a3e5-782a8298952f",
   "metadata": {},
   "outputs": [],
   "source": [
    "#8. Create a Python class hierarchy for animals and implement abstraction by defining common methods (e.g., `eat()`, `sleep()`) in an abstract base class.\n",
    "\n",
    "# Define an abstract base class for animals\n",
    "class Animal:\n",
    "    # Use the __init__ method to initialize the common attributes\n",
    "    def __init__(self, name, age):\n",
    "        self.name = name\n",
    "        self.age = age\n",
    "\n",
    "    # Define an abstract method for eating\n",
    "    def eat(self):\n",
    "        raise NotImplementedError(\"Subclass must implement this method\")\n",
    "\n",
    "    # Define an abstract method for sleeping\n",
    "    def sleep(self):\n",
    "        raise NotImplementedError(\"Subclass must implement this method\")\n",
    "\n",
    "    # Define a common method for getting the name\n",
    "    def get_name(self):\n",
    "        return self.name\n",
    "\n",
    "    # Define a common method for getting the age\n",
    "    def get_age(self):\n",
    "        return self.age\n",
    "\n",
    "# Define a subclass for dogs that inherits from Animal\n",
    "class Dog(Animal):\n",
    "    # Use the __init__ method to initialize the specific attributes\n",
    "    def __init__(self, name, age, breed):\n",
    "        # Call the superclass __init__ method to set the common attributes\n",
    "        super().__init__(name, age)\n",
    "        # Set the specific attribute for dogs\n",
    "        self.breed = breed\n",
    "\n",
    "    # Override the eat method for dogs\n",
    "    def eat(self):\n",
    "        print(f\"{self.name} is eating dog food.\")\n",
    "\n",
    "    # Override the sleep method for dogs\n",
    "    def sleep(self):\n",
    "        print(f\"{self.name} is sleeping on the couch.\")\n",
    "\n",
    "    # Define a specific method for getting the breed\n",
    "    def get_breed(self):\n",
    "        return self.breed\n",
    "\n",
    "# Define a subclass for cats that inherits from Animal\n",
    "class Cat(Animal):\n",
    "    # Use the __init__ method to initialize the specific attributes\n",
    "    def __init__(self, name, age, color):\n",
    "        # Call the superclass __init__ method to set the common attributes\n",
    "        super().__init__(name, age)\n",
    "        # Set the specific attribute for cats\n",
    "        self.color = color\n",
    "\n",
    "    # Override the eat method for cats\n",
    "    def eat(self):\n",
    "        print(f\"{self.name} is eating cat food.\")\n",
    "\n",
    "    # Override the sleep method for cats\n",
    "    def sleep(self):\n",
    "        print(f\"{self.name} is sleeping on the bed.\")\n",
    "\n",
    "    # Define a specific method for getting the color\n",
    "    def get_color(self):\n",
    "        return self.color\n",
    "\n"
   ]
  },
  {
   "cell_type": "code",
   "execution_count": 11,
   "id": "d6333714-5d64-4107-ae69-9c73e716b614",
   "metadata": {},
   "outputs": [],
   "source": [
    "# 9. Explain the significance of encapsulation in achieving abstraction. Provide examples.\n",
    "\n",
    "\"\"\"Encapsulation is one of the fundamental concepts in object-oriented programming (OOP). It describes the idea of wrapping data and the methods that work on data within one unit. This puts restrictions on accessing variables and methods directly and can prevent the accidental modification of data12.\n",
    "\n",
    "Abstraction is another key concept of OOP that refers to the process of hiding the implementation details from the user and only providing the essential features or functionality1. Abstraction helps to reduce the complexity of the system and make it more understandable and maintainable.\n",
    "\n",
    "Encapsulation and abstraction are closely related, as encapsulation helps to achieve abstraction by hiding the data and methods that are not relevant or necessary for the user. For example, in Python, a class is an example of encapsulation, as it encapsulates all the data (attributes) and methods (behaviors) that belong to the class. The user of the class only needs to know the name of the class, its attributes, and methods, and how to create an object of the class. The user does not need to know how the methods are implemented or how the data is stored internally. This is an example of abstraction, as the user only interacts with the essential features of the class, and the implementation details are hidden from the user.\"\"\"\n",
    "\n",
    "\n",
    "# A class that represents a bank account\n",
    "class BankAccount:\n",
    "    # A private attribute that stores the balance\n",
    "    __balance = 0\n",
    "\n",
    "    # A constructor that initializes the balance with the given amount\n",
    "    def __init__(self, amount):\n",
    "        self.__balance = amount\n",
    "\n",
    "    # A method that deposits the given amount to the account\n",
    "    def deposit(self, amount):\n",
    "        self.__balance += amount\n",
    "        print(f\"Deposited {amount} to the account\")\n",
    "\n",
    "    # A method that withdraws the given amount from the account\n",
    "    def withdraw(self, amount):\n",
    "        if amount > self.__balance:\n",
    "            print(\"Insufficient funds\")\n",
    "        else:\n",
    "            self.__balance -= amount\n",
    "            print(f\"Withdrawn {amount} from the account\")\n",
    "\n",
    "    # A method that returns the current balance of the account\n",
    "    def get_balance(self):\n",
    "        return self.__balance\n"
   ]
  },
  {
   "cell_type": "code",
   "execution_count": 12,
   "id": "72bab112-df45-43ef-941e-1c8c948bd79b",
   "metadata": {},
   "outputs": [
    {
     "name": "stdout",
     "output_type": "stream",
     "text": [
      "I have 3 sides\n",
      "I have 4 sides\n"
     ]
    }
   ],
   "source": [
    "#10. What is the purpose of abstract methods, and how do they enforce abstraction in Python classes?\n",
    "\n",
    "\n",
    "\"\"\"Abstract methods are methods that are declared but not implemented in an abstract base class (ABC). They serve as a blueprint for the subclasses that inherit from the ABC, and they enforce abstraction by requiring the subclasses to provide their own implementation of the abstract methods. For example, if you have an ABC called Polygon with an abstract method called noofsides, then any subclass of Polygon (such as Triangle, Quadrilateral, etc.) must override the noofsides method and define how many sides it has. This way, the ABC defines a common interface for all the subclasses, but the subclasses can have different behaviors according to their specific characteristics. To create an ABC in Python, you can use the abc module and the @abstractmethod decorator12. You can also register unrelated classes as virtual subclasses of an ABC using the register method2. Here is an example of an ABC and its subclasses using the abc module:\"\"\"\n",
    "\n",
    "\n",
    "from abc import ABC, abstractmethod\n",
    "\n",
    "class Polygon(ABC):\n",
    "    @abstractmethod\n",
    "    def noofsides(self):\n",
    "        pass\n",
    "\n",
    "class Triangle(Polygon):\n",
    "    def noofsides(self):\n",
    "        print(\"I have 3 sides\")\n",
    "\n",
    "class Quadrilateral(Polygon):\n",
    "    def noofsides(self):\n",
    "        print(\"I have 4 sides\")\n",
    "\n",
    "t = Triangle()\n",
    "t.noofsides() # prints \"I have 3 sides\"\n",
    "\n",
    "q = Quadrilateral()\n",
    "q.noofsides() # prints \"I have 4 sides\"\n"
   ]
  },
  {
   "cell_type": "code",
   "execution_count": 13,
   "id": "998d2a96-de46-4528-93b6-3af39f8178a9",
   "metadata": {},
   "outputs": [],
   "source": [
    "#11. Create a Python class for a vehicle system and demonstrate abstraction by defining common methods (e.g., `start()`, `stop()`) in an abstract base class.\n",
    "\n",
    "\n",
    "\n",
    "# Import the abstract base class module\n",
    "from abc import ABC, abstractmethod\n",
    "\n",
    "# Define the Vehicle class as an abstract base class\n",
    "class Vehicle(ABC):\n",
    "    # Define the constructor with common attributes\n",
    "    def __init__(self, brand, model, color):\n",
    "        self.brand = brand\n",
    "        self.model = model\n",
    "        self.color = color\n",
    "        self.running = False # A boolean flag to indicate if the vehicle is running or not\n",
    "\n",
    "    # Define an abstract method to get the type of the vehicle\n",
    "    @abstractmethod\n",
    "    def get_type(self):\n",
    "        pass\n",
    "\n",
    "    # Define a common method to start the vehicle\n",
    "    def start(self):\n",
    "        if not self.running: # Check if the vehicle is not already running\n",
    "            self.running = True # Set the flag to True\n",
    "            print(f\"The {self.color} {self.brand} {self.model} has started.\") # Print a message\n",
    "        else: # If the vehicle is already running\n",
    "            print(f\"The {self.color} {self.brand} {self.model} is already running.\") # Print a message\n",
    "\n",
    "    # Define a common method to stop the vehicle\n",
    "    def stop(self):\n",
    "        if self.running: # Check if the vehicle is running\n",
    "            self.running = False # Set the flag to False\n",
    "            print(f\"The {self.color} {self.brand} {self.model} has stopped.\") # Print a message\n",
    "        else: # If the vehicle is not running\n",
    "            print(f\"The {self.color} {self.brand} {self.model} is already stopped.\") # Print a message\n"
   ]
  },
  {
   "cell_type": "code",
   "execution_count": 14,
   "id": "b37354cb-0f7c-40f6-8996-09c0f60e678e",
   "metadata": {},
   "outputs": [],
   "source": [
    "#12. Describe the use of abstract properties in Python and how they can be employed in abstract classes.\n",
    "\n",
    "\n",
    "\"\"\"Abstract properties in Python are a way of defining attributes that must be implemented by subclasses of an abstract class. An abstract class is a class that contains one or more abstract methods, which are methods that have a declaration but no implementation. Abstract classes are used to create a common interface for different implementations of a component.\n",
    "\n",
    "To create an abstract property in Python, you can use the @property and @abstractmethod decorators from the abc module. The @property decorator makes a method behave like a read-only attribute, while the @abstractmethod decorator indicates that the method must be overridden by a concrete subclass. For example\"\"\"\n",
    "\n",
    "from abc import ABC, abstractmethod\n",
    "\n",
    "class Shape(ABC):\n",
    "    @property\n",
    "    @abstractmethod\n",
    "    def area(self):\n",
    "        \"\"\"This property will return the area of the shape\"\"\"\n",
    "        pass\n",
    "\n",
    "class Circle(Shape):\n",
    "    def __init__(self, radius):\n",
    "        self.radius = radius\n",
    "    \n",
    "    @property\n",
    "    def area(self):\n",
    "        return 3.14 * self.radius ** 2\n",
    "\n"
   ]
  },
  {
   "cell_type": "code",
   "execution_count": 15,
   "id": "d5e7ae82-22eb-4a7e-a3e0-acde5415abdf",
   "metadata": {},
   "outputs": [],
   "source": [
    "#13. Create a Python class hierarchy for employees in a company (e.g., manager, developer, designer) and\n",
    "\n",
    "# Define the base class Employee\n",
    "class Employee:\n",
    "    def __init__(self, name, id, salary, department):\n",
    "        self.name = name\n",
    "        self.id = id\n",
    "        self.salary = salary\n",
    "        self.department = department\n",
    "\n",
    "    def get_info(self):\n",
    "        return f\"Name: {self.name}, ID: {self.id}, Salary: {self.salary}, Department: {self.department}\"\n",
    "\n",
    "    def get_pay(self):\n",
    "        return self.salary\n",
    "\n",
    "# Define the subclass Manager that inherits from Employee\n",
    "class Manager(Employee):\n",
    "    def __init__(self, name, id, salary, department, team):\n",
    "        # Call the __init__ method of the base class\n",
    "        super().__init__(name, id, salary, department)\n",
    "        # Add a new attribute for the team\n",
    "        self.team = team\n",
    "\n",
    "    def manage_team(self):\n",
    "        # Implement the method to manage the team\n",
    "        print(f\"{self.name} is managing the {self.team} team.\")\n",
    "\n",
    "    def get_pay(self):\n",
    "        # Override the get_pay method of the base class\n",
    "        # Add a bonus of 10% to the salary\n",
    "        return self.salary * 1.1\n",
    "\n",
    "# Define the subclass Developer that inherits from Employee\n",
    "class Developer(Employee):\n",
    "    def __init__(self, name, id, salary, department, projects, skills):\n",
    "        # Call the __init__ method of the base class\n",
    "        super().__init__(name, id, salary, department)\n",
    "        # Add new attributes for the projects and skills\n",
    "        self.projects = projects\n",
    "        self.skills = skills\n",
    "\n",
    "    def develop_project(self, project):\n",
    "        # Implement the method to develop a project\n",
    "        print(f\"{self.name} is developing the {project} project.\")\n",
    "\n",
    "    def get_pay(self):\n",
    "        # Override the get_pay method of the base class\n",
    "        # Add a bonus of 5% to the salary for each project\n",
    "        return self.salary * (1 + 0.05 * len(self.projects))\n",
    "\n",
    "# Define the subclass Designer that inherits from Employee\n",
    "class Designer(Employee):\n",
    "    def __init__(self, name, id, salary, department, projects, skills):\n",
    "        # Call the __init__ method of the base class\n",
    "        super().__init__(name, id, salary, department)\n",
    "        # Add new attributes for the projects and skills\n",
    "        self.projects = projects\n",
    "        self.skills = skills\n",
    "\n",
    "    def design_project(self, project):\n",
    "        # Implement the method to design a project\n",
    "        print(f\"{self.name} is designing the {project} project.\")\n",
    "\n",
    "    def get_pay(self):\n",
    "        # Override the get_pay method of the base class\n",
    "        # Add a bonus of 3% to the salary for each skill\n",
    "        return self.salary * (1 + 0.03 * len(self.skills))\n"
   ]
  },
  {
   "cell_type": "code",
   "execution_count": 16,
   "id": "e14e49dc-c000-4785-9088-6d9e61b2cca4",
   "metadata": {},
   "outputs": [
    {
     "name": "stdout",
     "output_type": "stream",
     "text": [
      "Woof\n",
      "Meow\n"
     ]
    }
   ],
   "source": [
    "#14. Discuss the differences between abstract classes and concrete classes in Python, including their instantiation.\n",
    "\n",
    "\"\"\"The main difference between abstract classes and concrete classes in Python is that abstract classes enforce a common interface for their subclasses, while concrete classes provide the actual functionality. Abstract classes are useful for designing large and complex systems, where we want to ensure that different components have consistent behavior and follow the same specifications. Concrete classes are useful for implementing the specific logic and details of each component.\"\"\"\n",
    "\n",
    "\n",
    "from abc import ABC, abstractmethod\n",
    "\n",
    "class Animal(ABC):\n",
    "    @abstractmethod\n",
    "    def make_sound(self):\n",
    "        pass\n",
    "\n",
    "class Dog(Animal):\n",
    "    def make_sound(self):\n",
    "        print(\"Woof\")\n",
    "\n",
    "class Cat(Animal):\n",
    "    def make_sound(self):\n",
    "        print(\"Meow\")\n",
    "\n",
    "d = Dog()\n",
    "d.make_sound() # Woof\n",
    "\n",
    "c = Cat()\n",
    "c.make_sound() # Meow\n"
   ]
  },
  {
   "cell_type": "code",
   "execution_count": 18,
   "id": "ba58c896-e1d1-4164-9db7-e49040308ac2",
   "metadata": {},
   "outputs": [
    {
     "data": {
      "text/plain": [
       "'An abstract data type (ADT) is a type of data structure that is defined by a set of values and a set of operations, without specifying how they are implemented. ADTs allow programmers to achieve abstraction, which means hiding the details of how data is stored and manipulated from the user. Abstraction makes the code more readable, modular, and reusable.\\n\\nSome examples of ADTs are stack, queue, list, tree, graph, etc. Each ADT has a specific interface that defines the operations that can be performed on it, such as push, pop, enqueue, dequeue, insert, remove, etc. The implementation of these operations can vary depending on the underlying data structure, such as array, linked list, heap, etc.\\n\\nIn Python, ADTs can be implemented using classes, which are user-defined data types that can have attributes and methods. Classes can also inherit from other classes, which allows for code reuse and polymorphism. For example, a stack ADT can be implemented using a list as the underlying data structure, and defining methods such as push, pop, peek, isEmpty, and size. A queue ADT can be implemented similarly, but with different methods such as enqueue, dequeue, front, isEmpty, and size.'"
      ]
     },
     "execution_count": 18,
     "metadata": {},
     "output_type": "execute_result"
    }
   ],
   "source": [
    "#15. Explain the concept of abstract data types (ADTs) and their role in achieving abstraction in Python.\n",
    "\n",
    "\"\"\"An abstract data type (ADT) is a type of data structure that is defined by a set of values and a set of operations, without specifying how they are implemented. ADTs allow programmers to achieve abstraction, which means hiding the details of how data is stored and manipulated from the user. Abstraction makes the code more readable, modular, and reusable.\n",
    "\n",
    "Some examples of ADTs are stack, queue, list, tree, graph, etc. Each ADT has a specific interface that defines the operations that can be performed on it, such as push, pop, enqueue, dequeue, insert, remove, etc. The implementation of these operations can vary depending on the underlying data structure, such as array, linked list, heap, etc.\n",
    "\n",
    "In Python, ADTs can be implemented using classes, which are user-defined data types that can have attributes and methods. Classes can also inherit from other classes, which allows for code reuse and polymorphism. For example, a stack ADT can be implemented using a list as the underlying data structure, and defining methods such as push, pop, peek, isEmpty, and size. A queue ADT can be implemented similarly, but with different methods such as enqueue, dequeue, front, isEmpty, and size.\"\"\""
   ]
  },
  {
   "cell_type": "code",
   "execution_count": 19,
   "id": "aaaa73fd-cf78-45dc-9aa8-786a67a6e12a",
   "metadata": {},
   "outputs": [
    {
     "name": "stdout",
     "output_type": "stream",
     "text": [
      "My system's operating system is Windows 10\n",
      "Booting Windows 10...\n",
      "Running Python on Windows 10...\n",
      "Shutting down Windows 10...\n"
     ]
    }
   ],
   "source": [
    "#16. Create a Python class for a computer system, demonstrating abstraction by defining common methods\n",
    "\n",
    "# define a class for a computer system\n",
    "class ComputerSystem:\n",
    "    # define an attribute for the operating system\n",
    "    def __init__(self, os):\n",
    "        self.os = os\n",
    "\n",
    "    # define a method for booting the system\n",
    "    def boot(self):\n",
    "        print(f\"Booting {self.os}...\")\n",
    "\n",
    "    # define a method for shutting down the system\n",
    "    def shutdown(self):\n",
    "        print(f\"Shutting down {self.os}...\")\n",
    "\n",
    "    # define a method for running a program\n",
    "    def run(self, program):\n",
    "        print(f\"Running {program} on {self.os}...\")\n",
    "\n",
    "# create an object of the class\n",
    "my_system = ComputerSystem(\"Windows 10\")\n",
    "\n",
    "# access the attribute\n",
    "print(f\"My system's operating system is {my_system.os}\")\n",
    "\n",
    "# call the methods\n",
    "my_system.boot()\n",
    "my_system.run(\"Python\")\n",
    "my_system.shutdown()\n",
    "\n"
   ]
  },
  {
   "cell_type": "code",
   "execution_count": 20,
   "id": "abb61387-a67f-4284-a07b-4c86a3e773f0",
   "metadata": {},
   "outputs": [
    {
     "data": {
      "text/plain": [
       "'Abstraction is the process of representing the essential features of an object without specifying the underlying implementation details1. This allows developers to create high-level abstractions of complex tasks, making the code easier to work with2.\\n\\nSome of the benefits of using abstraction in large-scale software development projects are:\\n\\nIt reduces the complexity of the code by hiding unnecessary details from the user3.\\nIt enables the user to implement more complex logic on top of the provided abstraction without understanding or even thinking about all the hidden complexity2.\\nIt improves the modularity and reusability of the code by allowing different components to interact through well-defined interfaces4.\\nIt facilitates the collaboration and communication among cross-functional teams by providing a common language and a clear division of responsibilities4.\\nIt enhances the maintainability and scalability of the code by allowing changes to be made at one level without affecting the other levels3.'"
      ]
     },
     "execution_count": 20,
     "metadata": {},
     "output_type": "execute_result"
    }
   ],
   "source": [
    "#17. Discuss the benefits of using abstraction in large-scale software development projects.\n",
    "\n",
    "\"\"\"Abstraction is the process of representing the essential features of an object without specifying the underlying implementation details1. This allows developers to create high-level abstractions of complex tasks, making the code easier to work with2.\n",
    "\n",
    "Some of the benefits of using abstraction in large-scale software development projects are:\n",
    "\n",
    "It reduces the complexity of the code by hiding unnecessary details from the user3.\n",
    "It enables the user to implement more complex logic on top of the provided abstraction without understanding or even thinking about all the hidden complexity2.\n",
    "It improves the modularity and reusability of the code by allowing different components to interact through well-defined interfaces4.\n",
    "It facilitates the collaboration and communication among cross-functional teams by providing a common language and a clear division of responsibilities4.\n",
    "It enhances the maintainability and scalability of the code by allowing changes to be made at one level without affecting the other levels3.\"\"\"\n"
   ]
  },
  {
   "cell_type": "code",
   "execution_count": 21,
   "id": "f3b19858-8db7-4717-b349-8fab9bfdef63",
   "metadata": {},
   "outputs": [
    {
     "name": "stdout",
     "output_type": "stream",
     "text": [
      "Triangle has 3 sides\n",
      "Pentagon has 5 sides\n"
     ]
    }
   ],
   "source": [
    "#18. Explain how abstraction enhances code reusability and modularity in Python programs.\n",
    "\"\"\"Abstraction is a key feature of object-oriented programming that allows you to hide the implementation details of a class or a function and only expose the relevant features to the client. Abstraction enhances code reusability and modularity in Python programs in the following ways:\n",
    "\n",
    "Abstraction enables you to create a common interface for different implementations of a component, such as an abstract base class that defines a set of abstract methods that must be implemented by its subclasses12. This allows you to use the same interface for different types of objects, without worrying about the specific details of how they work internally. For example, you can create an abstract class called Animal that defines an abstract method called move, and then create subclasses like Human, Snake, Dog, and Lion that override the move method and provide their own behavior2.\n",
    "Abstraction also allows you to create reusable and modular code that can be easily maintained and extended. By hiding the implementation details, you can change the internal logic of a class or a function without affecting the client code that uses it. This makes your code more flexible and adaptable to changing requirements. For example, you can create an abstract class called Polygon that defines an abstract method called noofsides, and then create subclasses like Triangle, Pentagon, Hexagon, and Quadrilateral that override the noofsides method and return the number of sides they have1. If you want to add a new subclass like Octagon, you only need to implement the noofsides method and inherit from the Polygon class, without modifying the existing code.\"\"\"\n",
    "\n",
    "\n",
    "# Importing the abc module\n",
    "from abc import ABC, abstractmethod\n",
    "\n",
    "# Creating an abstract base class\n",
    "class Polygon(ABC):\n",
    "\n",
    "    # Defining an abstract method\n",
    "    @abstractmethod\n",
    "    def noofsides(self):\n",
    "        pass\n",
    "\n",
    "# Creating a subclass of Polygon\n",
    "class Triangle(Polygon):\n",
    "\n",
    "    # Implementing the abstract method\n",
    "    def noofsides(self):\n",
    "        print(\"Triangle has 3 sides\")\n",
    "\n",
    "# Creating another subclass of Polygon\n",
    "class Pentagon(Polygon):\n",
    "\n",
    "    # Implementing the abstract method\n",
    "    def noofsides(self):\n",
    "        print(\"Pentagon has 5 sides\")\n",
    "\n",
    "# Creating an instance of Triangle\n",
    "t = Triangle()\n",
    "# Calling the noofsides method\n",
    "t.noofsides()\n",
    "\n",
    "# Creating an instance of Pentagon\n",
    "p = Pentagon()\n",
    "# Calling the noofsides method\n",
    "p.noofsides()\n",
    "\n",
    "\n"
   ]
  },
  {
   "cell_type": "code",
   "execution_count": 22,
   "id": "3129821d-21c9-4a56-9985-4381e2251b19",
   "metadata": {},
   "outputs": [
    {
     "name": "stdout",
     "output_type": "stream",
     "text": [
      "Added The Lord of the Rings to Central Library\n",
      "Cannot add The Hunger Games to ABC School Library as it is not an academic book\n",
      "Harry Potter and the Philosopher's Stone is not available in Harry Potter and the Philosopher's Stone\n",
      "Harry Potter and the Philosopher's Stone is not available in Harry Potter and the Philosopher's Stone\n",
      "Found Python for Beginners in Central Library\n",
      "Python for Beginners is not found in ABC School Library\n"
     ]
    }
   ],
   "source": [
    "#19. Create a Python class for a library system, implementing abstraction by defining common methods (e.g.,\n",
    "\n",
    "# Define a base class for a library system\n",
    "class Library:\n",
    "    # Initialize the library with a name and a list of books\n",
    "    def __init__(self, name, books):\n",
    "        self.name = name\n",
    "        self.books = books\n",
    "\n",
    "    # Define a method to add a book to the library\n",
    "    def add_book(self, book):\n",
    "        self.books.append(book)\n",
    "        print(f\"Added {book} to {self.name}\")\n",
    "\n",
    "    # Define a method to issue a book from the library\n",
    "    def issue_book(self, book):\n",
    "        if book in self.books:\n",
    "            self.books.remove(book)\n",
    "            print(f\"Issued {book} from {self.name}\")\n",
    "        else:\n",
    "            print(f\"{book} is not available in {self.name}\")\n",
    "\n",
    "    # Define a method to return a book to the library\n",
    "    def return_book(self, book):\n",
    "        self.books.append(book)\n",
    "        print(f\"Returned {book} to {self.name}\")\n",
    "\n",
    "    # Define a method to search a book in the library\n",
    "    def search_book(self, book):\n",
    "        if book in self.books:\n",
    "            print(f\"Found {book} in {self.name}\")\n",
    "        else:\n",
    "            print(f\"{book} is not found in {self.name}\")\n",
    "\n",
    "# Define a subclass for a school library that inherits from the Library class\n",
    "class SchoolLibrary(Library):\n",
    "    # Override the add_book method to check the book category\n",
    "    def add_book(self, book, category):\n",
    "        if category == \"academic\":\n",
    "            super().add_book(book) # Call the add_book method from the base class\n",
    "        else:\n",
    "            print(f\"Cannot add {book} to {self.name} as it is not an academic book\")\n",
    "\n",
    "# Define a subclass for a fiction book that inherits from the Library class\n",
    "class FictionBook(Library):\n",
    "    # Override the issue_book method to limit the number of books per user\n",
    "    def issue_book(self, book, user):\n",
    "        if user.book_count < 3:\n",
    "            super().issue_book(book) # Call the issue_book method from the base class\n",
    "            user.book_count += 1\n",
    "        else:\n",
    "            print(f\"Cannot issue {book} to {user.name} as they have reached the limit of 3 books\")\n",
    "\n",
    "# Define a class for a user of the library system\n",
    "class User:\n",
    "    # Initialize the user with a name and a book count\n",
    "    def __init__(self, name, book_count):\n",
    "        self.name = name\n",
    "        self.book_count = book_count\n",
    "\n",
    "# Create some instances of the classes\n",
    "lib1 = Library(\"Central Library\", [\"Python for Beginners\", \"Data Structures and Algorithms\", \"Artificial Intelligence\"])\n",
    "lib2 = SchoolLibrary(\"ABC School Library\", [\"Mathematics for Class 10\", \"Physics for Class 10\", \"Chemistry for Class 10\"])\n",
    "book1 = FictionBook(\"Harry Potter and the Philosopher's Stone\", [])\n",
    "user1 = User(\"Alice\", 0)\n",
    "user2 = User(\"Bob\", 2)\n",
    "\n",
    "# Test the methods of the classes\n",
    "lib1.add_book(\"The Lord of the Rings\")\n",
    "lib2.add_book(\"The Hunger Games\", \"fiction\")\n",
    "book1.issue_book(\"Harry Potter and the Philosopher's Stone\", user1)\n",
    "book1.issue_book(\"Harry Potter and the Philosopher's Stone\", user2)\n",
    "lib1.search_book(\"Python for Beginners\")\n",
    "lib2.search_book(\"Python for Beginners\")\n",
    "\n"
   ]
  },
  {
   "cell_type": "code",
   "execution_count": 23,
   "id": "f1a6cbe2-f336-4e71-b583-a3821cb42020",
   "metadata": {},
   "outputs": [
    {
     "data": {
      "text/plain": [
       "'Method abstraction in Python is the process of hiding the implementation details of a method and only exposing its functionality. It allows us to create methods that can be used in different contexts without knowing how they work internally. For example, we can use the len() function to get the length of any object that supports it, without knowing how it is calculated for each type of object.\\n\\nPolymorphism is the ability of an object to behave differently depending on the context. It means that the same method name can have different implementations for different classes or types. For example, the + operator can perform addition for numbers, concatenation for strings, or merging for lists, depending on the operands. Polymorphism allows us to write generic code that can work with different types of objects, as long as they implement the required methods.\\n\\nMethod abstraction and polymorphism are related concepts in Python, as they both enable us to write flexible and reusable code. Method abstraction allows us to define methods that can be used by different types of objects, while polymorphism allows us to use the same method name for different implementations. Together, they make our code more modular and adaptable.'"
      ]
     },
     "execution_count": 23,
     "metadata": {},
     "output_type": "execute_result"
    }
   ],
   "source": [
    "#20. Describe the concept of method abstraction in Python and how it relates to polymorphism.\n",
    "\n",
    "\"\"\"Method abstraction in Python is the process of hiding the implementation details of a method and only exposing its functionality. It allows us to create methods that can be used in different contexts without knowing how they work internally. For example, we can use the len() function to get the length of any object that supports it, without knowing how it is calculated for each type of object.\n",
    "\n",
    "Polymorphism is the ability of an object to behave differently depending on the context. It means that the same method name can have different implementations for different classes or types. For example, the + operator can perform addition for numbers, concatenation for strings, or merging for lists, depending on the operands. Polymorphism allows us to write generic code that can work with different types of objects, as long as they implement the required methods.\n",
    "\n",
    "Method abstraction and polymorphism are related concepts in Python, as they both enable us to write flexible and reusable code. Method abstraction allows us to define methods that can be used by different types of objects, while polymorphism allows us to use the same method name for different implementations. Together, they make our code more modular and adaptable.\"\"\"\n"
   ]
  },
  {
   "cell_type": "code",
   "execution_count": 24,
   "id": "273547ce-33cf-43ad-b5c5-362b1c207ac7",
   "metadata": {},
   "outputs": [],
   "source": [
    "### Composition:\n",
    "\n"
   ]
  },
  {
   "cell_type": "code",
   "execution_count": 26,
   "id": "df147e23-c2a8-4d19-bfaf-aa6f812ad486",
   "metadata": {},
   "outputs": [],
   "source": [
    "#1. Explain the concept of composition in Python and how it is used to build complex objects from simpler ones.\n",
    "\n",
    "\"\"\"Composition is an object-oriented design concept that models a has-a relationship1. In composition, a class known as composite contains an object of another class known as component2. In other words, a composite class has a component of another class3.\n",
    "\n",
    "Composition is used to build complex objects from simpler ones by combining objects of different classes as instance variables2. This enables creating complex types that can use the methods and attributes of the component classes3.\n",
    "\n",
    "For example, suppose we have a class called Car that has a method called drive. We can create another class called Engine that has a method called start. We can use composition to create a Car object that has an Engine object as an attribute. This way, we can use the start method of the Engine object to start the car, and then use the drive method of the Car object to drive the car.\"\"\"\n",
    "\n",
    "\n",
    "# Component class\n",
    "class Engine:\n",
    "    def __init__(self):\n",
    "        print(\"Engine object created...\")\n",
    "\n",
    "    def start(self):\n",
    "        print(\"Engine started...\")\n",
    "\n",
    "# Composite class\n",
    "class Car:\n",
    "    def __init__(self):\n",
    "        # Creating an Engine object as an attribute\n",
    "        self.engine = Engine()\n",
    "        print(\"Car object created...\")\n",
    "\n",
    "    def drive(self):\n",
    "        # Using the start method of the Engine object\n",
    "        self.engine.start()\n",
    "        print(\"Car is driving...\")"
   ]
  },
  {
   "cell_type": "code",
   "execution_count": 1,
   "id": "83ecc5d6-e5db-4885-959b-15a92aa5d6cc",
   "metadata": {},
   "outputs": [
    {
     "data": {
      "text/plain": [
       "'Composition and inheritance are two ways of reusing existing code in object-oriented programming. They have different advantages and disadvantages, depending on the context and the design goals.\\n\\nInheritance is a relationship between classes, where one class (the subclass) extends another class (the superclass) and inherits its members (fields and methods). This allows the subclass to reuse the common behavior and interface of the superclass, and also to override or add new functionality. Inheritance is often used to model the “is-a” relationship, such as “a dog is an animal” or “a circle is a shape”. Inheritance can also support polymorphism, which means that the same method can behave differently depending on the type of the object that invokes it.\\n\\nComposition is a relationship between objects, where one object (the composite) contains another object (the component) as a part of its state. This allows the composite to delegate some of its behavior to the component, or to access its functionality. Composition is often used to model the “has-a” relationship, such as “a car has an engine” or “a person has a name”. Composition can also support modularity, which means that the composite can change its behavior by changing its components, or that the components can be reused in different contexts.\\n\\nThe main difference between composition and inheritance is that composition is more flexible and loosely coupled, while inheritance is more rigid and tightly coupled. Composition allows the composite to change its components at runtime, or to use different types of components that share a common interface. Inheritance, on the other hand, fixes the relationship between the subclass and the superclass at compile time, and requires the subclass to inherit all the members of the superclass, even if some of them are not needed or relevant. Composition also avoids the problems of multiple inheritance, such as ambiguity and complexity, which can arise when a class inherits from more than one superclass.\\n\\nSome of the advantages and disadvantages of composition and inheritance are summarized in the table below:\\n\\nTable\\nComposition\\tInheritance\\n+ More flexible and dynamic\\t- More rigid and static\\n+ More loosely coupled\\t- More tightly coupled\\n+ Supports modularity and reusability\\t- May cause code duplication\\n+ Avoids multiple inheritance issues\\t- May introduce multiple inheritance issues\\n- May require more boilerplate code\\t+ May reduce boilerplate code\\n- May require more delegation\\t+ Supports polymorphism'"
      ]
     },
     "execution_count": 1,
     "metadata": {},
     "output_type": "execute_result"
    }
   ],
   "source": [
    "##2. Describe the difference between composition and inheritance in object-oriented programming.\n",
    "\n",
    "\n",
    "\"\"\"Composition and inheritance are two ways of reusing existing code in object-oriented programming. They have different advantages and disadvantages, depending on the context and the design goals.\n",
    "\n",
    "Inheritance is a relationship between classes, where one class (the subclass) extends another class (the superclass) and inherits its members (fields and methods). This allows the subclass to reuse the common behavior and interface of the superclass, and also to override or add new functionality. Inheritance is often used to model the “is-a” relationship, such as “a dog is an animal” or “a circle is a shape”. Inheritance can also support polymorphism, which means that the same method can behave differently depending on the type of the object that invokes it.\n",
    "\n",
    "Composition is a relationship between objects, where one object (the composite) contains another object (the component) as a part of its state. This allows the composite to delegate some of its behavior to the component, or to access its functionality. Composition is often used to model the “has-a” relationship, such as “a car has an engine” or “a person has a name”. Composition can also support modularity, which means that the composite can change its behavior by changing its components, or that the components can be reused in different contexts.\n",
    "\n",
    "The main difference between composition and inheritance is that composition is more flexible and loosely coupled, while inheritance is more rigid and tightly coupled. Composition allows the composite to change its components at runtime, or to use different types of components that share a common interface. Inheritance, on the other hand, fixes the relationship between the subclass and the superclass at compile time, and requires the subclass to inherit all the members of the superclass, even if some of them are not needed or relevant. Composition also avoids the problems of multiple inheritance, such as ambiguity and complexity, which can arise when a class inherits from more than one superclass.\n",
    "\n",
    "Some of the advantages and disadvantages of composition and inheritance are summarized in the table below:\n",
    "\n",
    "Table\n",
    "Composition\tInheritance\n",
    "+ More flexible and dynamic\t- More rigid and static\n",
    "+ More loosely coupled\t- More tightly coupled\n",
    "+ Supports modularity and reusability\t- May cause code duplication\n",
    "+ Avoids multiple inheritance issues\t- May introduce multiple inheritance issues\n",
    "- May require more boilerplate code\t+ May reduce boilerplate code\n",
    "- May require more delegation\t+ Supports polymorphism\"\"\""
   ]
  },
  {
   "cell_type": "code",
   "execution_count": 2,
   "id": "bcc1ba0d-1715-4d32-ae44-bb18a5ba337b",
   "metadata": {},
   "outputs": [
    {
     "name": "stdout",
     "output_type": "stream",
     "text": [
      "Book title: Harry Potter and the Philosopher's Stone\n",
      "Author name: J.K. Rowling\n",
      "Author birthdate: 31 July 1965\n"
     ]
    }
   ],
   "source": [
    "#3. Create a Python class called `Author` with attributes for name and birthdate. Then, create a `Book` class that contains an instance of `Author` as a composition. Provide an example of creating a `Book` object.\n",
    "\n",
    "# Define the Author class\n",
    "class Author:\n",
    "    # Initialize the attributes\n",
    "    def __init__(self, name, birthdate):\n",
    "        self.name = name\n",
    "        self.birthdate = birthdate\n",
    "\n",
    "# Define the Book class\n",
    "class Book:\n",
    "    # Initialize the attributes\n",
    "    def __init__(self, title, author):\n",
    "        self.title = title\n",
    "        # Use an instance of Author as a composition\n",
    "        self.author = author\n",
    "\n",
    "# Create an example of a Book object\n",
    "# Create an Author object\n",
    "author1 = Author(\"J.K. Rowling\", \"31 July 1965\")\n",
    "# Create a Book object with the Author object as an argument\n",
    "book1 = Book(\"Harry Potter and the Philosopher's Stone\", author1)\n",
    "# Print the book title and the author name and birthdate\n",
    "print(f\"Book title: {book1.title}\")\n",
    "print(f\"Author name: {book1.author.name}\")\n",
    "print(f\"Author birthdate: {book1.author.birthdate}\")\n"
   ]
  },
  {
   "cell_type": "code",
   "execution_count": 3,
   "id": "0a428416-4199-476a-a78a-3ef08929c35f",
   "metadata": {},
   "outputs": [
    {
     "data": {
      "text/plain": [
       "'Composition and inheritance are two ways of creating complex classes from simpler ones in Python. Inheritance models an “is a” relationship, where a subclass inherits the attributes and methods of a superclass. Composition models a “has a” relationship, where a class contains an object of another class as an attribute. Both of them enable code reuse, but they have different advantages and disadvantages.\\n\\nOne of the benefits of using composition over inheritance is that it allows for more flexibility and modularity. With composition, you can change the behavior of a class at run-time by changing the object it contains. For example, you can have a class Car that has an attribute engine, which can be an object of different classes like GasEngine or ElectricEngine. Depending on the type of engine, the car can have different methods and properties. You can also swap the engine object with another one without affecting the rest of the car’s functionality.\\n\\nWith inheritance, you have to define the behavior of a class at design-time by inheriting from a specific superclass. This can lead to rigid and brittle designs, where changing the superclass can affect all the subclasses that depend on it. For example, if you have a class Vehicle that has a method drive(), and you inherit from it to create subclasses like Car, Bike, and Boat, then changing the implementation of drive() in Vehicle can break the logic of the subclasses. You also have to deal with the problem of multiple inheritance, where a subclass inherits from more than one superclass, which can cause conflicts and ambiguity.\\n\\nAnother benefit of using composition over inheritance is that it promotes loose coupling and high cohesion. Loose coupling means that the classes are independent and have minimal dependencies on each other. High cohesion means that the classes are focused and have a clear responsibility. These are desirable properties for designing maintainable and testable code.\\n\\nWith composition, you can achieve loose coupling and high cohesion by delegating the responsibility of each class to the object it contains. For example, if you have a class Student that has an attribute course, which is an object of class Course, then the Student class does not need to know the details of how the course works, it only needs to interact with its interface. The Course class is responsible for handling its own logic and data. This way, the classes are independent and focused.\\n\\nWith inheritance, you can end up with tight coupling and low cohesion, where the classes are interdependent and have multiple responsibilities. For example, if you have a class Animal that has a method eat(), and you inherit from it to create subclasses like Dog, Cat, and Bird, then the subclasses have to inherit the eat() method, even if they have different ways of eating. The Animal class is responsible for handling the common logic of all the subclasses, which can make it complex and bloated. This way, the classes are dependent and unfocused.\\n\\nIn conclusion, composition is a better choice than inheritance in Python when you want to create complex classes that are flexible, modular, loosely coupled, and highly cohesive. Composition allows you to change the behavior of a class at run-time by changing the object it contains, and it delegates the responsibility of each class to the object it contains. Inheritance is more suitable when you want to create classes that share a common behavior and structure, and you want to reuse the code of a superclass. Inheritance models an “is a” relationship, where a subclass inherits the attributes and methods of a superclass. You can learn more about inheritance and composition in Python from these sources123'"
      ]
     },
     "execution_count": 3,
     "metadata": {},
     "output_type": "execute_result"
    }
   ],
   "source": [
    "#4. Discuss the benefits of using composition over inheritance in Python, especially in terms of code flexibility and reusability.\n",
    "\n",
    "\"\"\"Composition and inheritance are two ways of creating complex classes from simpler ones in Python. Inheritance models an “is a” relationship, where a subclass inherits the attributes and methods of a superclass. Composition models a “has a” relationship, where a class contains an object of another class as an attribute. Both of them enable code reuse, but they have different advantages and disadvantages.\n",
    "\n",
    "One of the benefits of using composition over inheritance is that it allows for more flexibility and modularity. With composition, you can change the behavior of a class at run-time by changing the object it contains. For example, you can have a class Car that has an attribute engine, which can be an object of different classes like GasEngine or ElectricEngine. Depending on the type of engine, the car can have different methods and properties. You can also swap the engine object with another one without affecting the rest of the car’s functionality.\n",
    "\n",
    "With inheritance, you have to define the behavior of a class at design-time by inheriting from a specific superclass. This can lead to rigid and brittle designs, where changing the superclass can affect all the subclasses that depend on it. For example, if you have a class Vehicle that has a method drive(), and you inherit from it to create subclasses like Car, Bike, and Boat, then changing the implementation of drive() in Vehicle can break the logic of the subclasses. You also have to deal with the problem of multiple inheritance, where a subclass inherits from more than one superclass, which can cause conflicts and ambiguity.\n",
    "\n",
    "Another benefit of using composition over inheritance is that it promotes loose coupling and high cohesion. Loose coupling means that the classes are independent and have minimal dependencies on each other. High cohesion means that the classes are focused and have a clear responsibility. These are desirable properties for designing maintainable and testable code.\n",
    "\n",
    "With composition, you can achieve loose coupling and high cohesion by delegating the responsibility of each class to the object it contains. For example, if you have a class Student that has an attribute course, which is an object of class Course, then the Student class does not need to know the details of how the course works, it only needs to interact with its interface. The Course class is responsible for handling its own logic and data. This way, the classes are independent and focused.\n",
    "\n",
    "With inheritance, you can end up with tight coupling and low cohesion, where the classes are interdependent and have multiple responsibilities. For example, if you have a class Animal that has a method eat(), and you inherit from it to create subclasses like Dog, Cat, and Bird, then the subclasses have to inherit the eat() method, even if they have different ways of eating. The Animal class is responsible for handling the common logic of all the subclasses, which can make it complex and bloated. This way, the classes are dependent and unfocused.\n",
    "\n",
    "In conclusion, composition is a better choice than inheritance in Python when you want to create complex classes that are flexible, modular, loosely coupled, and highly cohesive. Composition allows you to change the behavior of a class at run-time by changing the object it contains, and it delegates the responsibility of each class to the object it contains. Inheritance is more suitable when you want to create classes that share a common behavior and structure, and you want to reuse the code of a superclass. Inheritance models an “is a” relationship, where a subclass inherits the attributes and methods of a superclass. You can learn more about inheritance and composition in Python from these sources123\"\"\"\n",
    "\n"
   ]
  },
  {
   "cell_type": "code",
   "execution_count": 4,
   "id": "7395fbdb-8263-431e-bd04-7da31338a496",
   "metadata": {},
   "outputs": [
    {
     "data": {
      "text/plain": [
       "'Composition is a concept of object-oriented programming that allows us to create complex objects by combining simpler ones. It means that a class can contain an object of another class as an attribute or a method parameter. This way, the composite class can reuse the functionality of the component class without inheriting from it. Composition is also known as a has-a relationship, because the composite class has a component object.\\n\\nTo implement composition in Python, we can define a class that references another class as an instance variable. For example, suppose we have a class called Book that represents a book with a title and an author:'"
      ]
     },
     "execution_count": 4,
     "metadata": {},
     "output_type": "execute_result"
    }
   ],
   "source": [
    "##5. How can you implement composition in Python classes? Provide examples of using composition to create complex objects.\n",
    "\n",
    "\n",
    "\"\"\"Composition is a concept of object-oriented programming that allows us to create complex objects by combining simpler ones. It means that a class can contain an object of another class as an attribute or a method parameter. This way, the composite class can reuse the functionality of the component class without inheriting from it. Composition is also known as a has-a relationship, because the composite class has a component object.\n",
    "\n",
    "To implement composition in Python, we can define a class that references another class as an instance variable. For example, suppose we have a class called Book that represents a book with a title and an author:\"\"\""
   ]
  },
  {
   "cell_type": "code",
   "execution_count": 5,
   "id": "fd3a17dd-3d8f-4123-ab2e-9ccb69eb7045",
   "metadata": {},
   "outputs": [
    {
     "name": "stdout",
     "output_type": "stream",
     "text": [
      "Playlist: My Favorites\n",
      "Number of songs: 3\n",
      "Title: Shape of You\n",
      "Artist: Ed Sheeran\n",
      "Album: Divide\n",
      "Duration: 233 seconds\n",
      "\n",
      "Title: Despacito\n",
      "Artist: Luis Fonsi ft. Daddy Yankee\n",
      "Album: Despacito - Single\n",
      "Duration: 228 seconds\n",
      "\n",
      "Title: Believer\n",
      "Artist: Imagine Dragons\n",
      "Album: Evolve\n",
      "Duration: 204 seconds\n",
      "\n",
      "Playlist: My Favorites\n",
      "Number of songs: 4\n",
      "Title: Shape of You\n",
      "Artist: Ed Sheeran\n",
      "Album: Divide\n",
      "Duration: 233 seconds\n",
      "\n",
      "Title: Despacito\n",
      "Artist: Luis Fonsi ft. Daddy Yankee\n",
      "Album: Despacito - Single\n",
      "Duration: 228 seconds\n",
      "\n",
      "Title: Believer\n",
      "Artist: Imagine Dragons\n",
      "Album: Evolve\n",
      "Duration: 204 seconds\n",
      "\n",
      "Title: Thunder\n",
      "Artist: Imagine Dragons\n",
      "Album: Evolve\n",
      "Duration: 187 seconds\n",
      "\n",
      "Playlist: My Favorites\n",
      "Number of songs: 3\n",
      "Title: Shape of You\n",
      "Artist: Ed Sheeran\n",
      "Album: Divide\n",
      "Duration: 233 seconds\n",
      "\n",
      "Title: Believer\n",
      "Artist: Imagine Dragons\n",
      "Album: Evolve\n",
      "Duration: 204 seconds\n",
      "\n",
      "Title: Thunder\n",
      "Artist: Imagine Dragons\n",
      "Album: Evolve\n",
      "Duration: 187 seconds\n",
      "\n"
     ]
    }
   ],
   "source": [
    "#6. Create a Python class hierarchy for a music player system, using composition to represent playlists and songs.\n",
    "\n",
    "# Define a class for songs\n",
    "class Song:\n",
    "    # Initialize the song with title, artist, album and duration\n",
    "    def __init__(self, title, artist, album, duration):\n",
    "        self.title = title\n",
    "        self.artist = artist\n",
    "        self.album = album\n",
    "        self.duration = duration\n",
    "    \n",
    "    # Define a method to display the song details\n",
    "    def show(self):\n",
    "        print(f\"Title: {self.title}\")\n",
    "        print(f\"Artist: {self.artist}\")\n",
    "        print(f\"Album: {self.album}\")\n",
    "        print(f\"Duration: {self.duration} seconds\")\n",
    "\n",
    "# Define a class for playlists\n",
    "class Playlist:\n",
    "    # Initialize the playlist with name and songs\n",
    "    def __init__(self, name, songs):\n",
    "        self.name = name\n",
    "        self.songs = songs # A list of Song objects\n",
    "    \n",
    "    # Define a method to add a song to the playlist\n",
    "    def add(self, song):\n",
    "        self.songs.append(song)\n",
    "    \n",
    "    # Define a method to remove a song from the playlist\n",
    "    def remove(self, song):\n",
    "        self.songs.remove(song)\n",
    "    \n",
    "    # Define a method to display the playlist details\n",
    "    def show(self):\n",
    "        print(f\"Playlist: {self.name}\")\n",
    "        print(f\"Number of songs: {len(self.songs)}\")\n",
    "        for song in self.songs:\n",
    "            song.show()\n",
    "            print()\n",
    "\n",
    "# Create some songs\n",
    "song1 = Song(\"Shape of You\", \"Ed Sheeran\", \"Divide\", 233)\n",
    "song2 = Song(\"Despacito\", \"Luis Fonsi ft. Daddy Yankee\", \"Despacito - Single\", 228)\n",
    "song3 = Song(\"Believer\", \"Imagine Dragons\", \"Evolve\", 204)\n",
    "song4 = Song(\"Thunder\", \"Imagine Dragons\", \"Evolve\", 187)\n",
    "song5 = Song(\"Perfect\", \"Ed Sheeran\", \"Divide\", 263)\n",
    "\n",
    "# Create a playlist\n",
    "playlist = Playlist(\"My Favorites\", [song1, song2, song3])\n",
    "\n",
    "# Display the playlist\n",
    "playlist.show()\n",
    "\n",
    "# Add a song to the playlist\n",
    "playlist.add(song4)\n",
    "\n",
    "# Display the playlist again\n",
    "playlist.show()\n",
    "\n",
    "# Remove a song from the playlist\n",
    "playlist.remove(song2)\n",
    "\n",
    "# Display the playlist again\n",
    "playlist.show()\n",
    "\n"
   ]
  },
  {
   "cell_type": "code",
   "execution_count": 7,
   "id": "e727fd34-c240-4f22-a706-4a4c07891c97",
   "metadata": {},
   "outputs": [
    {
     "data": {
      "text/plain": [
       "'A \"has-a\" relationship in composition means that a class can contain an object of another class as an attribute. This allows the class to reuse the functionality and behavior of the other class without inheriting from it. For example, in Python, a class `Car` can have an object of class `Engine` as an attribute, and use its methods to start or stop the car. This is also called composition, and it is represented by the following UML diagram:\\n\\n```uml\\nclass Car {\\n  - engine: Engine\\n  + start()\\n  + stop()\\n}\\n\\nclass Engine {\\n  + start()\\n  + stop()\\n}\\n\\nCar \"has-a\" Engine\\n```\\n\\nComposition helps design software systems by enabling modularity, flexibility, and code reuse. By using composition, a class can delegate some of its responsibilities to another class, and avoid having too many methods or attributes. This makes the code more readable and maintainable. Composition also allows changing the behavior of a class at run-time by replacing the object of another class with a different one. For example, a class `Car` can have different types of engines, such as `GasEngine` or `ElectricEngine`, and switch between them depending on the situation. This is also called polymorphism, and it is represented by the following UML diagram:\\n\\n```uml\\nclass Car {\\n  - engine: Engine\\n  + start()\\n  + stop()\\n  + set_engine(engine: Engine)\\n}\\n\\nclass Engine {\\n  + start()\\n  + stop()\\n}\\n\\nclass GasEngine extends Engine {\\n  + start()\\n  + stop()\\n}\\n\\nclass ElectricEngine extends Engine {\\n  + start()\\n  + stop()\\n}\\n\\nCar \"has-a\" Engine\\nGasEngine --|> Engine\\nElectricEngine --|> Engine\\n```\\n\\nIn summary, a \"has-a\" relationship in composition means that a class can contain an object of another class as an attribute, and use its methods or attributes. This helps design software systems by enabling modularity, flexibility, and code reuse. For more information, you can refer to these web sources: [Implementation of Composition (Has-A Relation) in Python](^1^), [Inheritance and Composition: A Python OOP Guide](^2^), [Inheritance and Composition in Python](^3^), [Composition: Definition, Demonstration of Composition, Examples](^4^).\\n\\n'"
      ]
     },
     "execution_count": 7,
     "metadata": {},
     "output_type": "execute_result"
    }
   ],
   "source": [
    "#7. Explain the concept of \"has-a\" relationships in composition and how it helps design software systems.\n",
    "\n",
    "\"\"\"A \"has-a\" relationship in composition means that a class can contain an object of another class as an attribute. This allows the class to reuse the functionality and behavior of the other class without inheriting from it. For example, in Python, a class `Car` can have an object of class `Engine` as an attribute, and use its methods to start or stop the car. This is also called composition, and it is represented by the following UML diagram:\n",
    "\n",
    "```uml\n",
    "class Car {\n",
    "  - engine: Engine\n",
    "  + start()\n",
    "  + stop()\n",
    "}\n",
    "\n",
    "class Engine {\n",
    "  + start()\n",
    "  + stop()\n",
    "}\n",
    "\n",
    "Car \"has-a\" Engine\n",
    "```\n",
    "\n",
    "Composition helps design software systems by enabling modularity, flexibility, and code reuse. By using composition, a class can delegate some of its responsibilities to another class, and avoid having too many methods or attributes. This makes the code more readable and maintainable. Composition also allows changing the behavior of a class at run-time by replacing the object of another class with a different one. For example, a class `Car` can have different types of engines, such as `GasEngine` or `ElectricEngine`, and switch between them depending on the situation. This is also called polymorphism, and it is represented by the following UML diagram:\n",
    "\n",
    "```uml\n",
    "class Car {\n",
    "  - engine: Engine\n",
    "  + start()\n",
    "  + stop()\n",
    "  + set_engine(engine: Engine)\n",
    "}\n",
    "\n",
    "class Engine {\n",
    "  + start()\n",
    "  + stop()\n",
    "}\n",
    "\n",
    "class GasEngine extends Engine {\n",
    "  + start()\n",
    "  + stop()\n",
    "}\n",
    "\n",
    "class ElectricEngine extends Engine {\n",
    "  + start()\n",
    "  + stop()\n",
    "}\n",
    "\n",
    "Car \"has-a\" Engine\n",
    "GasEngine --|> Engine\n",
    "ElectricEngine --|> Engine\n",
    "```\n",
    "\n",
    "In summary, a \"has-a\" relationship in composition means that a class can contain an object of another class as an attribute, and use its methods or attributes. This helps design software systems by enabling modularity, flexibility, and code reuse. For more information, you can refer to these web sources: [Implementation of Composition (Has-A Relation) in Python](^1^), [Inheritance and Composition: A Python OOP Guide](^2^), [Inheritance and Composition in Python](^3^), [Composition: Definition, Demonstration of Composition, Examples](^4^).\n",
    "\n",
    "\"\"\"\n"
   ]
  },
  {
   "cell_type": "code",
   "execution_count": 9,
   "id": "542de8c3-e2cb-4a00-88e2-d1da0c064e94",
   "metadata": {},
   "outputs": [
    {
     "name": "stdout",
     "output_type": "stream",
     "text": [
      "Computer system:\n",
      "CPU: Intel Core i7-9700K (8 cores, 3.6 GHz)\n",
      "RAM: 16 GB DDR4 (2666 MHz)\n",
      "Storage: 512 GB SSD (550 MB/s)\n"
     ]
    }
   ],
   "source": [
    "#8. Create a Python class for a computer system, using composition to represent components like CPU, RAM, and storage devices.\n",
    "\n",
    "# Define a class for CPU\n",
    "class CPU:\n",
    "    def __init__(self, brand, model, cores, speed):\n",
    "        self.brand = brand # CPU brand name\n",
    "        self.model = model # CPU model name\n",
    "        self.cores = cores # Number of CPU cores\n",
    "        self.speed = speed # CPU speed in GHz\n",
    "\n",
    "    def __str__(self):\n",
    "        return f\"{self.brand} {self.model} ({self.cores} cores, {self.speed} GHz)\"\n",
    "\n",
    "# Define a class for RAM\n",
    "class RAM:\n",
    "    def __init__(self, size, type, speed):\n",
    "        self.size = size # RAM size in GB\n",
    "        self.type = type # RAM type (DDR3, DDR4, etc.)\n",
    "        self.speed = speed # RAM speed in MHz\n",
    "\n",
    "    def __str__(self):\n",
    "        return f\"{self.size} GB {self.type} ({self.speed} MHz)\"\n",
    "\n",
    "# Define a class for storage device\n",
    "class Storage:\n",
    "    def __init__(self, size, type, speed):\n",
    "        self.size = size # Storage size in GB\n",
    "        self.type = type # Storage type (HDD, SSD, etc.)\n",
    "        self.speed = speed # Storage speed in MB/s\n",
    "\n",
    "    def __str__(self):\n",
    "        return f\"{self.size} GB {self.type} ({self.speed} MB/s)\"\n",
    "\n",
    "# Define a class for computer system using composition\n",
    "class Computer:\n",
    "    def __init__(self, cpu, ram, storage):\n",
    "        self.cpu = cpu # A CPU object\n",
    "        self.ram = ram # A RAM object\n",
    "        self.storage = storage # A storage object\n",
    "\n",
    "    def __str__(self):\n",
    "        return f\"Computer system:\\nCPU: {self.cpu}\\nRAM: {self.ram}\\nStorage: {self.storage}\"\n",
    "\n",
    "# Create some components\n",
    "cpu1 = CPU(\"Intel\", \"Core i7-9700K\", 8, 3.6)\n",
    "ram1 = RAM(16, \"DDR4\", 2666)\n",
    "storage1 = Storage(512, \"SSD\", 550)\n",
    "\n",
    "# Create a computer system using the components\n",
    "computer1 = Computer(cpu1, ram1, storage1)\n",
    "\n",
    "# Print the computer system\n",
    "print(computer1)\n",
    "\n"
   ]
  },
  {
   "cell_type": "code",
   "execution_count": 10,
   "id": "e4a2fa0c-fddd-4e9a-a30f-5effd8607497",
   "metadata": {},
   "outputs": [
    {
     "data": {
      "text/plain": [
       "'Delegation is an object-oriented design pattern that allows object composition to achieve the same code reuse as inheritance1. In delegation, an object (called the delegator) does not perform some of its tasks by itself, but delegates them to another object (called the delegatee)2. The delegator exposes the same interface as the delegatee, but delegates the actual implementation to the delegatee3.\\n\\nDelegation simplifies the design of complex systems by reducing the coupling between objects and avoiding the problems of multiple inheritance. Delegation allows objects to dynamically change their behavior at run-time by changing their delegatees. Delegation also promotes the principle of composition over inheritance, which favors assembling complex objects from simpler ones rather than inheriting from a fixed class hierarchy2'"
      ]
     },
     "execution_count": 10,
     "metadata": {},
     "output_type": "execute_result"
    }
   ],
   "source": [
    "#9. Describe the concept of \"delegation\" in composition and how it simplifies the design of complex systems.\n",
    "\"\"\"Delegation is an object-oriented design pattern that allows object composition to achieve the same code reuse as inheritance1. In delegation, an object (called the delegator) does not perform some of its tasks by itself, but delegates them to another object (called the delegatee)2. The delegator exposes the same interface as the delegatee, but delegates the actual implementation to the delegatee3.\n",
    "\n",
    "Delegation simplifies the design of complex systems by reducing the coupling between objects and avoiding the problems of multiple inheritance. Delegation allows objects to dynamically change their behavior at run-time by changing their delegatees. Delegation also promotes the principle of composition over inheritance, which favors assembling complex objects from simpler ones rather than inheriting from a fixed class hierarchy2\"\"\"\n"
   ]
  },
  {
   "cell_type": "code",
   "execution_count": 11,
   "id": "0fb827a5-3afd-4d60-a0a0-71204965c24a",
   "metadata": {},
   "outputs": [
    {
     "name": "stdout",
     "output_type": "stream",
     "text": [
      "The 200 hp gasoline engine is starting.\n",
      "The manual transmission is shifted up to gear 1.\n",
      "The car is driving with 4 wheels.\n",
      "The manual transmission is shifted down to gear 0.\n",
      "The car is parked.\n",
      "The 200 hp gasoline engine is stopping.\n"
     ]
    }
   ],
   "source": [
    "##10. Create a Python class for a car, using composition to represent components like the engine, wheels, and transmission.\n",
    "# Define a class for the engine component\n",
    "class Engine:\n",
    "    def __init__(self, power, fuel_type):\n",
    "        self.power = power # The power of the engine in horsepower\n",
    "        self.fuel_type = fuel_type # The type of fuel used by the engine\n",
    "\n",
    "    def start(self):\n",
    "        print(f\"The {self.power} hp {self.fuel_type} engine is starting.\")\n",
    "\n",
    "    def stop(self):\n",
    "        print(f\"The {self.power} hp {self.fuel_type} engine is stopping.\")\n",
    "\n",
    "# Define a class for the wheel component\n",
    "class Wheel:\n",
    "    def __init__(self, size, pressure):\n",
    "        self.size = size # The size of the wheel in inches\n",
    "        self.pressure = pressure # The pressure of the wheel in psi\n",
    "\n",
    "    def inflate(self, amount):\n",
    "        self.pressure += amount # Increase the pressure by the given amount\n",
    "        print(f\"The {self.size} inch wheel is inflated to {self.pressure} psi.\")\n",
    "\n",
    "    def deflate(self, amount):\n",
    "        self.pressure -= amount # Decrease the pressure by the given amount\n",
    "        print(f\"The {self.size} inch wheel is deflated to {self.pressure} psi.\")\n",
    "\n",
    "# Define a class for the transmission component\n",
    "class Transmission:\n",
    "    def __init__(self, type, gears):\n",
    "        self.type = type # The type of transmission, either manual or automatic\n",
    "        self.gears = gears # The number of gears in the transmission\n",
    "        self.current_gear = 0 # The current gear of the transmission\n",
    "\n",
    "    def shift_up(self):\n",
    "        if self.current_gear < self.gears:\n",
    "            self.current_gear += 1 # Increase the current gear by one\n",
    "            print(f\"The {self.type} transmission is shifted up to gear {self.current_gear}.\")\n",
    "        else:\n",
    "            print(f\"The {self.type} transmission is already in the highest gear.\")\n",
    "\n",
    "    def shift_down(self):\n",
    "        if self.current_gear > 0:\n",
    "            self.current_gear -= 1 # Decrease the current gear by one\n",
    "            print(f\"The {self.type} transmission is shifted down to gear {self.current_gear}.\")\n",
    "        else:\n",
    "            print(f\"The {self.type} transmission is already in the lowest gear.\")\n",
    "\n",
    "# Define a class for the car using composition\n",
    "class Car:\n",
    "    def __init__(self, engine, wheels, transmission):\n",
    "        self.engine = engine # The engine component of the car\n",
    "        self.wheels = wheels # The wheels component of the car, as a list\n",
    "        self.transmission = transmission # The transmission component of the car\n",
    "\n",
    "    def start(self):\n",
    "        self.engine.start() # Start the engine of the car\n",
    "\n",
    "    def stop(self):\n",
    "        self.engine.stop() # Stop the engine of the car\n",
    "\n",
    "    def drive(self):\n",
    "        self.transmission.shift_up() # Shift up the transmission of the car\n",
    "        print(f\"The car is driving with {len(self.wheels)} wheels.\")\n",
    "\n",
    "    def park(self):\n",
    "        self.transmission.shift_down() # Shift down the transmission of the car\n",
    "        print(f\"The car is parked.\")\n",
    "\n",
    "# Create an instance of the car class with some parameters\n",
    "my_car = Car(Engine(200, \"gasoline\"), [Wheel(15, 30) for _ in range(4)], Transmission(\"manual\", 5))\n",
    "\n",
    "# Test the methods of the car instance\n",
    "my_car.start()\n",
    "my_car.drive()\n",
    "my_car.park()\n",
    "my_car.stop()\n",
    "\n"
   ]
  },
  {
   "cell_type": "code",
   "execution_count": 12,
   "id": "e03605aa-b1d9-4cca-a9ce-82c238567760",
   "metadata": {},
   "outputs": [
    {
     "name": "stdout",
     "output_type": "stream",
     "text": [
      "Alice\n"
     ]
    },
    {
     "ename": "AttributeError",
     "evalue": "'Person' object has no attribute '__name'",
     "output_type": "error",
     "traceback": [
      "\u001b[0;31m---------------------------------------------------------------------------\u001b[0m",
      "\u001b[0;31mAttributeError\u001b[0m                            Traceback (most recent call last)",
      "Cell \u001b[0;32mIn[12], line 25\u001b[0m\n\u001b[1;32m     23\u001b[0m \u001b[38;5;28mprint\u001b[39m(p\u001b[38;5;241m.\u001b[39mget_name()) \u001b[38;5;66;03m# Output: Alice\u001b[39;00m\n\u001b[1;32m     24\u001b[0m \u001b[38;5;66;03m# Trying to access the private attribute directly\u001b[39;00m\n\u001b[0;32m---> 25\u001b[0m \u001b[38;5;28mprint\u001b[39m(\u001b[43mp\u001b[49m\u001b[38;5;241;43m.\u001b[39;49m\u001b[43m__name\u001b[49m) \u001b[38;5;66;03m# Error: AttributeError: 'Person' object has no attribute '__name'\u001b[39;00m\n\u001b[1;32m     26\u001b[0m \u001b[38;5;66;03m# Trying to modify the private attribute directly\u001b[39;00m\n\u001b[1;32m     27\u001b[0m p\u001b[38;5;241m.\u001b[39m__name \u001b[38;5;241m=\u001b[39m \u001b[38;5;124m\"\u001b[39m\u001b[38;5;124mBob\u001b[39m\u001b[38;5;124m\"\u001b[39m \u001b[38;5;66;03m# Error: AttributeError: 'Person' object has no attribute '__name'\u001b[39;00m\n",
      "\u001b[0;31mAttributeError\u001b[0m: 'Person' object has no attribute '__name'"
     ]
    }
   ],
   "source": [
    "##11. How can you encapsulate and hide the details of composed objects in Python classes to maintain abstraction?\n",
    "\n",
    "\"\"\"Encapsulation and abstraction are two fundamental concepts in object-oriented programming (OOP). Encapsulation means wrapping data and the methods that work on data within one unit, such as a class. Abstraction means hiding the internal details and showing only the functionalities of the unit. Encapsulation and abstraction are used to prevent accidental modification of data and to ensure that an object’s state is always valid.\n",
    "\n",
    "One way to encapsulate and hide the details of composed objects in Python classes is to use private attributes and methods. Private attributes and methods are those that start with two underscores __, such as __name or __init__. They cannot be accessed or modified directly from outside the class, but only from within the class or its subclasses. To access or modify them, we can use public methods that act as getters and setters\"\"\"\n",
    "# A class that encapsulates and hides the details of a person object\n",
    "class Person:\n",
    "    # A private attribute that stores the name of the person\n",
    "    def __init__(self, name):\n",
    "        self.__name = name\n",
    "\n",
    "    # A public method that returns the name of the person\n",
    "    def get_name(self):\n",
    "        return self.__name\n",
    "\n",
    "    # A public method that sets the name of the person\n",
    "    def set_name(self, new_name):\n",
    "        self.__name = new_name\n",
    "\n",
    "# Creating a person object with the name \"Alice\"\n",
    "p = Person(\"Alice\")\n",
    "# Printing the name of the person using the public method\n",
    "print(p.get_name()) # Output: Alice\n",
    "# Trying to access the private attribute directly\n",
    "print(p.__name) # Error: AttributeError: 'Person' object has no attribute '__name'\n",
    "# Trying to modify the private attribute directly\n",
    "p.__name = \"Bob\" # Error: AttributeError: 'Person' object has no attribute '__name'\n",
    "# Modifying the name of the person using the public method\n",
    "p.set_name(\"Bob\")\n",
    "# Printing the name of the person using the public method\n",
    "print(p.get_name()) # Output: Bob\n",
    "\n"
   ]
  },
  {
   "cell_type": "code",
   "execution_count": 13,
   "id": "a6b64bbf-895e-4aad-b9ed-ead56b3727a0",
   "metadata": {},
   "outputs": [],
   "source": [
    "##12. Create a Python class for a university course, using composition to represent students, instructors, and course materials.\n",
    "# Define a class for a student\n",
    "class Student:\n",
    "    def __init__(self, name, id, email):\n",
    "        self.name = name # a string attribute for the student's name\n",
    "        self.id = id # an integer attribute for the student's id\n",
    "        self.email = email # a string attribute for the student's email\n",
    "        self.courses = [] # a list attribute for the courses the student is enrolled in\n",
    "\n",
    "    def enroll(self, course):\n",
    "        # a method to enroll the student in a course\n",
    "        self.courses.append(course) # add the course to the student's courses list\n",
    "        course.students.append(self) # add the student to the course's students list\n",
    "\n",
    "    def __str__(self):\n",
    "        # a method to return a string representation of the student\n",
    "        return f\"Student: {self.name}, ID: {self.id}, Email: {self.email}\"\n",
    "\n",
    "# Define a class for an instructor\n",
    "class Instructor:\n",
    "    def __init__(self, name, department, email):\n",
    "        self.name = name # a string attribute for the instructor's name\n",
    "        self.department = department # a string attribute for the instructor's department\n",
    "        self.email = email # a string attribute for the instructor's email\n",
    "        self.courses = [] # a list attribute for the courses the instructor is teaching\n",
    "\n",
    "    def teach(self, course):\n",
    "        # a method to assign the instructor to a course\n",
    "        self.courses.append(course) # add the course to the instructor's courses list\n",
    "        course.instructor = self # set the course's instructor to the instructor\n",
    "\n",
    "    def __str__(self):\n",
    "        # a method to return a string representation of the instructor\n",
    "        return f\"Instructor: {self.name}, Department: {self.department}, Email: {self.email}\"\n",
    "\n",
    "# Define a class for a course material\n",
    "class Material:\n",
    "    def __init__(self, title, type, url):\n",
    "        self.title = title # a string attribute for the material's title\n",
    "        self.type = type # a string attribute for the material's type (e.g. lecture, assignment, quiz, etc.)\n",
    "        self.url = url # a string attribute for the material's url\n",
    "\n",
    "    def __str__(self):\n",
    "        # a method to return a string representation of the material\n",
    "        return f\"Material: {self.title}, Type: {self.type}, URL: {self.url}\"\n",
    "\n",
    "# Define a class for a university course\n",
    "class Course:\n",
    "    def __init__(self, code, name, credits):\n",
    "        self.code = code # a string attribute for the course's code\n",
    "        self.name = name # a string attribute for the course's name\n",
    "        self.credits = credits # an integer attribute for the course's credits\n",
    "        self.instructor = None # an attribute for the course's instructor (initially None)\n",
    "        self.students = [] # a list attribute for the course's students\n",
    "        self.materials = [] # a list attribute for the course's materials\n",
    "\n",
    "    def add_material(self, material):\n",
    "        # a method to add a material to the course\n",
    "        self.materials.append(material) # add the material to the course's materials list\n",
    "\n",
    "    def __str__(self):\n",
    "        # a method to return a string representation of the course\n",
    "        return f\"Course: {self.code}, Name: {self.name}, Credits: {self.credits}, Instructor: {self.instructor}, Students: {self.students}, Materials: {self.materials}\"\n"
   ]
  },
  {
   "cell_type": "code",
   "execution_count": 14,
   "id": "f4cb1afb-ca60-4ddf-8db7-349568c920c6",
   "metadata": {},
   "outputs": [
    {
     "data": {
      "text/plain": [
       "'Composition is a design technique in object-oriented programming (OOP) that implements a has-a relationship between classes. For example, a library has a list of books, and a book has an author and a title. Composition allows code reuse, flexibility, and dynamic behavior. However, it also has some challenges and drawbacks, such as:\\n\\nIncreased complexity: OOP can add complexity to a software system, as objects and their relationships must be carefully modeled and managed12. It can be difficult to design and implement a system that is composed of many interacting objects, especially if the system needs to be scalable and maintainable.\\nPotential for tight coupling: Composition can result in tight coupling between objects, which means that a change in one object can affect many other objects that depend on it34. This can reduce the modularity and testability of the system, and make it harder to debug and modify. To avoid tight coupling, objects should follow the principle of loose coupling, which means that they should only interact with each other through well-defined interfaces and minimize their dependencies5.\\nThese are some of the challenges and drawbacks of composition in OOP. To overcome them, programmers need to have good design skills, planning, and testing strategies. Composition is a powerful technique that can improve the quality and functionality of software, but it also requires careful and thoughtful application.'"
      ]
     },
     "execution_count": 14,
     "metadata": {},
     "output_type": "execute_result"
    }
   ],
   "source": [
    "#13. Discuss the challenges and drawbacks of composition, such as increased complexity and potential for tight coupling between objects.\n",
    "\n",
    "\"\"\"Composition is a design technique in object-oriented programming (OOP) that implements a has-a relationship between classes. For example, a library has a list of books, and a book has an author and a title. Composition allows code reuse, flexibility, and dynamic behavior. However, it also has some challenges and drawbacks, such as:\n",
    "\n",
    "Increased complexity: OOP can add complexity to a software system, as objects and their relationships must be carefully modeled and managed12. It can be difficult to design and implement a system that is composed of many interacting objects, especially if the system needs to be scalable and maintainable.\n",
    "Potential for tight coupling: Composition can result in tight coupling between objects, which means that a change in one object can affect many other objects that depend on it34. This can reduce the modularity and testability of the system, and make it harder to debug and modify. To avoid tight coupling, objects should follow the principle of loose coupling, which means that they should only interact with each other through well-defined interfaces and minimize their dependencies5.\n",
    "These are some of the challenges and drawbacks of composition in OOP. To overcome them, programmers need to have good design skills, planning, and testing strategies. Composition is a powerful technique that can improve the quality and functionality of software, but it also requires careful and thoughtful application.\"\"\""
   ]
  },
  {
   "cell_type": "code",
   "execution_count": 15,
   "id": "b11930a2-dd97-4556-a7c9-4c86f6487c15",
   "metadata": {},
   "outputs": [
    {
     "name": "stdout",
     "output_type": "stream",
     "text": [
      "Bing's Cafe Restaurant:\n",
      "Breakfast Menu:\n",
      "Cheese Sandwich ($5): 100 g of cheese, 2 pcs of tomato, 1 leaf of lettuce, 2 slices of bread, 10 g of butter\n",
      "Ham Omelette ($7): 50 g of ham, 1 pc of egg, 100 g of cheese, 10 g of butter\n",
      "Pancake ($6): 200 g of flour, 100 ml of milk, 1 pc of egg, 10 g of butter, 50 g of sugar\n",
      "Dessert Menu:\n",
      "Chocolate Cake ($10): 200 g of flour, 100 ml of milk, 1 pc of egg, 10 g of butter, 50 g of sugar, 100 g of chocolate\n"
     ]
    }
   ],
   "source": [
    "###14. Create a Python class hierarchy for a restaurant system, using composition to represent menus, dishes, and ingredients.\n",
    "\n",
    "# Define a class for ingredients\n",
    "class Ingredient:\n",
    "    def __init__(self, name, quantity, unit):\n",
    "        self.name = name # the name of the ingredient\n",
    "        self.quantity = quantity # the amount of the ingredient\n",
    "        self.unit = unit # the unit of measurement for the ingredient\n",
    "\n",
    "    def __str__(self):\n",
    "        return f\"{self.quantity} {self.unit} of {self.name}\"\n",
    "\n",
    "# Define a class for dishes\n",
    "class Dish:\n",
    "    def __init__(self, name, price, ingredients):\n",
    "        self.name = name # the name of the dish\n",
    "        self.price = price # the price of the dish\n",
    "        self.ingredients = ingredients # a list of Ingredient objects\n",
    "\n",
    "    def __str__(self):\n",
    "        return f\"{self.name} (${self.price}): {', '.join(str(ing) for ing in self.ingredients)}\"\n",
    "\n",
    "# Define a class for menus\n",
    "class Menu:\n",
    "    def __init__(self, name, dishes):\n",
    "        self.name = name # the name of the menu\n",
    "        self.dishes = dishes # a list of Dish objects\n",
    "\n",
    "    def __str__(self):\n",
    "        return f\"{self.name} Menu:\\n\" + \"\\n\".join(str(dish) for dish in self.dishes)\n",
    "\n",
    "# Define a class for restaurant\n",
    "class Restaurant:\n",
    "    def __init__(self, name, menus):\n",
    "        self.name = name # the name of the restaurant\n",
    "        self.menus = menus # a list of Menu objects\n",
    "\n",
    "    def __str__(self):\n",
    "        return f\"{self.name} Restaurant:\\n\" + \"\\n\".join(str(menu) for menu in self.menus)\n",
    "\n",
    "# Create some ingredients\n",
    "cheese = Ingredient(\"cheese\", 100, \"g\")\n",
    "tomato = Ingredient(\"tomato\", 2, \"pcs\")\n",
    "lettuce = Ingredient(\"lettuce\", 1, \"leaf\")\n",
    "bread = Ingredient(\"bread\", 2, \"slices\")\n",
    "butter = Ingredient(\"butter\", 10, \"g\")\n",
    "ham = Ingredient(\"ham\", 50, \"g\")\n",
    "egg = Ingredient(\"egg\", 1, \"pc\")\n",
    "flour = Ingredient(\"flour\", 200, \"g\")\n",
    "milk = Ingredient(\"milk\", 100, \"ml\")\n",
    "sugar = Ingredient(\"sugar\", 50, \"g\")\n",
    "chocolate = Ingredient(\"chocolate\", 100, \"g\")\n",
    "\n",
    "# Create some dishes\n",
    "cheese_sandwich = Dish(\"Cheese Sandwich\", 5, [cheese, tomato, lettuce, bread, butter])\n",
    "ham_omelette = Dish(\"Ham Omelette\", 7, [ham, egg, cheese, butter])\n",
    "pancake = Dish(\"Pancake\", 6, [flour, milk, egg, butter, sugar])\n",
    "chocolate_cake = Dish(\"Chocolate Cake\", 10, [flour, milk, egg, butter, sugar, chocolate])\n",
    "\n",
    "# Create some menus\n",
    "breakfast_menu = Menu(\"Breakfast\", [cheese_sandwich, ham_omelette, pancake])\n",
    "dessert_menu = Menu(\"Dessert\", [chocolate_cake])\n",
    "\n",
    "# Create a restaurant\n",
    "restaurant = Restaurant(\"Bing's Cafe\", [breakfast_menu, dessert_menu])\n",
    "\n",
    "# Print the restaurant\n",
    "print(restaurant)\n"
   ]
  },
  {
   "cell_type": "code",
   "execution_count": 16,
   "id": "9019a859-7ffa-4aff-b187-2fbddc354511",
   "metadata": {},
   "outputs": [
    {
     "name": "stdout",
     "output_type": "stream",
     "text": [
      "Engine created with 271 HP\n",
      "Car created: Tesla Model 3, red\n",
      "Engine started\n",
      "Car Tesla Model 3 is driving\n"
     ]
    }
   ],
   "source": [
    "##15. Explain how composition enhances code maintainability and modularity in Python programs.\n",
    "\"\"\"Composition is an object-oriented design concept that models a has-a relationship1. In composition, a class known as composite contains an object of another class known as component1. In other words, a composite class has a component of another class2.\n",
    "\n",
    "Composition enhances code maintainability and modularity in Python programs by allowing us to reuse existing code without inheriting from it1. This means that we can change or replace the component class without affecting the composite class1. Composition also allows us to delegate some functionality to the component class, reducing the complexity and responsibility of the composite class3\"\"\"\n",
    "\n",
    "# Component class\n",
    "class Engine:\n",
    "    def __init__(self, power):\n",
    "        self.power = power # in horsepower\n",
    "        print(f\"Engine created with {self.power} HP\")\n",
    "\n",
    "    def start(self):\n",
    "        print(\"Engine started\")\n",
    "\n",
    "# Composite class\n",
    "class Car:\n",
    "    def __init__(self, model, color, engine_power):\n",
    "        self.model = model\n",
    "        self.color = color\n",
    "        self.engine = Engine(engine_power) # has-a Engine object\n",
    "        print(f\"Car created: {self.model}, {self.color}\")\n",
    "\n",
    "    def drive(self):\n",
    "        self.engine.start() # delegate to Engine object\n",
    "        print(f\"Car {self.model} is driving\")\n",
    "\n",
    "# Create a Car object\n",
    "car = Car(\"Tesla Model 3\", \"red\", 271)\n",
    "car.drive()\n",
    "\n",
    "\n"
   ]
  },
  {
   "cell_type": "code",
   "execution_count": 17,
   "id": "258d3f4b-1f55-4b0b-b2e8-36dbb82b2654",
   "metadata": {},
   "outputs": [
    {
     "name": "stdout",
     "output_type": "stream",
     "text": [
      "Name: Hero\n",
      "Weapon: Sword, Damage: 10, Durability: 5\n",
      "Armor: Shield, Defense: 5, Durability: 5\n",
      "Inventory: ['Potion', 'Gold']\n",
      "Attacking with Sword for 10 damage\n",
      "Defending with Shield for 5 defense\n",
      "Adding Key to the inventory\n",
      "Name: Hero\n",
      "Weapon: Sword, Damage: 10, Durability: 4\n",
      "Armor: Shield, Defense: 5, Durability: 4\n",
      "Inventory: ['Potion', 'Gold', 'Key']\n"
     ]
    }
   ],
   "source": [
    "##16. Create a Python class for a computer game character, using composition to represent attributes like weapons, armor, and inventory.\n",
    "\n",
    "# Define a class for weapons\n",
    "class Weapon:\n",
    "    def __init__(self, name, damage, durability):\n",
    "        self.name = name # The name of the weapon\n",
    "        self.damage = damage # The damage it can inflict\n",
    "        self.durability = durability # The durability of the weapon\n",
    "\n",
    "    def attack(self):\n",
    "        # A method to perform an attack with the weapon\n",
    "        print(f\"Attacking with {self.name} for {self.damage} damage\")\n",
    "        self.durability -= 1 # Reduce the durability by 1\n",
    "        if self.durability == 0:\n",
    "            print(f\"{self.name} is broken\")\n",
    "    \n",
    "    def repair(self):\n",
    "        # A method to repair the weapon\n",
    "        print(f\"Repairing {self.name}\")\n",
    "        self.durability += 1 # Increase the durability by 1\n",
    "\n",
    "# Define a class for armor\n",
    "class Armor:\n",
    "    def __init__(self, name, defense, durability):\n",
    "        self.name = name # The name of the armor\n",
    "        self.defense = defense # The defense it can provide\n",
    "        self.durability = durability # The durability of the armor\n",
    "\n",
    "    def defend(self):\n",
    "        # A method to perform a defense with the armor\n",
    "        print(f\"Defending with {self.name} for {self.defense} defense\")\n",
    "        self.durability -= 1 # Reduce the durability by 1\n",
    "        if self.durability == 0:\n",
    "            print(f\"{self.name} is broken\")\n",
    "    \n",
    "    def repair(self):\n",
    "        # A method to repair the armor\n",
    "        print(f\"Repairing {self.name}\")\n",
    "        self.durability += 1 # Increase the durability by 1\n",
    "\n",
    "# Define a class for inventory\n",
    "class Inventory:\n",
    "    def __init__(self, items):\n",
    "        self.items = items # A list of items in the inventory\n",
    "\n",
    "    def add_item(self, item):\n",
    "        # A method to add an item to the inventory\n",
    "        print(f\"Adding {item} to the inventory\")\n",
    "        self.items.append(item) # Append the item to the list\n",
    "    \n",
    "    def remove_item(self, item):\n",
    "        # A method to remove an item from the inventory\n",
    "        print(f\"Removing {item} from the inventory\")\n",
    "        self.items.remove(item) # Remove the item from the list\n",
    "\n",
    "# Define a class for character using composition\n",
    "class Character:\n",
    "    def __init__(self, name, weapon, armor, inventory):\n",
    "        self.name = name # The name of the character\n",
    "        self.weapon = weapon # A Weapon object as a component\n",
    "        self.armor = armor # An Armor object as a component\n",
    "        self.inventory = inventory # An Inventory object as a component\n",
    "\n",
    "    def show_status(self):\n",
    "        # A method to show the status of the character\n",
    "        print(f\"Name: {self.name}\")\n",
    "        print(f\"Weapon: {self.weapon.name}, Damage: {self.weapon.damage}, Durability: {self.weapon.durability}\")\n",
    "        print(f\"Armor: {self.armor.name}, Defense: {self.armor.defense}, Durability: {self.armor.durability}\")\n",
    "        print(f\"Inventory: {self.inventory.items}\")\n",
    "\n",
    "# Create an example character\n",
    "sword = Weapon(\"Sword\", 10, 5) # Create a weapon object\n",
    "shield = Armor(\"Shield\", 5, 5) # Create an armor object\n",
    "bag = Inventory([\"Potion\", \"Gold\"]) # Create an inventory object\n",
    "hero = Character(\"Hero\", sword, shield, bag) # Create a character object using composition\n",
    "\n",
    "# Test the character's methods\n",
    "hero.show_status()\n",
    "hero.weapon.attack()\n",
    "hero.armor.defend()\n",
    "hero.inventory.add_item(\"Key\")\n",
    "hero.show_status()\n"
   ]
  },
  {
   "cell_type": "code",
   "execution_count": 18,
   "id": "300e83ba-a7ea-43a4-a694-aef46ed5ec2f",
   "metadata": {},
   "outputs": [
    {
     "data": {
      "text/plain": [
       "'Aggregation is a special form of composition where the composed object can exist independently of the composite object. It represents a “has-a” relationship between two classes. For example, a bank has employees, but the employees can exist without the bank. Aggregation is also unidirectional, meaning that the composite object can access the composed object, but not vice versa1.\\n\\nSimple composition is a restricted form of aggregation where the composed object cannot exist without the composite object. It represents a “part-of” relationship between two classes. For example, a human has a heart, but the heart cannot exist without the human. Simple composition is also bidirectional, meaning that the composite object and the composed object can access each other2.\\n\\nThe main difference between aggregation and simple composition is the degree of dependency between the two classes. Aggregation implies a weaker relationship, while simple composition implies a stronger relationship'"
      ]
     },
     "execution_count": 18,
     "metadata": {},
     "output_type": "execute_result"
    }
   ],
   "source": [
    "##17. Describe the concept of \"aggregation\" in composition and how it differs from simple composition.\n",
    "\"\"\"Aggregation is a special form of composition where the composed object can exist independently of the composite object. It represents a “has-a” relationship between two classes. For example, a bank has employees, but the employees can exist without the bank. Aggregation is also unidirectional, meaning that the composite object can access the composed object, but not vice versa1.\n",
    "\n",
    "Simple composition is a restricted form of aggregation where the composed object cannot exist without the composite object. It represents a “part-of” relationship between two classes. For example, a human has a heart, but the heart cannot exist without the human. Simple composition is also bidirectional, meaning that the composite object and the composed object can access each other2.\n",
    "\n",
    "The main difference between aggregation and simple composition is the degree of dependency between the two classes. Aggregation implies a weaker relationship, while simple composition implies a stronger relationship\"\"\"\n"
   ]
  },
  {
   "cell_type": "code",
   "execution_count": 19,
   "id": "567474ca-a6d3-41ed-98db-a77c4a376038",
   "metadata": {},
   "outputs": [
    {
     "name": "stdout",
     "output_type": "stream",
     "text": [
      "This house has 3 rooms and 3 appliances.\n",
      "Bedroom has 3 furniture: bed, wardrobe, nightstand\n",
      "Kitchen has 3 furniture: stove, sink, refrigerator\n",
      "Living room has 3 furniture: sofa, TV, coffee table\n",
      "Fan consumes 50 watts of electricity\n",
      "Microwave consumes 800 watts of electricity\n",
      "Air conditioner consumes 1500 watts of electricity\n"
     ]
    }
   ],
   "source": [
    "#18. Create a Python class for a house, using composition to represent rooms, furniture, and appliances.\n",
    "\n",
    "# Define a class for a room\n",
    "class Room:\n",
    "    # Initialize the room with a name and a list of furniture\n",
    "    def __init__(self, name, furniture):\n",
    "        self.name = name\n",
    "        self.furniture = furniture\n",
    "\n",
    "    # Return a string representation of the room\n",
    "    def __str__(self):\n",
    "        return f\"{self.name} has {len(self.furniture)} furniture: {', '.join(self.furniture)}\"\n",
    "\n",
    "# Define a class for an appliance\n",
    "class Appliance:\n",
    "    # Initialize the appliance with a name and a power consumption\n",
    "    def __init__(self, name, power):\n",
    "        self.name = name\n",
    "        self.power = power\n",
    "\n",
    "    # Return a string representation of the appliance\n",
    "    def __str__(self):\n",
    "        return f\"{self.name} consumes {self.power} watts of electricity\"\n",
    "\n",
    "# Define a class for a house\n",
    "class House:\n",
    "    # Initialize the house with a list of rooms and a list of appliances\n",
    "    def __init__(self, rooms, appliances):\n",
    "        self.rooms = rooms\n",
    "        self.appliances = appliances\n",
    "\n",
    "    # Return a string representation of the house\n",
    "    def __str__(self):\n",
    "        return f\"This house has {len(self.rooms)} rooms and {len(self.appliances)} appliances.\\n\" + \\\n",
    "               \"\\n\".join([str(room) for room in self.rooms]) + \"\\n\" + \\\n",
    "               \"\\n\".join([str(appliance) for appliance in self.appliances])\n",
    "\n",
    "# Create some rooms\n",
    "bedroom = Room(\"Bedroom\", [\"bed\", \"wardrobe\", \"nightstand\"])\n",
    "kitchen = Room(\"Kitchen\", [\"stove\", \"sink\", \"refrigerator\"])\n",
    "living_room = Room(\"Living room\", [\"sofa\", \"TV\", \"coffee table\"])\n",
    "\n",
    "# Create some appliances\n",
    "fan = Appliance(\"Fan\", 50)\n",
    "microwave = Appliance(\"Microwave\", 800)\n",
    "air_conditioner = Appliance(\"Air conditioner\", 1500)\n",
    "\n",
    "# Create a house\n",
    "house = House([bedroom, kitchen, living_room], [fan, microwave, air_conditioner])\n",
    "\n",
    "# Print the house\n",
    "print(house)\n"
   ]
  },
  {
   "cell_type": "code",
   "execution_count": 20,
   "id": "bca62139-8639-428d-adfb-8ec25241a3e6",
   "metadata": {},
   "outputs": [
    {
     "data": {
      "text/plain": [
       "'One way to achieve flexibility in composed objects is to use the strategy pattern. The strategy pattern is a behavioral design pattern that defines a family of interchangeable algorithms that can be selected at runtime1. The strategy pattern allows the composed object to delegate some of its behavior to a separate object, called a strategy, that can be replaced or modified without affecting the composed object2.\\n\\nFor example, suppose we have a composed object that represents a car, and we want to change its braking behavior depending on the road conditions. We can define an abstract strategy interface that specifies a method for braking, and then implement different concrete strategies that perform different braking algorithms, such as normal braking, anti-lock braking, or emergency braking. The car object can have a reference to a strategy object that implements the braking interface, and use it to brake when needed. The strategy object can be changed at runtime by passing a different strategy object to the car object, thus achieving flexibility in the composed object.'"
      ]
     },
     "execution_count": 20,
     "metadata": {},
     "output_type": "execute_result"
    }
   ],
   "source": [
    "##19. How can you achieve flexibility in composed objects by allowing them to be replaced or modified dynamically at runtime?\n",
    "\n",
    "\n",
    "\"\"\"One way to achieve flexibility in composed objects is to use the strategy pattern. The strategy pattern is a behavioral design pattern that defines a family of interchangeable algorithms that can be selected at runtime1. The strategy pattern allows the composed object to delegate some of its behavior to a separate object, called a strategy, that can be replaced or modified without affecting the composed object2.\n",
    "\n",
    "For example, suppose we have a composed object that represents a car, and we want to change its braking behavior depending on the road conditions. We can define an abstract strategy interface that specifies a method for braking, and then implement different concrete strategies that perform different braking algorithms, such as normal braking, anti-lock braking, or emergency braking. The car object can have a reference to a strategy object that implements the braking interface, and use it to brake when needed. The strategy object can be changed at runtime by passing a different strategy object to the car object, thus achieving flexibility in the composed object.\"\"\""
   ]
  },
  {
   "cell_type": "code",
   "execution_count": 21,
   "id": "631eb934-19ad-4b86-940a-8fd54b9cfd03",
   "metadata": {},
   "outputs": [],
   "source": [
    "#20. Create a Python class for a social media application, using composition to represent users, posts, and comments.\n",
    "\n",
    "# Define a class for users\n",
    "class User:\n",
    "    # Initialize a user with a name, email, and password\n",
    "    def __init__(self, name, email, password):\n",
    "        self.name = name\n",
    "        self.email = email\n",
    "        self.password = password\n",
    "        self.following = [] # A list of users that this user is following\n",
    "        self.posts = [] # A list of posts that this user has created\n",
    "\n",
    "    # Define a method for following another user\n",
    "    def follow(self, other):\n",
    "        # Check if the other user is already in the following list\n",
    "        if other not in self.following:\n",
    "            # Add the other user to the following list\n",
    "            self.following.append(other)\n",
    "\n",
    "    # Define a method for creating a new post\n",
    "    def create_post(self, content):\n",
    "        # Create a new post object with the content and the user as the author\n",
    "        post = Post(content, self)\n",
    "        # Add the post to the user's posts list\n",
    "        self.posts.append(post)\n",
    "        # Return the post object\n",
    "        return post\n",
    "\n",
    "# Define a class for posts\n",
    "class Post:\n",
    "    # Initialize a post with content and author\n",
    "    def __init__(self, content, author):\n",
    "        self.content = content\n",
    "        self.author = author\n",
    "        self.comments = [] # A list of comments that this post has received\n",
    "\n",
    "    # Define a method for adding a comment to the post\n",
    "    def add_comment(self, content, commenter):\n",
    "        # Create a new comment object with the content and the commenter\n",
    "        comment = Comment(content, commenter)\n",
    "        # Add the comment to the post's comments list\n",
    "        self.comments.append(comment)\n",
    "        # Return the comment object\n",
    "        return comment\n",
    "\n",
    "# Define a class for comments\n",
    "class Comment:\n",
    "    # Initialize a comment with content and commenter\n",
    "    def __init__(self, content, commenter):\n",
    "        self.content = content\n",
    "        self.commenter = commenter\n"
   ]
  },
  {
   "cell_type": "code",
   "execution_count": 22,
   "id": "9815bf4b-9223-496f-b6dd-9bc96e3a24e0",
   "metadata": {},
   "outputs": [],
   "source": [
    "#complete"
   ]
  },
  {
   "cell_type": "code",
   "execution_count": null,
   "id": "4471ab7e-67e5-45ee-9c20-575403bd3dea",
   "metadata": {},
   "outputs": [],
   "source": []
  }
 ],
 "metadata": {
  "kernelspec": {
   "display_name": "Python 3 (ipykernel)",
   "language": "python",
   "name": "python3"
  },
  "language_info": {
   "codemirror_mode": {
    "name": "ipython",
    "version": 3
   },
   "file_extension": ".py",
   "mimetype": "text/x-python",
   "name": "python",
   "nbconvert_exporter": "python",
   "pygments_lexer": "ipython3",
   "version": "3.10.8"
  }
 },
 "nbformat": 4,
 "nbformat_minor": 5
}
